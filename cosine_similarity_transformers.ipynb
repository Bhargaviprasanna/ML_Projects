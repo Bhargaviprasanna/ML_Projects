{
  "nbformat": 4,
  "nbformat_minor": 0,
  "metadata": {
    "colab": {
      "name": "cosine_similarity_transformers.ipynb",
      "provenance": [],
      "collapsed_sections": [],
      "authorship_tag": "ABX9TyPulw6efm4aMMLSlAlgLaX+"
    },
    "kernelspec": {
      "name": "python3",
      "display_name": "Python 3"
    },
    "language_info": {
      "name": "python"
    },
    "widgets": {
      "application/vnd.jupyter.widget-state+json": {
        "94530d0aede34928a3544c5034dc4ed7": {
          "model_module": "@jupyter-widgets/controls",
          "model_name": "HBoxModel",
          "state": {
            "_view_name": "HBoxView",
            "_dom_classes": [],
            "_model_name": "HBoxModel",
            "_view_module": "@jupyter-widgets/controls",
            "_model_module_version": "1.5.0",
            "_view_count": null,
            "_view_module_version": "1.5.0",
            "box_style": "",
            "layout": "IPY_MODEL_972f0b78cf604a5fb8a7088e43558fc8",
            "_model_module": "@jupyter-widgets/controls",
            "children": [
              "IPY_MODEL_680e499c2c7b42adbc94c8df89107c0d",
              "IPY_MODEL_ddb5cca9e3124dd9af7573a804931fd8",
              "IPY_MODEL_091024f5789647b382440243408cecfc"
            ]
          }
        },
        "972f0b78cf604a5fb8a7088e43558fc8": {
          "model_module": "@jupyter-widgets/base",
          "model_name": "LayoutModel",
          "state": {
            "_view_name": "LayoutView",
            "grid_template_rows": null,
            "right": null,
            "justify_content": null,
            "_view_module": "@jupyter-widgets/base",
            "overflow": null,
            "_model_module_version": "1.2.0",
            "_view_count": null,
            "flex_flow": null,
            "width": null,
            "min_width": null,
            "border": null,
            "align_items": null,
            "bottom": null,
            "_model_module": "@jupyter-widgets/base",
            "top": null,
            "grid_column": null,
            "overflow_y": null,
            "overflow_x": null,
            "grid_auto_flow": null,
            "grid_area": null,
            "grid_template_columns": null,
            "flex": null,
            "_model_name": "LayoutModel",
            "justify_items": null,
            "grid_row": null,
            "max_height": null,
            "align_content": null,
            "visibility": null,
            "align_self": null,
            "height": null,
            "min_height": null,
            "padding": null,
            "grid_auto_rows": null,
            "grid_gap": null,
            "max_width": null,
            "order": null,
            "_view_module_version": "1.2.0",
            "grid_template_areas": null,
            "object_position": null,
            "object_fit": null,
            "grid_auto_columns": null,
            "margin": null,
            "display": null,
            "left": null
          }
        },
        "680e499c2c7b42adbc94c8df89107c0d": {
          "model_module": "@jupyter-widgets/controls",
          "model_name": "HTMLModel",
          "state": {
            "_view_name": "HTMLView",
            "style": "IPY_MODEL_5b3e99e3ac174642888c0a6f3a0eba07",
            "_dom_classes": [],
            "description": "",
            "_model_name": "HTMLModel",
            "placeholder": "​",
            "_view_module": "@jupyter-widgets/controls",
            "_model_module_version": "1.5.0",
            "value": "100%",
            "_view_count": null,
            "_view_module_version": "1.5.0",
            "description_tooltip": null,
            "_model_module": "@jupyter-widgets/controls",
            "layout": "IPY_MODEL_a8c5235ae7cf4705b9fbccdb131a7df6"
          }
        },
        "ddb5cca9e3124dd9af7573a804931fd8": {
          "model_module": "@jupyter-widgets/controls",
          "model_name": "FloatProgressModel",
          "state": {
            "_view_name": "ProgressView",
            "style": "IPY_MODEL_f33b239b657d4c6eacce9c0a2c4f06d9",
            "_dom_classes": [],
            "description": "",
            "_model_name": "FloatProgressModel",
            "bar_style": "success",
            "max": 1313945868,
            "_view_module": "@jupyter-widgets/controls",
            "_model_module_version": "1.5.0",
            "value": 1313945868,
            "_view_count": null,
            "_view_module_version": "1.5.0",
            "orientation": "horizontal",
            "min": 0,
            "description_tooltip": null,
            "_model_module": "@jupyter-widgets/controls",
            "layout": "IPY_MODEL_26b7fda324524361bda85b8209fc217e"
          }
        },
        "091024f5789647b382440243408cecfc": {
          "model_module": "@jupyter-widgets/controls",
          "model_name": "HTMLModel",
          "state": {
            "_view_name": "HTMLView",
            "style": "IPY_MODEL_74e0013fb8ee4bd898ee12f65c287f25",
            "_dom_classes": [],
            "description": "",
            "_model_name": "HTMLModel",
            "placeholder": "​",
            "_view_module": "@jupyter-widgets/controls",
            "_model_module_version": "1.5.0",
            "value": " 1.31G/1.31G [01:00&lt;00:00, 25.0MB/s]",
            "_view_count": null,
            "_view_module_version": "1.5.0",
            "description_tooltip": null,
            "_model_module": "@jupyter-widgets/controls",
            "layout": "IPY_MODEL_eddbee0fb0594df68656bb54b49057ae"
          }
        },
        "5b3e99e3ac174642888c0a6f3a0eba07": {
          "model_module": "@jupyter-widgets/controls",
          "model_name": "DescriptionStyleModel",
          "state": {
            "_view_name": "StyleView",
            "_model_name": "DescriptionStyleModel",
            "description_width": "",
            "_view_module": "@jupyter-widgets/base",
            "_model_module_version": "1.5.0",
            "_view_count": null,
            "_view_module_version": "1.2.0",
            "_model_module": "@jupyter-widgets/controls"
          }
        },
        "a8c5235ae7cf4705b9fbccdb131a7df6": {
          "model_module": "@jupyter-widgets/base",
          "model_name": "LayoutModel",
          "state": {
            "_view_name": "LayoutView",
            "grid_template_rows": null,
            "right": null,
            "justify_content": null,
            "_view_module": "@jupyter-widgets/base",
            "overflow": null,
            "_model_module_version": "1.2.0",
            "_view_count": null,
            "flex_flow": null,
            "width": null,
            "min_width": null,
            "border": null,
            "align_items": null,
            "bottom": null,
            "_model_module": "@jupyter-widgets/base",
            "top": null,
            "grid_column": null,
            "overflow_y": null,
            "overflow_x": null,
            "grid_auto_flow": null,
            "grid_area": null,
            "grid_template_columns": null,
            "flex": null,
            "_model_name": "LayoutModel",
            "justify_items": null,
            "grid_row": null,
            "max_height": null,
            "align_content": null,
            "visibility": null,
            "align_self": null,
            "height": null,
            "min_height": null,
            "padding": null,
            "grid_auto_rows": null,
            "grid_gap": null,
            "max_width": null,
            "order": null,
            "_view_module_version": "1.2.0",
            "grid_template_areas": null,
            "object_position": null,
            "object_fit": null,
            "grid_auto_columns": null,
            "margin": null,
            "display": null,
            "left": null
          }
        },
        "f33b239b657d4c6eacce9c0a2c4f06d9": {
          "model_module": "@jupyter-widgets/controls",
          "model_name": "ProgressStyleModel",
          "state": {
            "_view_name": "StyleView",
            "_model_name": "ProgressStyleModel",
            "description_width": "",
            "_view_module": "@jupyter-widgets/base",
            "_model_module_version": "1.5.0",
            "_view_count": null,
            "_view_module_version": "1.2.0",
            "bar_color": null,
            "_model_module": "@jupyter-widgets/controls"
          }
        },
        "26b7fda324524361bda85b8209fc217e": {
          "model_module": "@jupyter-widgets/base",
          "model_name": "LayoutModel",
          "state": {
            "_view_name": "LayoutView",
            "grid_template_rows": null,
            "right": null,
            "justify_content": null,
            "_view_module": "@jupyter-widgets/base",
            "overflow": null,
            "_model_module_version": "1.2.0",
            "_view_count": null,
            "flex_flow": null,
            "width": null,
            "min_width": null,
            "border": null,
            "align_items": null,
            "bottom": null,
            "_model_module": "@jupyter-widgets/base",
            "top": null,
            "grid_column": null,
            "overflow_y": null,
            "overflow_x": null,
            "grid_auto_flow": null,
            "grid_area": null,
            "grid_template_columns": null,
            "flex": null,
            "_model_name": "LayoutModel",
            "justify_items": null,
            "grid_row": null,
            "max_height": null,
            "align_content": null,
            "visibility": null,
            "align_self": null,
            "height": null,
            "min_height": null,
            "padding": null,
            "grid_auto_rows": null,
            "grid_gap": null,
            "max_width": null,
            "order": null,
            "_view_module_version": "1.2.0",
            "grid_template_areas": null,
            "object_position": null,
            "object_fit": null,
            "grid_auto_columns": null,
            "margin": null,
            "display": null,
            "left": null
          }
        },
        "74e0013fb8ee4bd898ee12f65c287f25": {
          "model_module": "@jupyter-widgets/controls",
          "model_name": "DescriptionStyleModel",
          "state": {
            "_view_name": "StyleView",
            "_model_name": "DescriptionStyleModel",
            "description_width": "",
            "_view_module": "@jupyter-widgets/base",
            "_model_module_version": "1.5.0",
            "_view_count": null,
            "_view_module_version": "1.2.0",
            "_model_module": "@jupyter-widgets/controls"
          }
        },
        "eddbee0fb0594df68656bb54b49057ae": {
          "model_module": "@jupyter-widgets/base",
          "model_name": "LayoutModel",
          "state": {
            "_view_name": "LayoutView",
            "grid_template_rows": null,
            "right": null,
            "justify_content": null,
            "_view_module": "@jupyter-widgets/base",
            "overflow": null,
            "_model_module_version": "1.2.0",
            "_view_count": null,
            "flex_flow": null,
            "width": null,
            "min_width": null,
            "border": null,
            "align_items": null,
            "bottom": null,
            "_model_module": "@jupyter-widgets/base",
            "top": null,
            "grid_column": null,
            "overflow_y": null,
            "overflow_x": null,
            "grid_auto_flow": null,
            "grid_area": null,
            "grid_template_columns": null,
            "flex": null,
            "_model_name": "LayoutModel",
            "justify_items": null,
            "grid_row": null,
            "max_height": null,
            "align_content": null,
            "visibility": null,
            "align_self": null,
            "height": null,
            "min_height": null,
            "padding": null,
            "grid_auto_rows": null,
            "grid_gap": null,
            "max_width": null,
            "order": null,
            "_view_module_version": "1.2.0",
            "grid_template_areas": null,
            "object_position": null,
            "object_fit": null,
            "grid_auto_columns": null,
            "margin": null,
            "display": null,
            "left": null
          }
        }
      }
    }
  },
  "cells": [
    {
      "cell_type": "markdown",
      "metadata": {
        "id": "BIE4R-7claQE"
      },
      "source": [
        "https://towardsdatascience.com/semantic-similarity-using-transformers-8f3cb5bf66d6\n",
        "\n",
        "\n",
        "https://www.sbert.net/"
      ]
    },
    {
      "cell_type": "code",
      "metadata": {
        "id": "LeGiZBrmSNSJ"
      },
      "source": [
        " "
      ],
      "execution_count": null,
      "outputs": []
    },
    {
      "cell_type": "code",
      "metadata": {
        "id": "3Ddk6Y9haXry"
      },
      "source": [
        "pip install transformers"
      ],
      "execution_count": null,
      "outputs": []
    },
    {
      "cell_type": "code",
      "metadata": {
        "id": "fFdtLh4Rh6Oi"
      },
      "source": [
        "pip install sentence-transformers"
      ],
      "execution_count": null,
      "outputs": []
    },
    {
      "cell_type": "code",
      "metadata": {
        "id": "LrpgVEzKiBP6"
      },
      "source": [
        "from sentence_transformers import SentenceTransformer, util\n",
        "import numpy as np"
      ],
      "execution_count": null,
      "outputs": []
    },
    {
      "cell_type": "code",
      "metadata": {
        "id": "cw4fScbYbWYk"
      },
      "source": [
        "text = ['I think she is bhargavi','her name is bhargavi prasanna']"
      ],
      "execution_count": null,
      "outputs": []
    },
    {
      "cell_type": "code",
      "metadata": {
        "id": "BRvvU7DgbWTL"
      },
      "source": [
        "encodings = tokenizer(text, padding=True, return_tensors='pt')\n",
        "# text2_en = tokenizer(text2)"
      ],
      "execution_count": null,
      "outputs": []
    },
    {
      "cell_type": "code",
      "metadata": {
        "id": "5dv3RdNdeL7U"
      },
      "source": [
        "import torch"
      ],
      "execution_count": null,
      "outputs": []
    },
    {
      "cell_type": "code",
      "metadata": {
        "id": "A227u-xbeLtr"
      },
      "source": [
        "cosine = torch.nn.CosineSimilarity(dim=1, eps=1e-08)\n"
      ],
      "execution_count": null,
      "outputs": []
    },
    {
      "cell_type": "code",
      "metadata": {
        "id": "iO_KrDmTjeg6"
      },
      "source": [
        "text1 = 'Hi, this is bhargavi prasanna bommidi'\n",
        "text2 = 'This is bhargavi prasanna bommidi speaking'"
      ],
      "execution_count": null,
      "outputs": []
    },
    {
      "cell_type": "code",
      "metadata": {
        "colab": {
          "base_uri": "https://localhost:8080/",
          "height": 49,
          "referenced_widgets": [
            "94530d0aede34928a3544c5034dc4ed7",
            "972f0b78cf604a5fb8a7088e43558fc8",
            "680e499c2c7b42adbc94c8df89107c0d",
            "ddb5cca9e3124dd9af7573a804931fd8",
            "091024f5789647b382440243408cecfc",
            "5b3e99e3ac174642888c0a6f3a0eba07",
            "a8c5235ae7cf4705b9fbccdb131a7df6",
            "f33b239b657d4c6eacce9c0a2c4f06d9",
            "26b7fda324524361bda85b8209fc217e",
            "74e0013fb8ee4bd898ee12f65c287f25",
            "eddbee0fb0594df68656bb54b49057ae"
          ]
        },
        "id": "1frFvH7-iFKS",
        "outputId": "24d78c7d-3c0d-4c54-a075-575a30dca6de"
      },
      "source": [
        "model2 = SentenceTransformer('stsb-roberta-large')"
      ],
      "execution_count": null,
      "outputs": [
        {
          "output_type": "display_data",
          "data": {
            "application/vnd.jupyter.widget-view+json": {
              "model_id": "94530d0aede34928a3544c5034dc4ed7",
              "version_minor": 0,
              "version_major": 2
            },
            "text/plain": [
              "  0%|          | 0.00/1.31G [00:00<?, ?B/s]"
            ]
          },
          "metadata": {
            "tags": []
          }
        }
      ]
    },
    {
      "cell_type": "code",
      "metadata": {
        "id": "jYhV41cKlj7B"
      },
      "source": [
        "model = model2"
      ],
      "execution_count": null,
      "outputs": []
    },
    {
      "cell_type": "code",
      "metadata": {
        "id": "4p87UjzkiFHx"
      },
      "source": [
        "emb = model2.encode(text1, convert_to_tensor=True)\n",
        "emb2 = model2.encode(text2, convert_to_tensor=True)"
      ],
      "execution_count": null,
      "outputs": []
    },
    {
      "cell_type": "code",
      "metadata": {
        "id": "Dt9m--AOiFFK"
      },
      "source": [
        "op2 = util.pytorch_cos_sim(emb, emb2)"
      ],
      "execution_count": null,
      "outputs": []
    },
    {
      "cell_type": "code",
      "metadata": {
        "colab": {
          "base_uri": "https://localhost:8080/"
        },
        "id": "vUmXUftUiFCS",
        "outputId": "ab6c7850-4557-41da-a21e-04fcb926d3d7"
      },
      "source": [
        "op2.item()"
      ],
      "execution_count": null,
      "outputs": [
        {
          "output_type": "execute_result",
          "data": {
            "text/plain": [
              "0.8852770924568176"
            ]
          },
          "metadata": {
            "tags": []
          },
          "execution_count": 42
        }
      ]
    },
    {
      "cell_type": "markdown",
      "metadata": {
        "id": "7wz5c8dYlKhb"
      },
      "source": [
        "# similarities in a Corpus"
      ]
    },
    {
      "cell_type": "code",
      "metadata": {
        "id": "CGhFPGmqiE_J"
      },
      "source": [
        "corpus = [\"My name is Bhargavi\",\n",
        "          \"I like to eat chocolates alot\",\n",
        "          \"Bhargavi is grounded for drinking coke\",\n",
        "         \"She love shopping and she is a shopoholic\"]"
      ],
      "execution_count": null,
      "outputs": []
    },
    {
      "cell_type": "code",
      "metadata": {
        "id": "B03fWYTUlTOR"
      },
      "source": [
        "corpus_embeddings = model.encode(corpus, convert_to_tensor=True)"
      ],
      "execution_count": null,
      "outputs": []
    },
    {
      "cell_type": "code",
      "metadata": {
        "id": "FlsPeK5OlTIy"
      },
      "source": [
        "sentence = \"do u know bhargavi?\"\n",
        "# encode sentence to get sentence embeddings\n",
        "sentence_embedding = model.encode(sentence, convert_to_tensor=True)"
      ],
      "execution_count": null,
      "outputs": []
    },
    {
      "cell_type": "code",
      "metadata": {
        "id": "NNcyJZ60lTFB"
      },
      "source": [
        "cos_scores = util.pytorch_cos_sim(sentence_embedding, corpus_embeddings)[0]"
      ],
      "execution_count": null,
      "outputs": []
    },
    {
      "cell_type": "code",
      "metadata": {
        "id": "k7AjVlEClS_Z"
      },
      "source": [
        "top_results = np.argpartition(-cos_scores, range(2))"
      ],
      "execution_count": null,
      "outputs": []
    },
    {
      "cell_type": "code",
      "metadata": {
        "colab": {
          "base_uri": "https://localhost:8080/"
        },
        "id": "uC978DxYmPUy",
        "outputId": "b8f123e2-110c-41de-f981-a38df5c98e79"
      },
      "source": [
        "top_results"
      ],
      "execution_count": null,
      "outputs": [
        {
          "output_type": "execute_result",
          "data": {
            "text/plain": [
              "tensor([0, 2, 1, 3])"
            ]
          },
          "metadata": {
            "tags": []
          },
          "execution_count": 70
        }
      ]
    },
    {
      "cell_type": "code",
      "metadata": {
        "colab": {
          "base_uri": "https://localhost:8080/"
        },
        "id": "VM09oiPjmuD6",
        "outputId": "b54af9e5-fbe9-4048-a235-d7f28a8bedac"
      },
      "source": [
        "for idx in top_results:\n",
        "    print(corpus[idx], \"(Score: %.4f)\" % (cos_scores[idx]))"
      ],
      "execution_count": null,
      "outputs": [
        {
          "output_type": "stream",
          "text": [
            "My name is Bhargavi (Score: 0.7511)\n",
            "Bhargavi is grounded for drinking coke (Score: 0.4058)\n",
            "I like to eat chocolates alot (Score: -0.1345)\n",
            "She love shopping and she is a shopoholic (Score: -0.0517)\n"
          ],
          "name": "stdout"
        }
      ]
    },
    {
      "cell_type": "code",
      "metadata": {
        "id": "fzqE_bAVdxCe"
      },
      "source": [
        "db.collection_name.aggregate([\n",
        "              {$math: {_id: \"\"}},\n",
        "              {$sort: {_id: -1}},\n",
        "              {$limit: 10},\n",
        "              {$sort: {_id: 1}}\n",
        "])"
      ],
      "execution_count": null,
      "outputs": []
    },
    {
      "cell_type": "code",
      "metadata": {
        "id": "Ptqt--6M_lFc"
      },
      "source": [
        "Pymongo\n",
        "\n",
        "from pymongo import MongoClient\n",
        "\t\n",
        "# creation of MongoClient\n",
        "client=MongoClient()\n",
        "\t\n",
        "# Connect with the portnumber and host\n",
        "client = MongoClient(\"mongodb://localhost:27017/\")\n",
        "\t\n",
        "# Access database\n",
        "mydatabase = client['database']\n",
        "\t\n",
        "# Access collection of the database\n",
        "mycollection=mydatabase['myTable']\n",
        "\n",
        "agg_result= mycollection.aggregate(\n",
        "    \n",
        "\t[\n",
        "              {$match: {}},\n",
        "              {$sort: {_id: -1}},\n",
        "              {$limit: 10},\n",
        "              {$sort: {_id: 1}}\n",
        "])\n",
        "for i in agg_result:\n",
        "\tprint(i)\n"
      ],
      "execution_count": null,
      "outputs": []
    }
  ]
}
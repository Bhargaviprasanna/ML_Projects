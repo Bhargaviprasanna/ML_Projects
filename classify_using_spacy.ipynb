{
  "nbformat": 4,
  "nbformat_minor": 0,
  "metadata": {
    "colab": {
      "name": "classify_using_spacy.ipynb",
      "provenance": [],
      "collapsed_sections": [],
      "mount_file_id": "1L1PCi2n9wAJJ1WjC6vjaitrvVclg8sPl",
      "authorship_tag": "ABX9TyPTsRtbpxmmwO2G4JoGU2RE"
    },
    "kernelspec": {
      "name": "python3",
      "display_name": "Python 3"
    },
    "language_info": {
      "name": "python"
    }
  },
  "cells": [
    {
      "cell_type": "code",
      "metadata": {
        "id": "anp5e2tJYHUk"
      },
      "source": [
        "import spacy"
      ],
      "execution_count": null,
      "outputs": []
    },
    {
      "cell_type": "code",
      "metadata": {
        "colab": {
          "base_uri": "https://localhost:8080/"
        },
        "id": "lNjBXf4TZ9Tv",
        "outputId": "d8216eef-451a-4062-f349-1f29a0e7ac7f"
      },
      "source": [
        "nlp = spacy.load('en_core_web_sm')\n",
        "nlp.pipe_names"
      ],
      "execution_count": null,
      "outputs": [
        {
          "output_type": "execute_result",
          "data": {
            "text/plain": [
              "['tagger', 'parser', 'ner']"
            ]
          },
          "metadata": {
            "tags": []
          },
          "execution_count": 25
        }
      ]
    },
    {
      "cell_type": "code",
      "metadata": {
        "colab": {
          "base_uri": "https://localhost:8080/"
        },
        "id": "9ww_JBX2Z9ZW",
        "outputId": "59bc5fc9-ca06-4676-e4bc-0046cc83c431"
      },
      "source": [
        "textcat=nlp.create_pipe( \"textcat\", config={\"exclusive_classes\": True, \"architecture\": \"simple_cnn\"})\n",
        "nlp.add_pipe(textcat, last=True)\n",
        "nlp.pipe_names"
      ],
      "execution_count": null,
      "outputs": [
        {
          "output_type": "execute_result",
          "data": {
            "text/plain": [
              "['tagger', 'parser', 'ner', 'textcat']"
            ]
          },
          "metadata": {
            "tags": []
          },
          "execution_count": 26
        }
      ]
    },
    {
      "cell_type": "code",
      "metadata": {
        "colab": {
          "base_uri": "https://localhost:8080/"
        },
        "id": "m4dbortBai8W",
        "outputId": "af53c412-c6dd-4e0e-de0d-ab66f840eab2"
      },
      "source": [
        "textcat.add_label(\"POSITIVE\")\n",
        "# textcat.add_label(\"NEUTRAL\")\n",
        "textcat.add_label(\"NEGATIVE\")"
      ],
      "execution_count": null,
      "outputs": [
        {
          "output_type": "execute_result",
          "data": {
            "text/plain": [
              "1"
            ]
          },
          "metadata": {
            "tags": []
          },
          "execution_count": 27
        }
      ]
    },
    {
      "cell_type": "code",
      "metadata": {
        "colab": {
          "base_uri": "https://localhost:8080/",
          "height": 376
        },
        "id": "hBJem8k0b2wP",
        "outputId": "9d24e0b0-256d-4b9c-d371-5bfa63f6f4b3"
      },
      "source": [
        "import pandas as pd\n",
        "reviews = pd.read_csv('https://raw.githubusercontent.com/hanzhang0420/Women-Clothing-E-commerce/master/Womens%20Clothing%20E-Commerce%20Reviews.csv')\n",
        "\n",
        "# Extract desired columns and view the dataframe \n",
        "reviews = reviews[['Review Text','Recommended IND']].dropna()\n",
        "print(len(reviews))\n",
        "reviews.head(10)\n"
      ],
      "execution_count": null,
      "outputs": [
        {
          "output_type": "stream",
          "text": [
            "22641\n"
          ],
          "name": "stdout"
        },
        {
          "output_type": "execute_result",
          "data": {
            "text/html": [
              "<div>\n",
              "<style scoped>\n",
              "    .dataframe tbody tr th:only-of-type {\n",
              "        vertical-align: middle;\n",
              "    }\n",
              "\n",
              "    .dataframe tbody tr th {\n",
              "        vertical-align: top;\n",
              "    }\n",
              "\n",
              "    .dataframe thead th {\n",
              "        text-align: right;\n",
              "    }\n",
              "</style>\n",
              "<table border=\"1\" class=\"dataframe\">\n",
              "  <thead>\n",
              "    <tr style=\"text-align: right;\">\n",
              "      <th></th>\n",
              "      <th>Review Text</th>\n",
              "      <th>Recommended IND</th>\n",
              "    </tr>\n",
              "  </thead>\n",
              "  <tbody>\n",
              "    <tr>\n",
              "      <th>0</th>\n",
              "      <td>Absolutely wonderful - silky and sexy and comf...</td>\n",
              "      <td>1</td>\n",
              "    </tr>\n",
              "    <tr>\n",
              "      <th>1</th>\n",
              "      <td>Love this dress!  it's sooo pretty.  i happene...</td>\n",
              "      <td>1</td>\n",
              "    </tr>\n",
              "    <tr>\n",
              "      <th>2</th>\n",
              "      <td>I had such high hopes for this dress and reall...</td>\n",
              "      <td>0</td>\n",
              "    </tr>\n",
              "    <tr>\n",
              "      <th>3</th>\n",
              "      <td>I love, love, love this jumpsuit. it's fun, fl...</td>\n",
              "      <td>1</td>\n",
              "    </tr>\n",
              "    <tr>\n",
              "      <th>4</th>\n",
              "      <td>This shirt is very flattering to all due to th...</td>\n",
              "      <td>1</td>\n",
              "    </tr>\n",
              "    <tr>\n",
              "      <th>5</th>\n",
              "      <td>I love tracy reese dresses, but this one is no...</td>\n",
              "      <td>0</td>\n",
              "    </tr>\n",
              "    <tr>\n",
              "      <th>6</th>\n",
              "      <td>I aded this in my basket at hte last mintue to...</td>\n",
              "      <td>1</td>\n",
              "    </tr>\n",
              "    <tr>\n",
              "      <th>7</th>\n",
              "      <td>I ordered this in carbon for store pick up, an...</td>\n",
              "      <td>1</td>\n",
              "    </tr>\n",
              "    <tr>\n",
              "      <th>8</th>\n",
              "      <td>I love this dress. i usually get an xs but it ...</td>\n",
              "      <td>1</td>\n",
              "    </tr>\n",
              "    <tr>\n",
              "      <th>9</th>\n",
              "      <td>I'm 5\"5' and 125 lbs. i ordered the s petite t...</td>\n",
              "      <td>1</td>\n",
              "    </tr>\n",
              "  </tbody>\n",
              "</table>\n",
              "</div>"
            ],
            "text/plain": [
              "                                         Review Text  Recommended IND\n",
              "0  Absolutely wonderful - silky and sexy and comf...                1\n",
              "1  Love this dress!  it's sooo pretty.  i happene...                1\n",
              "2  I had such high hopes for this dress and reall...                0\n",
              "3  I love, love, love this jumpsuit. it's fun, fl...                1\n",
              "4  This shirt is very flattering to all due to th...                1\n",
              "5  I love tracy reese dresses, but this one is no...                0\n",
              "6  I aded this in my basket at hte last mintue to...                1\n",
              "7  I ordered this in carbon for store pick up, an...                1\n",
              "8  I love this dress. i usually get an xs but it ...                1\n",
              "9  I'm 5\"5' and 125 lbs. i ordered the s petite t...                1"
            ]
          },
          "metadata": {
            "tags": []
          },
          "execution_count": 28
        }
      ]
    },
    {
      "cell_type": "code",
      "metadata": {
        "colab": {
          "base_uri": "https://localhost:8080/"
        },
        "id": "ZYSd9hmeai_u",
        "outputId": "22a91f60-bc74-4408-f927-a6befd84b808"
      },
      "source": [
        "reviews['tuples'] = reviews.apply(lambda row: (row['Review Text'],row['Recommended IND']), axis=1)\n",
        "train =reviews['tuples'].tolist()\n",
        "train[:10]"
      ],
      "execution_count": null,
      "outputs": [
        {
          "output_type": "execute_result",
          "data": {
            "text/plain": [
              "[('Absolutely wonderful - silky and sexy and comfortable', 1),\n",
              " ('Love this dress!  it\\'s sooo pretty.  i happened to find it in a store, and i\\'m glad i did bc i never would have ordered it online bc it\\'s petite.  i bought a petite and am 5\\'8\".  i love the length on me- hits just a little below the knee.  would definitely be a true midi on someone who is truly petite.',\n",
              "  1),\n",
              " ('I had such high hopes for this dress and really wanted it to work for me. i initially ordered the petite small (my usual size) but i found this to be outrageously small. so small in fact that i could not zip it up! i reordered it in petite medium, which was just ok. overall, the top half was comfortable and fit nicely, but the bottom half had a very tight under layer and several somewhat cheap (net) over layers. imo, a major design flaw was the net over layer sewn directly into the zipper - it c',\n",
              "  0),\n",
              " (\"I love, love, love this jumpsuit. it's fun, flirty, and fabulous! every time i wear it, i get nothing but great compliments!\",\n",
              "  1),\n",
              " ('This shirt is very flattering to all due to the adjustable front tie. it is the perfect length to wear with leggings and it is sleeveless so it pairs well with any cardigan. love this shirt!!!',\n",
              "  1),\n",
              " ('I love tracy reese dresses, but this one is not for the very petite. i am just under 5 feet tall and usually wear a 0p in this brand. this dress was very pretty out of the package but its a lot of dress. the skirt is long and very full so it overwhelmed my small frame. not a stranger to alterations, shortening and narrowing the skirt would take away from the embellishment of the garment. i love the color and the idea of the style but it just did not work on me. i returned this dress.',\n",
              "  0),\n",
              " ('I aded this in my basket at hte last mintue to see what it would look like in person. (store pick up). i went with teh darkler color only because i am so pale :-) hte color is really gorgeous, and turns out it mathced everythiing i was trying on with it prefectly. it is a little baggy on me and hte xs is hte msallet size (bummer, no petite). i decided to jkeep it though, because as i said, it matvehd everything. my ejans, pants, and the 3 skirts i waas trying on (of which i ]kept all ) oops.',\n",
              "  1),\n",
              " (\"I ordered this in carbon for store pick up, and had a ton of stuff (as always) to try on and used this top to pair (skirts and pants). everything went with it. the color is really nice charcoal with shimmer, and went well with pencil skirts, flare pants, etc. my only compaint is it is a bit big, sleeves are long and it doesn't go in petite. also a bit loose for me, but no xxs... so i kept it and wil ldecide later since the light color is already sold out in hte smallest size...\",\n",
              "  1),\n",
              " ('I love this dress. i usually get an xs but it runs a little snug in bust so i ordered up a size. very flattering and feminine with the usual retailer flair for style.',\n",
              "  1),\n",
              " ('I\\'m 5\"5\\' and 125 lbs. i ordered the s petite to make sure the length wasn\\'t too long. i typically wear an xs regular in retailer dresses. if you\\'re less busty (34b cup or smaller), a s petite will fit you perfectly (snug, but not tight). i love that i could dress it up for a party, or down for work. i love that the tulle is longer then the fabric underneath.',\n",
              "  1)]"
            ]
          },
          "metadata": {
            "tags": []
          },
          "execution_count": 29
        }
      ]
    },
    {
      "cell_type": "code",
      "metadata": {
        "colab": {
          "base_uri": "https://localhost:8080/"
        },
        "id": "hZp5y3O2ajCm",
        "outputId": "51396f58-64f6-49a9-de19-b3ee35f8eb73"
      },
      "source": [
        "import random\n",
        "\n",
        "def load_data(limit=0, split=0.8):\n",
        "    train_data=train\n",
        "    # Shuffle the data\n",
        "    random.shuffle(train_data)\n",
        "    texts, labels = zip(*train_data)\n",
        "    # get the categories for each review\n",
        "    cats = [{\"POSITIVE\": bool(y), \"NEGATIVE\": not bool(y)} for y in labels]\n",
        "\n",
        "    # Splitting the training and evaluation data\n",
        "    split = int(len(train_data) * split)\n",
        "    return (texts[:split], cats[:split]), (texts[split:], cats[split:])\n",
        "\n",
        "n_texts=23486\n",
        "\n",
        "# Calling the load_data() function \n",
        "(train_texts, train_cats), (dev_texts, dev_cats) = load_data(limit=n_texts)\n",
        "\n",
        "# Processing the final format of training data\n",
        "train_data = list(zip(train_texts,[{'cats': cats} for cats in train_cats]))\n",
        "train_data[:10]"
      ],
      "execution_count": null,
      "outputs": [
        {
          "output_type": "execute_result",
          "data": {
            "text/plain": [
              "[('This is my new favorite top! looks and fits as described.',\n",
              "  {'cats': {'NEGATIVE': False, 'POSITIVE': True}}),\n",
              " (\"I fell in love with the shirt when i saw it online; but, i was incredibly disappointed with it when it was delivered.  on the positive side, the macrame is stunning.  once again, there was way too much fabric which makes me look pregnant.  most importantly, the color is not peach!  it's almost a burnt indian red or brick red/orange.  it was a disgusting color.\",\n",
              "  {'cats': {'NEGATIVE': True, 'POSITIVE': False}}),\n",
              " ('Purchased this in the wine color and love it! the detail at the neck at the bottom hem gives it an extra flair. i went with a small so that it was more fitted. love that it is stylish and comfortable. paired with knee high boots given it length but could also work well with short boots, like the photo.',\n",
              "  {'cats': {'NEGATIVE': False, 'POSITIVE': True}}),\n",
              " ('I loved this dress on the hanger and loved it more when i tried it on. i am usually an 8, but purchased the 6 in this dress. i preferred the empire waist to be more fitted which the 6 provided. you can decide which look you prefer. both looked good. i just wanted a less baggy look. as one reviewer mentioned, the print is cut different on all of the dresses. i think the colors pictured online are accurate. regarding the snake on the fabric, i have several snakes on my dress, but not on the back a',\n",
              "  {'cats': {'NEGATIVE': False, 'POSITIVE': True}}),\n",
              " (\"This fit perfectly. i am 5'7 , 138 pounds and ordered a small. i was very pleased with the way it draped over my body. i bought the black one.\",\n",
              "  {'cats': {'NEGATIVE': False, 'POSITIVE': True}}),\n",
              " ('This dress is really lovely. it looks so fragile online but in person is rather structured and substantial. it runs very large i just returned mine for 2 sizes down. i also like the zipper up the back so that the eye hooks on the front are not necessary to use to put on. the interior lining is affixed so there is no slipping like a typical under slip. if you are on the fence at least try it. i am glad i did.',\n",
              "  {'cats': {'NEGATIVE': False, 'POSITIVE': True}}),\n",
              " ('For me a good pencil skirt makes me feel so ladylike. i love eva franco pencils but be warned they are designed to be a tight fit through the tush. i wear a 12 and i ordered the 12 in this skirt. the pouch another reviewer pointed out seems intended to be a pocket, but because the skirt fits me pretty snugly it doesn\\'t stick out when i walk and sit. the fabric does seem like it would snag easily so i\\'ll choose accessories thoughtfully. for reference i have a 33\" waist and 42\" hips.',\n",
              "  {'cats': {'NEGATIVE': False, 'POSITIVE': True}}),\n",
              " (\"Just received two, the red and the black. the black is a great print, very versatile. both run large, but the black most significantly so. the red is close enough to fitting to keep. the black shows my bra b/c it is so large and the armholes cut far too deeply. (the red also shows a fair amount of the armpit area, but (barely) covers my bra.\\r\\n\\r\\nthe material is somewhat thinner than expected, but not so sheer that a skin-toned bra wouldn't be sufficient.\",\n",
              "  {'cats': {'NEGATIVE': False, 'POSITIVE': True}}),\n",
              " (\"Snap this one up but make sure you order a size larger than your normal size. it runs a full size too small. it sold out before and i was told it wasn't coming back in. i had purchased one previously in my regular size but it was too small. to my delight, it's back, and i've purchased one in the next size up. it's well made, can go from business to sport to casual.\",\n",
              "  {'cats': {'NEGATIVE': False, 'POSITIVE': True}}),\n",
              " (\"This was my first shot at high-rise bottoms and i love them. the fit is very flattering and the print is adorable. i just bought the bottoms so i can't comment on the top, it looked a bit small for my bust so i am purchasing a solid colored top to match.\",\n",
              "  {'cats': {'NEGATIVE': False, 'POSITIVE': True}})]"
            ]
          },
          "metadata": {
            "tags": []
          },
          "execution_count": 30
        }
      ]
    },
    {
      "cell_type": "code",
      "metadata": {
        "id": "PzdFDbmjajFO"
      },
      "source": [
        "from sklearn.model_selection import train_test_split\n",
        "X, y = zip(*train)\n",
        "X_train, X_test,y_train,y_test = train_test_split(X, y, test_size=0.2, random_state=42, shuffle=True)"
      ],
      "execution_count": null,
      "outputs": []
    },
    {
      "cell_type": "code",
      "metadata": {
        "id": "FvSeZveyjSTv"
      },
      "source": [
        ""
      ],
      "execution_count": null,
      "outputs": []
    },
    {
      "cell_type": "markdown",
      "metadata": {
        "id": "Yo4eiiIqoj_u"
      },
      "source": [
        "#### https://www.machinelearningplus.com/nlp/custom-text-classification-spacy/"
      ]
    },
    {
      "cell_type": "code",
      "metadata": {
        "id": "etyJT1zNoqkl"
      },
      "source": [
        "def evaluate(tokenizer, textcat, texts, cats):\n",
        "    docs = (tokenizer(text) for text in texts)\n",
        "    tp = 0.0  # True positives\n",
        "    fp = 1e-8  # False positives\n",
        "    fn = 1e-8  # False negatives\n",
        "    tn = 0.0  # True negatives\n",
        "    for i, doc in enumerate(textcat.pipe(docs)):\n",
        "        gold = cats[i]\n",
        "        for label, score in doc.cats.items():\n",
        "            if label not in gold:\n",
        "                continue\n",
        "            if label == \"NEGATIVE\":\n",
        "                continue\n",
        "            if score >= 0.5 and gold[label] >= 0.5:\n",
        "                tp += 1.0\n",
        "            elif score >= 0.5 and gold[label] < 0.5:\n",
        "                fp += 1.0\n",
        "            elif score < 0.5 and gold[label] < 0.5:\n",
        "                tn += 1\n",
        "            elif score < 0.5 and gold[label] >= 0.5:\n",
        "                fn += 1\n",
        "    precision = tp / (tp + fp)\n",
        "    recall = tp / (tp + fn)\n",
        "    if (precision + recall) == 0:\n",
        "        f_score = 0.0\n",
        "    else:\n",
        "        f_score = 2 * (precision * recall) / (precision + recall)\n",
        "    return {\"textcat_p\": precision, \"textcat_r\": recall, \"textcat_f\": f_score}\n",
        "\n",
        "\n",
        "#(\"Number of training iterations\", \"n\", int))\n",
        "n_iter=10"
      ],
      "execution_count": null,
      "outputs": []
    },
    {
      "cell_type": "code",
      "metadata": {
        "colab": {
          "base_uri": "https://localhost:8080/"
        },
        "id": "23e1Dw7HajIm",
        "outputId": "a4683f8c-ba11-43ee-f341-7baffd957bc6"
      },
      "source": [
        "from spacy.util import minibatch, compounding\n",
        "\n",
        "# Disabling other components\n",
        "other_pipes = [pipe for pipe in nlp.pipe_names if pipe != 'textcat']\n",
        "with nlp.disable_pipes(*other_pipes):  # only train textcat\n",
        "    optimizer = nlp.begin_training()\n",
        "\n",
        "    print(\"Training the model...\")\n",
        "    print('{:^5}\\t{:^5}\\t{:^5}\\t{:^5}'.format('LOSS', 'P', 'R', 'F'))\n",
        "\n",
        "    # Performing training\n",
        "    for i in range(n_iter):\n",
        "        losses = {}\n",
        "        batches = minibatch(train_data, size=compounding(4., 32., 1.001))\n",
        "        for batch in batches:\n",
        "            texts, annotations = zip(*batch)\n",
        "            nlp.update(texts, annotations, sgd=optimizer, drop=0.2,\n",
        "                       losses=losses)\n",
        "\n",
        "      # Calling the evaluate() function and printing the scores\n",
        "        with textcat.model.use_params(optimizer.averages):\n",
        "            scores = evaluate(nlp.tokenizer, textcat, dev_texts, dev_cats)\n",
        "        print('{0:.3f}\\t{1:.3f}\\t{2:.3f}\\t{3:.3f}'  \n",
        "              .format(losses['textcat'], scores['textcat_p'],\n",
        "                      scores['textcat_r'], scores['textcat_f']))"
      ],
      "execution_count": null,
      "outputs": [
        {
          "output_type": "stream",
          "text": [
            "Training the model...\n",
            "LOSS \t  P  \t  R  \t  F  \n",
            "8.589\t0.910\t0.963\t0.936\n",
            "5.570\t0.914\t0.963\t0.937\n",
            "4.451\t0.917\t0.963\t0.939\n",
            "3.446\t0.922\t0.961\t0.941\n",
            "2.656\t0.921\t0.961\t0.941\n",
            "2.204\t0.923\t0.958\t0.940\n",
            "1.728\t0.925\t0.959\t0.941\n",
            "1.400\t0.925\t0.956\t0.940\n",
            "1.229\t0.925\t0.953\t0.939\n",
            "1.079\t0.922\t0.955\t0.938\n"
          ],
          "name": "stdout"
        }
      ]
    },
    {
      "cell_type": "code",
      "metadata": {
        "colab": {
          "base_uri": "https://localhost:8080/"
        },
        "id": "PTUZj1oLajN2",
        "outputId": "2d8465b0-a3e5-4e0a-b520-4dd7147e55a7"
      },
      "source": [
        "test_text = \"I loved the dress before buying it now its not okay.\"\n",
        "doc = nlp(test_text)\n",
        "doc.cats"
      ],
      "execution_count": null,
      "outputs": [
        {
          "output_type": "execute_result",
          "data": {
            "text/plain": [
              "{'NEGATIVE': 0.9925162196159363, 'POSITIVE': 0.0074837785214185715}"
            ]
          },
          "metadata": {
            "tags": []
          },
          "execution_count": 23
        }
      ]
    }
  ]
}
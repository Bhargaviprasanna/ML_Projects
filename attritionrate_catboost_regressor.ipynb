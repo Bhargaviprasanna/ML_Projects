{
  "nbformat": 4,
  "nbformat_minor": 0,
  "metadata": {
    "colab": {
      "name": "attritionrate_catboost_regressor.ipynb",
      "provenance": [],
      "collapsed_sections": [],
      "toc_visible": true
    },
    "kernelspec": {
      "display_name": "Python 3",
      "language": "python",
      "name": "python3"
    },
    "language_info": {
      "codemirror_mode": {
        "name": "ipython",
        "version": 3
      },
      "file_extension": ".py",
      "mimetype": "text/x-python",
      "name": "python",
      "nbconvert_exporter": "python",
      "pygments_lexer": "ipython3",
      "version": "3.7.7"
    }
  },
  "cells": [
    {
      "cell_type": "markdown",
      "metadata": {
        "id": "8FLud1n-3pVm"
      },
      "source": [
        "# CatBoost"
      ]
    },
    {
      "cell_type": "code",
      "metadata": {
        "id": "8tH8j7ICa9it"
      },
      "source": [
        "def minimum(L):\n",
        "  m =10000\n",
        "  for i in range(len(L)):\n",
        "    if m > L[i]:\n",
        "      m = L[i]\n",
        "      indi = i\n",
        "  return [m,indi]\n"
      ],
      "execution_count": null,
      "outputs": []
    },
    {
      "cell_type": "code",
      "metadata": {
        "id": "Bq2eMrMLICeP",
        "colab": {
          "base_uri": "https://localhost:8080/",
          "height": 102
        },
        "outputId": "0c8685fb-3694-4cb6-9d67-b9112fdce72d"
      },
      "source": [
        "E =[[2,2,2,2],[3,1,2,3],[1,2,1,2]]\n",
        "i=0\n",
        "j=0\n",
        "mini=0\n",
        "indices = [i for i in range(len(E))]\n",
        "while j < len(E[0]):\n",
        "  min = minimum([E[i][j] for i in indices])\n",
        "  print(min)\n",
        "  j+=1\n",
        "print(mini)"
      ],
      "execution_count": null,
      "outputs": [
        {
          "output_type": "stream",
          "text": [
            "[1, 2]\n",
            "[1, 1]\n",
            "[1, 2]\n",
            "[2, 0]\n",
            "0\n"
          ],
          "name": "stdout"
        }
      ]
    },
    {
      "cell_type": "markdown",
      "metadata": {
        "id": "sO8VPU6n3vES"
      },
      "source": [
        "## Importing the libraries"
      ]
    },
    {
      "cell_type": "code",
      "metadata": {
        "id": "K-_d2lI45wQi"
      },
      "source": [
        "!pip install catboost"
      ],
      "execution_count": null,
      "outputs": []
    },
    {
      "cell_type": "code",
      "metadata": {
        "id": "clDSsF7P33NU"
      },
      "source": [
        "import numpy as np\n",
        "import matplotlib.pyplot as plt\n",
        "import pandas as pd\n",
        "import xgboost as xgb\n",
        "from sklearn.metrics import mean_squared_error"
      ],
      "execution_count": null,
      "outputs": []
    },
    {
      "cell_type": "markdown",
      "metadata": {
        "id": "zGpwK5XD386E"
      },
      "source": [
        "## Importing the dataset"
      ]
    },
    {
      "cell_type": "code",
      "metadata": {
        "id": "vcSi5QazbEiR"
      },
      "source": [
        "train_set = pd.read_csv('Train.csv')\n"
      ],
      "execution_count": null,
      "outputs": []
    },
    {
      "cell_type": "code",
      "metadata": {
        "id": "tCHdXhklXUNI"
      },
      "source": [
        "train_set.info()"
      ],
      "execution_count": null,
      "outputs": []
    },
    {
      "cell_type": "code",
      "metadata": {
        "id": "Zcksk88u4Ae8",
        "colab": {
          "base_uri": "https://localhost:8080/",
          "height": 68
        },
        "outputId": "42704cf1-028e-4071-bdd0-5a1f4ef97b5c"
      },
      "source": [
        "X = train_set.iloc[:, 1:-1].values\n",
        "y = train_set.iloc[:, -1].values\n",
        "X[0]"
      ],
      "execution_count": null,
      "outputs": [
        {
          "output_type": "execute_result",
          "data": {
            "text/plain": [
              "array(['F', 42.0, 4, 'Married', 'Franklin', 'IT', 'Conceptual', 4.0, 4,\n",
              "       33, 1, 1, 7.0, 'type2', 3.0, 4, 0.7516, 1.8688, 2.0, 4, 5, 3],\n",
              "      dtype=object)"
            ]
          },
          "metadata": {
            "tags": []
          },
          "execution_count": 45
        }
      ]
    },
    {
      "cell_type": "code",
      "metadata": {
        "id": "Ph_NuI30dlRZ",
        "colab": {
          "base_uri": "https://localhost:8080/",
          "height": 68
        },
        "outputId": "e90e1f55-6bff-406c-90f4-5fb31fe442a7"
      },
      "source": [
        "from sklearn.impute import SimpleImputer\n",
        "missingvalues = SimpleImputer(missing_values = np.nan, strategy = 'mean', verbose = 0)\n",
        "missingvalues = missingvalues.fit(X[:, [1,7,12,14,16,18]])\n",
        "X[:, [1,7,12,14,16,18]]=missingvalues.transform(X[:, [1,7,12,14,16,18]])\n",
        "X[0]"
      ],
      "execution_count": null,
      "outputs": [
        {
          "output_type": "execute_result",
          "data": {
            "text/plain": [
              "array(['F', 42.0, 4, 'Married', 'Franklin', 'IT', 'Conceptual', 4.0, 4,\n",
              "       33, 1, 1, 7.0, 'type2', 3.0, 4, 0.7516, 1.8688, 2.0, 4, 5, 3],\n",
              "      dtype=object)"
            ]
          },
          "metadata": {
            "tags": []
          },
          "execution_count": 46
        }
      ]
    },
    {
      "cell_type": "code",
      "metadata": {
        "id": "B__cUg728Wis",
        "colab": {
          "base_uri": "https://localhost:8080/",
          "height": 51
        },
        "outputId": "1ce382b1-75df-45f2-daed-eccba076c6ff"
      },
      "source": [
        "X = X[:,[1,2,7,8,9,10,11,12,14,15,16,19,20,21]]\n",
        "X[0]"
      ],
      "execution_count": null,
      "outputs": [
        {
          "output_type": "execute_result",
          "data": {
            "text/plain": [
              "array([42.0, 4, 4.0, 4, 33, 1, 1, 7.0, 3.0, 4, 0.7516, 4, 5, 3],\n",
              "      dtype=object)"
            ]
          },
          "metadata": {
            "tags": []
          },
          "execution_count": 47
        }
      ]
    },
    {
      "cell_type": "code",
      "metadata": {
        "id": "-YjGyBB_X6Q0",
        "colab": {
          "base_uri": "https://localhost:8080/",
          "height": 153
        },
        "outputId": "b5bb6af2-58c5-4ca3-90a7-d8743a833d8d"
      },
      "source": [
        "print(train_set['Relationship_Status'].unique())\n",
        "print(train_set['Hometown'].unique())\n",
        "print(train_set['Unit'].unique())\n",
        "print(train_set['Decision_skill_possess'].unique())\n",
        "print(train_set['Compensation_and_Benefits'].unique())\n",
        "print(train_set['Gender'].unique())"
      ],
      "execution_count": null,
      "outputs": [
        {
          "output_type": "stream",
          "text": [
            "['Married' 'Single']\n",
            "['Franklin' 'Springfield' 'Clinton' 'Lebanon' 'Washington']\n",
            "['IT' 'Logistics' 'Quality' 'Human Resource Management' 'Purchasing'\n",
            " 'Sales' 'Production' 'Operarions' 'Accounting and Finance' 'Marketing'\n",
            " 'R&D' 'Security']\n",
            "['Conceptual' 'Analytical' 'Behavioral' 'Directive']\n",
            "['type2' 'type3' 'type0' 'type4' 'type1']\n",
            "['F' 'M']\n"
          ],
          "name": "stdout"
        }
      ]
    },
    {
      "cell_type": "code",
      "metadata": {
        "id": "4t-weql9v-vQ"
      },
      "source": [
        "from sklearn.preprocessing import LabelEncoder\n",
        "le = LabelEncoder()\n",
        "X[:, 0] = le.fit_transform(X[:, 0]) #[0,4,5,6,13]\n",
        "X[:, 4] = le.fit_transform(X[:, 4])\n",
        "X[:, 5] = le.fit_transform(X[:, 5])\n",
        "X[:, 6] = le.fit_transform(X[:, 6])\n",
        "X[:, 13] = le.fit_transform(X[:, 13])"
      ],
      "execution_count": null,
      "outputs": []
    },
    {
      "cell_type": "code",
      "metadata": {
        "id": "dmBWJpd7wxYQ"
      },
      "source": [
        "from sklearn.compose import ColumnTransformer\n",
        "from sklearn.preprocessing import OneHotEncoder\n",
        "ct = ColumnTransformer(transformers=[('encoder', OneHotEncoder(), [3])], remainder='passthrough')\n",
        "X = np.array(ct.fit_transform(X))"
      ],
      "execution_count": null,
      "outputs": []
    },
    {
      "cell_type": "code",
      "metadata": {
        "id": "yv_kYbW01vM1",
        "colab": {
          "base_uri": "https://localhost:8080/",
          "height": 51
        },
        "outputId": "d0370eef-5427-43f8-a8b4-f167b084dbaa"
      },
      "source": [
        "X[0]"
      ],
      "execution_count": null,
      "outputs": [
        {
          "output_type": "execute_result",
          "data": {
            "text/plain": [
              "array([1.0, 0.0, 0, 42.0, 4, 1, 2, 2, 4.0, 4, 33, 1, 1, 7.0, 2, 3.0, 4,\n",
              "       0.7516, 1.8688, 2.0, 4, 5, 3], dtype=object)"
            ]
          },
          "metadata": {
            "tags": []
          },
          "execution_count": 12
        }
      ]
    },
    {
      "cell_type": "code",
      "metadata": {
        "id": "f6UnlHz9A3g6"
      },
      "source": [
        "from sklearn.preprocessing import StandardScaler\n",
        "sc_X = StandardScaler()\n",
        "X = sc_X.fit_transform(X)\n",
        "# X[:,[1,2,7,8,9,10,11,12,14,15,16,17,18,19,20,21]] = sc_X.fit_transform(X[:,[1,2,7,8,9,10,11,12,14,15,16,17,18,19,20,21]])"
      ],
      "execution_count": null,
      "outputs": []
    },
    {
      "cell_type": "code",
      "metadata": {
        "id": "TmzSqhaX2wI4"
      },
      "source": [
        "from sklearn.model_selection import train_test_split\n",
        "\n",
        "X_train, X_test, y_train, y_test = train_test_split(X, y, test_size=0.2, random_state=0)"
      ],
      "execution_count": null,
      "outputs": []
    },
    {
      "cell_type": "code",
      "metadata": {
        "id": "si26Wwah-CTK"
      },
      "source": [
        "from sklearn.ensemble import RandomForestRegressor\n",
        "regressor = RandomForestRegressor(n_estimators = 100, random_state = 0)\n",
        "regressor.fit(X_train, y_train)"
      ],
      "execution_count": null,
      "outputs": []
    },
    {
      "cell_type": "code",
      "metadata": {
        "id": "XJQyBjPC-nvC"
      },
      "source": [
        "y_pred = regressor.predict(X_test)"
      ],
      "execution_count": null,
      "outputs": []
    },
    {
      "cell_type": "code",
      "metadata": {
        "id": "makoIvoIBSAe"
      },
      "source": [
        "summary(regressor)"
      ],
      "execution_count": null,
      "outputs": []
    },
    {
      "cell_type": "code",
      "metadata": {
        "id": "6Cby3RReBQqG",
        "colab": {
          "base_uri": "https://localhost:8080/",
          "height": 51
        },
        "outputId": "03825bc3-83e1-49a6-d33f-83cac1928809"
      },
      "source": [
        "print(y_pred[:10],y_test[:10])"
      ],
      "execution_count": null,
      "outputs": [
        {
          "output_type": "stream",
          "text": [
            "[0.245222   0.2479125  0.30006205 0.171157   0.18877433 0.175949\n",
            " 0.14964344 0.18213325 0.2199667  0.245599  ] [0.5142 0.0668 0.1293 0.0192 0.1457 0.1529 0.1576 0.0794 0.1775 0.1545]\n"
          ],
          "name": "stdout"
        }
      ]
    },
    {
      "cell_type": "code",
      "metadata": {
        "id": "o7vMazUzoUGA",
        "colab": {
          "base_uri": "https://localhost:8080/",
          "height": 34
        },
        "outputId": "720e7b83-3f88-461e-fa12-b2107d07f4d7"
      },
      "source": [
        "from sklearn.metrics import r2_score\n",
        "score = r2_score(y_test, y_pred)\n",
        "print(score)"
      ],
      "execution_count": null,
      "outputs": [
        {
          "output_type": "stream",
          "text": [
            "-0.01501079922451698\n"
          ],
          "name": "stdout"
        }
      ]
    },
    {
      "cell_type": "code",
      "metadata": {
        "id": "U566RlZh2wBR"
      },
      "source": [
        "data_dmatrix = xgb.DMatrix(data=X,label=y)"
      ],
      "execution_count": null,
      "outputs": []
    },
    {
      "cell_type": "code",
      "metadata": {
        "id": "HHp15_N02wPD"
      },
      "source": [
        "xg_reg = xgb.XGBRegressor()\n",
        "# objective ='reg:linear', colsample_bytree = 0.3, learning_rate = 0.1,\n",
        "#                 max_depth = 5, alpha = 10, n_estimators = 10"
      ],
      "execution_count": null,
      "outputs": []
    },
    {
      "cell_type": "code",
      "metadata": {
        "id": "1W6EgBG13Kaq",
        "colab": {
          "base_uri": "https://localhost:8080/",
          "height": 34
        },
        "outputId": "1dfb2cae-a6b1-427e-a064-22a59e63f4a9"
      },
      "source": [
        "xg_reg.fit(X_train,y_train)\n",
        "\n",
        "preds = xg_reg.predict(X_test)"
      ],
      "execution_count": null,
      "outputs": [
        {
          "output_type": "stream",
          "text": [
            "[08:19:24] WARNING: /workspace/src/objective/regression_obj.cu:152: reg:linear is now deprecated in favor of reg:squarederror.\n"
          ],
          "name": "stdout"
        }
      ]
    },
    {
      "cell_type": "code",
      "metadata": {
        "id": "lKRgTNyEeP_d",
        "colab": {
          "base_uri": "https://localhost:8080/",
          "height": 34
        },
        "outputId": "47956126-e292-42a8-ea21-a10472317603"
      },
      "source": [
        "X.shape\n",
        "# X[8, [1,7,12,14,16,18]]"
      ],
      "execution_count": null,
      "outputs": [
        {
          "output_type": "execute_result",
          "data": {
            "text/plain": [
              "(7000, 14)"
            ]
          },
          "metadata": {
            "tags": []
          },
          "execution_count": 61
        }
      ]
    },
    {
      "cell_type": "markdown",
      "metadata": {
        "id": "XNn2RnST6_Q-"
      },
      "source": [
        "## Splitting the dataset into the Training set and Test set"
      ]
    },
    {
      "cell_type": "code",
      "metadata": {
        "id": "Ptkcaa6yEupG"
      },
      "source": [
        "from sklearn.preprocessing import StandardScaler\n",
        "sc_X = StandardScaler()\n",
        "X_train[:,[1,2,7,8,9,10,11,12,14,15,16,17,18,19,20,21]] = sc_X.fit_transform(X_train[:,[1,2,7,8,9,10,11,12,14,15,16,17,18,19,20,21]])\n",
        "X_test[:,[1,2,7,8,9,10,11,12,14,15,16,17,18,19,20,21]] = sc_X.transform(X_test[:,[1,2,7,8,9,10,11,12,14,15,16,17,18,19,20,21]])\n",
        "# sc_y = StandardScaler()\n",
        "# y_train = sc_y.fit_transform(y_train)\n",
        "X_tr = X_train[:,[1,2,7,8,9,10,11,12,14,15,16,17,18,19,20,21]]\n",
        "X_te = X_test[:,[1,2,7,8,9,10,11,12,14,15,16,17,18,19,20,21]]"
      ],
      "execution_count": null,
      "outputs": []
    },
    {
      "cell_type": "markdown",
      "metadata": {
        "id": "1Y89ctGZ7Mcx"
      },
      "source": [
        "## Training CatBoost on the Training set"
      ]
    },
    {
      "cell_type": "code",
      "metadata": {
        "id": "ude1J0E47SKN"
      },
      "source": [
        "from catboost import CatBoostRegressor\n",
        "# cat_fea = [0,3,4,5,6,13]\n",
        "regressor = CatBoostRegressor()\n",
        "# CatBoostRegressor(learning_rate=1, cat_features= cat_fea)\n",
        "regressor.fit(X_train, y_train)"
      ],
      "execution_count": null,
      "outputs": []
    },
    {
      "cell_type": "markdown",
      "metadata": {
        "id": "EnbCjHgQ8XPn"
      },
      "source": [
        "## Applying k-Fold Cross Validation"
      ]
    },
    {
      "cell_type": "code",
      "metadata": {
        "id": "yYbfiITD8ZAz"
      },
      "source": [
        "from sklearn.model_selection import cross_val_score\n",
        "accuracies = cross_val_score(estimator = regressor, X = X_train, y = y_train, cv = 10)\n",
        "print(\"Accuracy: {:.2f} %\".format(accuracies.mean()*100))\n",
        "print(\"Standard Deviation: {:.2f} %\".format(accuracies.std()*100))"
      ],
      "execution_count": null,
      "outputs": []
    }
  ]
}
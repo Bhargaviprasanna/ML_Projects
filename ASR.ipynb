{
  "nbformat": 4,
  "nbformat_minor": 0,
  "metadata": {
    "accelerator": "GPU",
    "colab": {
      "name": "ASR.ipynb",
      "provenance": [],
      "collapsed_sections": []
    },
    "kernelspec": {
      "display_name": "Python 3",
      "name": "python3"
    },
    "language_info": {
      "name": "python"
    },
    "widgets": {
      "application/vnd.jupyter.widget-state+json": {
        "41370d95872a48509567fdcc6067baea": {
          "model_module": "@jupyter-widgets/controls",
          "model_name": "HBoxModel",
          "state": {
            "_view_name": "HBoxView",
            "_dom_classes": [],
            "_model_name": "HBoxModel",
            "_view_module": "@jupyter-widgets/controls",
            "_model_module_version": "1.5.0",
            "_view_count": null,
            "_view_module_version": "1.5.0",
            "box_style": "",
            "layout": "IPY_MODEL_fbb1a0fc534a47a1b0178fd40bddfad0",
            "_model_module": "@jupyter-widgets/controls",
            "children": [
              "IPY_MODEL_edf627120d0943cda4b75e7d4e930bee",
              "IPY_MODEL_fbe2301bd6974c8a9638b5bbfd7eb377"
            ]
          }
        },
        "fbb1a0fc534a47a1b0178fd40bddfad0": {
          "model_module": "@jupyter-widgets/base",
          "model_name": "LayoutModel",
          "state": {
            "_view_name": "LayoutView",
            "grid_template_rows": null,
            "right": null,
            "justify_content": null,
            "_view_module": "@jupyter-widgets/base",
            "overflow": null,
            "_model_module_version": "1.2.0",
            "_view_count": null,
            "flex_flow": null,
            "width": null,
            "min_width": null,
            "border": null,
            "align_items": null,
            "bottom": null,
            "_model_module": "@jupyter-widgets/base",
            "top": null,
            "grid_column": null,
            "overflow_y": null,
            "overflow_x": null,
            "grid_auto_flow": null,
            "grid_area": null,
            "grid_template_columns": null,
            "flex": null,
            "_model_name": "LayoutModel",
            "justify_items": null,
            "grid_row": null,
            "max_height": null,
            "align_content": null,
            "visibility": null,
            "align_self": null,
            "height": null,
            "min_height": null,
            "padding": null,
            "grid_auto_rows": null,
            "grid_gap": null,
            "max_width": null,
            "order": null,
            "_view_module_version": "1.2.0",
            "grid_template_areas": null,
            "object_position": null,
            "object_fit": null,
            "grid_auto_columns": null,
            "margin": null,
            "display": null,
            "left": null
          }
        },
        "edf627120d0943cda4b75e7d4e930bee": {
          "model_module": "@jupyter-widgets/controls",
          "model_name": "FloatProgressModel",
          "state": {
            "_view_name": "ProgressView",
            "style": "IPY_MODEL_85c8bb1c4eed4eac90587b5557de465d",
            "_dom_classes": [],
            "description": "Downloading: ",
            "_model_name": "FloatProgressModel",
            "bar_style": "success",
            "max": 2349,
            "_view_module": "@jupyter-widgets/controls",
            "_model_module_version": "1.5.0",
            "value": 2349,
            "_view_count": null,
            "_view_module_version": "1.5.0",
            "orientation": "horizontal",
            "min": 0,
            "description_tooltip": null,
            "_model_module": "@jupyter-widgets/controls",
            "layout": "IPY_MODEL_a4b8bf5e5a064387828d115cdf3eb3c8"
          }
        },
        "fbe2301bd6974c8a9638b5bbfd7eb377": {
          "model_module": "@jupyter-widgets/controls",
          "model_name": "HTMLModel",
          "state": {
            "_view_name": "HTMLView",
            "style": "IPY_MODEL_12a22a8a0c2c400393fc4aca12fd1e4d",
            "_dom_classes": [],
            "description": "",
            "_model_name": "HTMLModel",
            "placeholder": "​",
            "_view_module": "@jupyter-widgets/controls",
            "_model_module_version": "1.5.0",
            "value": " 6.84k/? [00:01&lt;00:00, 3.97kB/s]",
            "_view_count": null,
            "_view_module_version": "1.5.0",
            "description_tooltip": null,
            "_model_module": "@jupyter-widgets/controls",
            "layout": "IPY_MODEL_2420a21436384eeb8573161689f9a37a"
          }
        },
        "85c8bb1c4eed4eac90587b5557de465d": {
          "model_module": "@jupyter-widgets/controls",
          "model_name": "ProgressStyleModel",
          "state": {
            "_view_name": "StyleView",
            "_model_name": "ProgressStyleModel",
            "description_width": "initial",
            "_view_module": "@jupyter-widgets/base",
            "_model_module_version": "1.5.0",
            "_view_count": null,
            "_view_module_version": "1.2.0",
            "bar_color": null,
            "_model_module": "@jupyter-widgets/controls"
          }
        },
        "a4b8bf5e5a064387828d115cdf3eb3c8": {
          "model_module": "@jupyter-widgets/base",
          "model_name": "LayoutModel",
          "state": {
            "_view_name": "LayoutView",
            "grid_template_rows": null,
            "right": null,
            "justify_content": null,
            "_view_module": "@jupyter-widgets/base",
            "overflow": null,
            "_model_module_version": "1.2.0",
            "_view_count": null,
            "flex_flow": null,
            "width": null,
            "min_width": null,
            "border": null,
            "align_items": null,
            "bottom": null,
            "_model_module": "@jupyter-widgets/base",
            "top": null,
            "grid_column": null,
            "overflow_y": null,
            "overflow_x": null,
            "grid_auto_flow": null,
            "grid_area": null,
            "grid_template_columns": null,
            "flex": null,
            "_model_name": "LayoutModel",
            "justify_items": null,
            "grid_row": null,
            "max_height": null,
            "align_content": null,
            "visibility": null,
            "align_self": null,
            "height": null,
            "min_height": null,
            "padding": null,
            "grid_auto_rows": null,
            "grid_gap": null,
            "max_width": null,
            "order": null,
            "_view_module_version": "1.2.0",
            "grid_template_areas": null,
            "object_position": null,
            "object_fit": null,
            "grid_auto_columns": null,
            "margin": null,
            "display": null,
            "left": null
          }
        },
        "12a22a8a0c2c400393fc4aca12fd1e4d": {
          "model_module": "@jupyter-widgets/controls",
          "model_name": "DescriptionStyleModel",
          "state": {
            "_view_name": "StyleView",
            "_model_name": "DescriptionStyleModel",
            "description_width": "",
            "_view_module": "@jupyter-widgets/base",
            "_model_module_version": "1.5.0",
            "_view_count": null,
            "_view_module_version": "1.2.0",
            "_model_module": "@jupyter-widgets/controls"
          }
        },
        "2420a21436384eeb8573161689f9a37a": {
          "model_module": "@jupyter-widgets/base",
          "model_name": "LayoutModel",
          "state": {
            "_view_name": "LayoutView",
            "grid_template_rows": null,
            "right": null,
            "justify_content": null,
            "_view_module": "@jupyter-widgets/base",
            "overflow": null,
            "_model_module_version": "1.2.0",
            "_view_count": null,
            "flex_flow": null,
            "width": null,
            "min_width": null,
            "border": null,
            "align_items": null,
            "bottom": null,
            "_model_module": "@jupyter-widgets/base",
            "top": null,
            "grid_column": null,
            "overflow_y": null,
            "overflow_x": null,
            "grid_auto_flow": null,
            "grid_area": null,
            "grid_template_columns": null,
            "flex": null,
            "_model_name": "LayoutModel",
            "justify_items": null,
            "grid_row": null,
            "max_height": null,
            "align_content": null,
            "visibility": null,
            "align_self": null,
            "height": null,
            "min_height": null,
            "padding": null,
            "grid_auto_rows": null,
            "grid_gap": null,
            "max_width": null,
            "order": null,
            "_view_module_version": "1.2.0",
            "grid_template_areas": null,
            "object_position": null,
            "object_fit": null,
            "grid_auto_columns": null,
            "margin": null,
            "display": null,
            "left": null
          }
        },
        "c76845dc842f41cf93628f1b131c44fb": {
          "model_module": "@jupyter-widgets/controls",
          "model_name": "HBoxModel",
          "state": {
            "_view_name": "HBoxView",
            "_dom_classes": [],
            "_model_name": "HBoxModel",
            "_view_module": "@jupyter-widgets/controls",
            "_model_module_version": "1.5.0",
            "_view_count": null,
            "_view_module_version": "1.5.0",
            "box_style": "",
            "layout": "IPY_MODEL_d58640f997464695bdef6ef3e22236d7",
            "_model_module": "@jupyter-widgets/controls",
            "children": [
              "IPY_MODEL_39f2a47321524e3980dbe8c44f134a33",
              "IPY_MODEL_9c16c6974f3548fc894532b955d6c07c"
            ]
          }
        },
        "d58640f997464695bdef6ef3e22236d7": {
          "model_module": "@jupyter-widgets/base",
          "model_name": "LayoutModel",
          "state": {
            "_view_name": "LayoutView",
            "grid_template_rows": null,
            "right": null,
            "justify_content": null,
            "_view_module": "@jupyter-widgets/base",
            "overflow": null,
            "_model_module_version": "1.2.0",
            "_view_count": null,
            "flex_flow": null,
            "width": null,
            "min_width": null,
            "border": null,
            "align_items": null,
            "bottom": null,
            "_model_module": "@jupyter-widgets/base",
            "top": null,
            "grid_column": null,
            "overflow_y": null,
            "overflow_x": null,
            "grid_auto_flow": null,
            "grid_area": null,
            "grid_template_columns": null,
            "flex": null,
            "_model_name": "LayoutModel",
            "justify_items": null,
            "grid_row": null,
            "max_height": null,
            "align_content": null,
            "visibility": null,
            "align_self": null,
            "height": null,
            "min_height": null,
            "padding": null,
            "grid_auto_rows": null,
            "grid_gap": null,
            "max_width": null,
            "order": null,
            "_view_module_version": "1.2.0",
            "grid_template_areas": null,
            "object_position": null,
            "object_fit": null,
            "grid_auto_columns": null,
            "margin": null,
            "display": null,
            "left": null
          }
        },
        "39f2a47321524e3980dbe8c44f134a33": {
          "model_module": "@jupyter-widgets/controls",
          "model_name": "FloatProgressModel",
          "state": {
            "_view_name": "ProgressView",
            "style": "IPY_MODEL_cd9c7f2d158f4ef4b22a0fc9970be7ad",
            "_dom_classes": [],
            "description": "Downloading: ",
            "_model_name": "FloatProgressModel",
            "bar_style": "success",
            "max": 1004,
            "_view_module": "@jupyter-widgets/controls",
            "_model_module_version": "1.5.0",
            "value": 1004,
            "_view_count": null,
            "_view_module_version": "1.5.0",
            "orientation": "horizontal",
            "min": 0,
            "description_tooltip": null,
            "_model_module": "@jupyter-widgets/controls",
            "layout": "IPY_MODEL_30ec53ac862f490faa4d23e7e42b71c4"
          }
        },
        "9c16c6974f3548fc894532b955d6c07c": {
          "model_module": "@jupyter-widgets/controls",
          "model_name": "HTMLModel",
          "state": {
            "_view_name": "HTMLView",
            "style": "IPY_MODEL_f239866abbb34ba5848f99c4bb2f82b5",
            "_dom_classes": [],
            "description": "",
            "_model_name": "HTMLModel",
            "placeholder": "​",
            "_view_module": "@jupyter-widgets/controls",
            "_model_module_version": "1.5.0",
            "value": " 2.51k/? [00:01&lt;00:00, 1.57kB/s]",
            "_view_count": null,
            "_view_module_version": "1.5.0",
            "description_tooltip": null,
            "_model_module": "@jupyter-widgets/controls",
            "layout": "IPY_MODEL_e3e4d880d9d142bdb9ea722be8e46508"
          }
        },
        "cd9c7f2d158f4ef4b22a0fc9970be7ad": {
          "model_module": "@jupyter-widgets/controls",
          "model_name": "ProgressStyleModel",
          "state": {
            "_view_name": "StyleView",
            "_model_name": "ProgressStyleModel",
            "description_width": "initial",
            "_view_module": "@jupyter-widgets/base",
            "_model_module_version": "1.5.0",
            "_view_count": null,
            "_view_module_version": "1.2.0",
            "bar_color": null,
            "_model_module": "@jupyter-widgets/controls"
          }
        },
        "30ec53ac862f490faa4d23e7e42b71c4": {
          "model_module": "@jupyter-widgets/base",
          "model_name": "LayoutModel",
          "state": {
            "_view_name": "LayoutView",
            "grid_template_rows": null,
            "right": null,
            "justify_content": null,
            "_view_module": "@jupyter-widgets/base",
            "overflow": null,
            "_model_module_version": "1.2.0",
            "_view_count": null,
            "flex_flow": null,
            "width": null,
            "min_width": null,
            "border": null,
            "align_items": null,
            "bottom": null,
            "_model_module": "@jupyter-widgets/base",
            "top": null,
            "grid_column": null,
            "overflow_y": null,
            "overflow_x": null,
            "grid_auto_flow": null,
            "grid_area": null,
            "grid_template_columns": null,
            "flex": null,
            "_model_name": "LayoutModel",
            "justify_items": null,
            "grid_row": null,
            "max_height": null,
            "align_content": null,
            "visibility": null,
            "align_self": null,
            "height": null,
            "min_height": null,
            "padding": null,
            "grid_auto_rows": null,
            "grid_gap": null,
            "max_width": null,
            "order": null,
            "_view_module_version": "1.2.0",
            "grid_template_areas": null,
            "object_position": null,
            "object_fit": null,
            "grid_auto_columns": null,
            "margin": null,
            "display": null,
            "left": null
          }
        },
        "f239866abbb34ba5848f99c4bb2f82b5": {
          "model_module": "@jupyter-widgets/controls",
          "model_name": "DescriptionStyleModel",
          "state": {
            "_view_name": "StyleView",
            "_model_name": "DescriptionStyleModel",
            "description_width": "",
            "_view_module": "@jupyter-widgets/base",
            "_model_module_version": "1.5.0",
            "_view_count": null,
            "_view_module_version": "1.2.0",
            "_model_module": "@jupyter-widgets/controls"
          }
        },
        "e3e4d880d9d142bdb9ea722be8e46508": {
          "model_module": "@jupyter-widgets/base",
          "model_name": "LayoutModel",
          "state": {
            "_view_name": "LayoutView",
            "grid_template_rows": null,
            "right": null,
            "justify_content": null,
            "_view_module": "@jupyter-widgets/base",
            "overflow": null,
            "_model_module_version": "1.2.0",
            "_view_count": null,
            "flex_flow": null,
            "width": null,
            "min_width": null,
            "border": null,
            "align_items": null,
            "bottom": null,
            "_model_module": "@jupyter-widgets/base",
            "top": null,
            "grid_column": null,
            "overflow_y": null,
            "overflow_x": null,
            "grid_auto_flow": null,
            "grid_area": null,
            "grid_template_columns": null,
            "flex": null,
            "_model_name": "LayoutModel",
            "justify_items": null,
            "grid_row": null,
            "max_height": null,
            "align_content": null,
            "visibility": null,
            "align_self": null,
            "height": null,
            "min_height": null,
            "padding": null,
            "grid_auto_rows": null,
            "grid_gap": null,
            "max_width": null,
            "order": null,
            "_view_module_version": "1.2.0",
            "grid_template_areas": null,
            "object_position": null,
            "object_fit": null,
            "grid_auto_columns": null,
            "margin": null,
            "display": null,
            "left": null
          }
        },
        "54892be2d4634cc0b578a4e2871b63e9": {
          "model_module": "@jupyter-widgets/controls",
          "model_name": "HBoxModel",
          "state": {
            "_view_name": "HBoxView",
            "_dom_classes": [],
            "_model_name": "HBoxModel",
            "_view_module": "@jupyter-widgets/controls",
            "_model_module_version": "1.5.0",
            "_view_count": null,
            "_view_module_version": "1.5.0",
            "box_style": "",
            "layout": "IPY_MODEL_87742a006a8747869d3fb08e44317d72",
            "_model_module": "@jupyter-widgets/controls",
            "children": [
              "IPY_MODEL_313c369e6e404c1aa95c4455624e3f9a",
              "IPY_MODEL_43297c4d61c34780ba20e2375b694980"
            ]
          }
        },
        "87742a006a8747869d3fb08e44317d72": {
          "model_module": "@jupyter-widgets/base",
          "model_name": "LayoutModel",
          "state": {
            "_view_name": "LayoutView",
            "grid_template_rows": null,
            "right": null,
            "justify_content": null,
            "_view_module": "@jupyter-widgets/base",
            "overflow": null,
            "_model_module_version": "1.2.0",
            "_view_count": null,
            "flex_flow": null,
            "width": null,
            "min_width": null,
            "border": null,
            "align_items": null,
            "bottom": null,
            "_model_module": "@jupyter-widgets/base",
            "top": null,
            "grid_column": null,
            "overflow_y": null,
            "overflow_x": null,
            "grid_auto_flow": null,
            "grid_area": null,
            "grid_template_columns": null,
            "flex": null,
            "_model_name": "LayoutModel",
            "justify_items": null,
            "grid_row": null,
            "max_height": null,
            "align_content": null,
            "visibility": null,
            "align_self": null,
            "height": null,
            "min_height": null,
            "padding": null,
            "grid_auto_rows": null,
            "grid_gap": null,
            "max_width": null,
            "order": null,
            "_view_module_version": "1.2.0",
            "grid_template_areas": null,
            "object_position": null,
            "object_fit": null,
            "grid_auto_columns": null,
            "margin": null,
            "display": null,
            "left": null
          }
        },
        "313c369e6e404c1aa95c4455624e3f9a": {
          "model_module": "@jupyter-widgets/controls",
          "model_name": "FloatProgressModel",
          "state": {
            "_view_name": "ProgressView",
            "style": "IPY_MODEL_f32e6cc86343415eaa8f0a81790bf33d",
            "_dom_classes": [],
            "description": "Downloading: 100%",
            "_model_name": "FloatProgressModel",
            "bar_style": "success",
            "max": 869007403,
            "_view_module": "@jupyter-widgets/controls",
            "_model_module_version": "1.5.0",
            "value": 869007403,
            "_view_count": null,
            "_view_module_version": "1.5.0",
            "orientation": "horizontal",
            "min": 0,
            "description_tooltip": null,
            "_model_module": "@jupyter-widgets/controls",
            "layout": "IPY_MODEL_67aed352fc934ae8a2cfa43a9ef62de1"
          }
        },
        "43297c4d61c34780ba20e2375b694980": {
          "model_module": "@jupyter-widgets/controls",
          "model_name": "HTMLModel",
          "state": {
            "_view_name": "HTMLView",
            "style": "IPY_MODEL_ccf091a4911447f492d5100648a04b40",
            "_dom_classes": [],
            "description": "",
            "_model_name": "HTMLModel",
            "placeholder": "​",
            "_view_module": "@jupyter-widgets/controls",
            "_model_module_version": "1.5.0",
            "value": " 869M/869M [00:58&lt;00:00, 14.7MB/s]",
            "_view_count": null,
            "_view_module_version": "1.5.0",
            "description_tooltip": null,
            "_model_module": "@jupyter-widgets/controls",
            "layout": "IPY_MODEL_392a841739aa47caaa6e3c3a6f479e8a"
          }
        },
        "f32e6cc86343415eaa8f0a81790bf33d": {
          "model_module": "@jupyter-widgets/controls",
          "model_name": "ProgressStyleModel",
          "state": {
            "_view_name": "StyleView",
            "_model_name": "ProgressStyleModel",
            "description_width": "initial",
            "_view_module": "@jupyter-widgets/base",
            "_model_module_version": "1.5.0",
            "_view_count": null,
            "_view_module_version": "1.2.0",
            "bar_color": null,
            "_model_module": "@jupyter-widgets/controls"
          }
        },
        "67aed352fc934ae8a2cfa43a9ef62de1": {
          "model_module": "@jupyter-widgets/base",
          "model_name": "LayoutModel",
          "state": {
            "_view_name": "LayoutView",
            "grid_template_rows": null,
            "right": null,
            "justify_content": null,
            "_view_module": "@jupyter-widgets/base",
            "overflow": null,
            "_model_module_version": "1.2.0",
            "_view_count": null,
            "flex_flow": null,
            "width": null,
            "min_width": null,
            "border": null,
            "align_items": null,
            "bottom": null,
            "_model_module": "@jupyter-widgets/base",
            "top": null,
            "grid_column": null,
            "overflow_y": null,
            "overflow_x": null,
            "grid_auto_flow": null,
            "grid_area": null,
            "grid_template_columns": null,
            "flex": null,
            "_model_name": "LayoutModel",
            "justify_items": null,
            "grid_row": null,
            "max_height": null,
            "align_content": null,
            "visibility": null,
            "align_self": null,
            "height": null,
            "min_height": null,
            "padding": null,
            "grid_auto_rows": null,
            "grid_gap": null,
            "max_width": null,
            "order": null,
            "_view_module_version": "1.2.0",
            "grid_template_areas": null,
            "object_position": null,
            "object_fit": null,
            "grid_auto_columns": null,
            "margin": null,
            "display": null,
            "left": null
          }
        },
        "ccf091a4911447f492d5100648a04b40": {
          "model_module": "@jupyter-widgets/controls",
          "model_name": "DescriptionStyleModel",
          "state": {
            "_view_name": "StyleView",
            "_model_name": "DescriptionStyleModel",
            "description_width": "",
            "_view_module": "@jupyter-widgets/base",
            "_model_module_version": "1.5.0",
            "_view_count": null,
            "_view_module_version": "1.2.0",
            "_model_module": "@jupyter-widgets/controls"
          }
        },
        "392a841739aa47caaa6e3c3a6f479e8a": {
          "model_module": "@jupyter-widgets/base",
          "model_name": "LayoutModel",
          "state": {
            "_view_name": "LayoutView",
            "grid_template_rows": null,
            "right": null,
            "justify_content": null,
            "_view_module": "@jupyter-widgets/base",
            "overflow": null,
            "_model_module_version": "1.2.0",
            "_view_count": null,
            "flex_flow": null,
            "width": null,
            "min_width": null,
            "border": null,
            "align_items": null,
            "bottom": null,
            "_model_module": "@jupyter-widgets/base",
            "top": null,
            "grid_column": null,
            "overflow_y": null,
            "overflow_x": null,
            "grid_auto_flow": null,
            "grid_area": null,
            "grid_template_columns": null,
            "flex": null,
            "_model_name": "LayoutModel",
            "justify_items": null,
            "grid_row": null,
            "max_height": null,
            "align_content": null,
            "visibility": null,
            "align_self": null,
            "height": null,
            "min_height": null,
            "padding": null,
            "grid_auto_rows": null,
            "grid_gap": null,
            "max_width": null,
            "order": null,
            "_view_module_version": "1.2.0",
            "grid_template_areas": null,
            "object_position": null,
            "object_fit": null,
            "grid_auto_columns": null,
            "margin": null,
            "display": null,
            "left": null
          }
        },
        "3c40a0465f9549c3b1ed383f2bbcaf4b": {
          "model_module": "@jupyter-widgets/controls",
          "model_name": "HBoxModel",
          "state": {
            "_view_name": "HBoxView",
            "_dom_classes": [],
            "_model_name": "HBoxModel",
            "_view_module": "@jupyter-widgets/controls",
            "_model_module_version": "1.5.0",
            "_view_count": null,
            "_view_module_version": "1.5.0",
            "box_style": "",
            "layout": "IPY_MODEL_e0a366eedf8a4075848a376a63a7ebda",
            "_model_module": "@jupyter-widgets/controls",
            "children": [
              "IPY_MODEL_fe3f1f5ff886489faecf94ed78dc9dc8",
              "IPY_MODEL_0a45ba8cf851468683a8200878b82137"
            ]
          }
        },
        "e0a366eedf8a4075848a376a63a7ebda": {
          "model_module": "@jupyter-widgets/base",
          "model_name": "LayoutModel",
          "state": {
            "_view_name": "LayoutView",
            "grid_template_rows": null,
            "right": null,
            "justify_content": null,
            "_view_module": "@jupyter-widgets/base",
            "overflow": null,
            "_model_module_version": "1.2.0",
            "_view_count": null,
            "flex_flow": null,
            "width": null,
            "min_width": null,
            "border": null,
            "align_items": null,
            "bottom": null,
            "_model_module": "@jupyter-widgets/base",
            "top": null,
            "grid_column": null,
            "overflow_y": null,
            "overflow_x": null,
            "grid_auto_flow": null,
            "grid_area": null,
            "grid_template_columns": null,
            "flex": null,
            "_model_name": "LayoutModel",
            "justify_items": null,
            "grid_row": null,
            "max_height": null,
            "align_content": null,
            "visibility": null,
            "align_self": null,
            "height": null,
            "min_height": null,
            "padding": null,
            "grid_auto_rows": null,
            "grid_gap": null,
            "max_width": null,
            "order": null,
            "_view_module_version": "1.2.0",
            "grid_template_areas": null,
            "object_position": null,
            "object_fit": null,
            "grid_auto_columns": null,
            "margin": null,
            "display": null,
            "left": null
          }
        },
        "fe3f1f5ff886489faecf94ed78dc9dc8": {
          "model_module": "@jupyter-widgets/controls",
          "model_name": "FloatProgressModel",
          "state": {
            "_view_name": "ProgressView",
            "style": "IPY_MODEL_c9eb0d59f950479faf8e13913fde911d",
            "_dom_classes": [],
            "description": "",
            "_model_name": "FloatProgressModel",
            "bar_style": "info",
            "max": 1,
            "_view_module": "@jupyter-widgets/controls",
            "_model_module_version": "1.5.0",
            "value": 1,
            "_view_count": null,
            "_view_module_version": "1.5.0",
            "orientation": "horizontal",
            "min": 0,
            "description_tooltip": null,
            "_model_module": "@jupyter-widgets/controls",
            "layout": "IPY_MODEL_f6f6ccfa402a4779a8d897943b9a2faa"
          }
        },
        "0a45ba8cf851468683a8200878b82137": {
          "model_module": "@jupyter-widgets/controls",
          "model_name": "HTMLModel",
          "state": {
            "_view_name": "HTMLView",
            "style": "IPY_MODEL_ad1a997a88d14955a50d5c4930d43fa5",
            "_dom_classes": [],
            "description": "",
            "_model_name": "HTMLModel",
            "placeholder": "​",
            "_view_module": "@jupyter-widgets/controls",
            "_model_module_version": "1.5.0",
            "value": " 4620/0 [00:08&lt;00:00, 1304.76 examples/s]",
            "_view_count": null,
            "_view_module_version": "1.5.0",
            "description_tooltip": null,
            "_model_module": "@jupyter-widgets/controls",
            "layout": "IPY_MODEL_a54f2955d32e46e1ba49531df306c839"
          }
        },
        "c9eb0d59f950479faf8e13913fde911d": {
          "model_module": "@jupyter-widgets/controls",
          "model_name": "ProgressStyleModel",
          "state": {
            "_view_name": "StyleView",
            "_model_name": "ProgressStyleModel",
            "description_width": "initial",
            "_view_module": "@jupyter-widgets/base",
            "_model_module_version": "1.5.0",
            "_view_count": null,
            "_view_module_version": "1.2.0",
            "bar_color": null,
            "_model_module": "@jupyter-widgets/controls"
          }
        },
        "f6f6ccfa402a4779a8d897943b9a2faa": {
          "model_module": "@jupyter-widgets/base",
          "model_name": "LayoutModel",
          "state": {
            "_view_name": "LayoutView",
            "grid_template_rows": null,
            "right": null,
            "justify_content": null,
            "_view_module": "@jupyter-widgets/base",
            "overflow": null,
            "_model_module_version": "1.2.0",
            "_view_count": null,
            "flex_flow": null,
            "width": null,
            "min_width": null,
            "border": null,
            "align_items": null,
            "bottom": null,
            "_model_module": "@jupyter-widgets/base",
            "top": null,
            "grid_column": null,
            "overflow_y": null,
            "overflow_x": null,
            "grid_auto_flow": null,
            "grid_area": null,
            "grid_template_columns": null,
            "flex": null,
            "_model_name": "LayoutModel",
            "justify_items": null,
            "grid_row": null,
            "max_height": null,
            "align_content": null,
            "visibility": null,
            "align_self": null,
            "height": null,
            "min_height": null,
            "padding": null,
            "grid_auto_rows": null,
            "grid_gap": null,
            "max_width": null,
            "order": null,
            "_view_module_version": "1.2.0",
            "grid_template_areas": null,
            "object_position": null,
            "object_fit": null,
            "grid_auto_columns": null,
            "margin": null,
            "display": null,
            "left": null
          }
        },
        "ad1a997a88d14955a50d5c4930d43fa5": {
          "model_module": "@jupyter-widgets/controls",
          "model_name": "DescriptionStyleModel",
          "state": {
            "_view_name": "StyleView",
            "_model_name": "DescriptionStyleModel",
            "description_width": "",
            "_view_module": "@jupyter-widgets/base",
            "_model_module_version": "1.5.0",
            "_view_count": null,
            "_view_module_version": "1.2.0",
            "_model_module": "@jupyter-widgets/controls"
          }
        },
        "a54f2955d32e46e1ba49531df306c839": {
          "model_module": "@jupyter-widgets/base",
          "model_name": "LayoutModel",
          "state": {
            "_view_name": "LayoutView",
            "grid_template_rows": null,
            "right": null,
            "justify_content": null,
            "_view_module": "@jupyter-widgets/base",
            "overflow": null,
            "_model_module_version": "1.2.0",
            "_view_count": null,
            "flex_flow": null,
            "width": null,
            "min_width": null,
            "border": null,
            "align_items": null,
            "bottom": null,
            "_model_module": "@jupyter-widgets/base",
            "top": null,
            "grid_column": null,
            "overflow_y": null,
            "overflow_x": null,
            "grid_auto_flow": null,
            "grid_area": null,
            "grid_template_columns": null,
            "flex": null,
            "_model_name": "LayoutModel",
            "justify_items": null,
            "grid_row": null,
            "max_height": null,
            "align_content": null,
            "visibility": null,
            "align_self": null,
            "height": null,
            "min_height": null,
            "padding": null,
            "grid_auto_rows": null,
            "grid_gap": null,
            "max_width": null,
            "order": null,
            "_view_module_version": "1.2.0",
            "grid_template_areas": null,
            "object_position": null,
            "object_fit": null,
            "grid_auto_columns": null,
            "margin": null,
            "display": null,
            "left": null
          }
        },
        "aa989d1705754afc95566f658ce512dc": {
          "model_module": "@jupyter-widgets/controls",
          "model_name": "HBoxModel",
          "state": {
            "_view_name": "HBoxView",
            "_dom_classes": [],
            "_model_name": "HBoxModel",
            "_view_module": "@jupyter-widgets/controls",
            "_model_module_version": "1.5.0",
            "_view_count": null,
            "_view_module_version": "1.5.0",
            "box_style": "",
            "layout": "IPY_MODEL_5d13b559ec094439a751f48666fd285e",
            "_model_module": "@jupyter-widgets/controls",
            "children": [
              "IPY_MODEL_8337cd14b5f641db963741462d636c59",
              "IPY_MODEL_4f59862c99684e39abd5ad5c5bc0417c"
            ]
          }
        },
        "5d13b559ec094439a751f48666fd285e": {
          "model_module": "@jupyter-widgets/base",
          "model_name": "LayoutModel",
          "state": {
            "_view_name": "LayoutView",
            "grid_template_rows": null,
            "right": null,
            "justify_content": null,
            "_view_module": "@jupyter-widgets/base",
            "overflow": null,
            "_model_module_version": "1.2.0",
            "_view_count": null,
            "flex_flow": null,
            "width": null,
            "min_width": null,
            "border": null,
            "align_items": null,
            "bottom": null,
            "_model_module": "@jupyter-widgets/base",
            "top": null,
            "grid_column": null,
            "overflow_y": null,
            "overflow_x": null,
            "grid_auto_flow": null,
            "grid_area": null,
            "grid_template_columns": null,
            "flex": null,
            "_model_name": "LayoutModel",
            "justify_items": null,
            "grid_row": null,
            "max_height": null,
            "align_content": null,
            "visibility": null,
            "align_self": null,
            "height": null,
            "min_height": null,
            "padding": null,
            "grid_auto_rows": null,
            "grid_gap": null,
            "max_width": null,
            "order": null,
            "_view_module_version": "1.2.0",
            "grid_template_areas": null,
            "object_position": null,
            "object_fit": null,
            "grid_auto_columns": null,
            "margin": null,
            "display": null,
            "left": null
          }
        },
        "8337cd14b5f641db963741462d636c59": {
          "model_module": "@jupyter-widgets/controls",
          "model_name": "FloatProgressModel",
          "state": {
            "_view_name": "ProgressView",
            "style": "IPY_MODEL_1c2d243fc5c44c75aae0c5902211063f",
            "_dom_classes": [],
            "description": "",
            "_model_name": "FloatProgressModel",
            "bar_style": "info",
            "max": 1,
            "_view_module": "@jupyter-widgets/controls",
            "_model_module_version": "1.5.0",
            "value": 1,
            "_view_count": null,
            "_view_module_version": "1.5.0",
            "orientation": "horizontal",
            "min": 0,
            "description_tooltip": null,
            "_model_module": "@jupyter-widgets/controls",
            "layout": "IPY_MODEL_7a78b48a2bc745be913b3a105a9d5e09"
          }
        },
        "4f59862c99684e39abd5ad5c5bc0417c": {
          "model_module": "@jupyter-widgets/controls",
          "model_name": "HTMLModel",
          "state": {
            "_view_name": "HTMLView",
            "style": "IPY_MODEL_66a71d4a51084fb596af67d9e5913d01",
            "_dom_classes": [],
            "description": "",
            "_model_name": "HTMLModel",
            "placeholder": "​",
            "_view_module": "@jupyter-widgets/controls",
            "_model_module_version": "1.5.0",
            "value": " 1680/0 [00:01&lt;00:00, 701.27 examples/s]",
            "_view_count": null,
            "_view_module_version": "1.5.0",
            "description_tooltip": null,
            "_model_module": "@jupyter-widgets/controls",
            "layout": "IPY_MODEL_831d4c87116a4b1aa39f46ac3b5126c8"
          }
        },
        "1c2d243fc5c44c75aae0c5902211063f": {
          "model_module": "@jupyter-widgets/controls",
          "model_name": "ProgressStyleModel",
          "state": {
            "_view_name": "StyleView",
            "_model_name": "ProgressStyleModel",
            "description_width": "initial",
            "_view_module": "@jupyter-widgets/base",
            "_model_module_version": "1.5.0",
            "_view_count": null,
            "_view_module_version": "1.2.0",
            "bar_color": null,
            "_model_module": "@jupyter-widgets/controls"
          }
        },
        "7a78b48a2bc745be913b3a105a9d5e09": {
          "model_module": "@jupyter-widgets/base",
          "model_name": "LayoutModel",
          "state": {
            "_view_name": "LayoutView",
            "grid_template_rows": null,
            "right": null,
            "justify_content": null,
            "_view_module": "@jupyter-widgets/base",
            "overflow": null,
            "_model_module_version": "1.2.0",
            "_view_count": null,
            "flex_flow": null,
            "width": null,
            "min_width": null,
            "border": null,
            "align_items": null,
            "bottom": null,
            "_model_module": "@jupyter-widgets/base",
            "top": null,
            "grid_column": null,
            "overflow_y": null,
            "overflow_x": null,
            "grid_auto_flow": null,
            "grid_area": null,
            "grid_template_columns": null,
            "flex": null,
            "_model_name": "LayoutModel",
            "justify_items": null,
            "grid_row": null,
            "max_height": null,
            "align_content": null,
            "visibility": null,
            "align_self": null,
            "height": null,
            "min_height": null,
            "padding": null,
            "grid_auto_rows": null,
            "grid_gap": null,
            "max_width": null,
            "order": null,
            "_view_module_version": "1.2.0",
            "grid_template_areas": null,
            "object_position": null,
            "object_fit": null,
            "grid_auto_columns": null,
            "margin": null,
            "display": null,
            "left": null
          }
        },
        "66a71d4a51084fb596af67d9e5913d01": {
          "model_module": "@jupyter-widgets/controls",
          "model_name": "DescriptionStyleModel",
          "state": {
            "_view_name": "StyleView",
            "_model_name": "DescriptionStyleModel",
            "description_width": "",
            "_view_module": "@jupyter-widgets/base",
            "_model_module_version": "1.5.0",
            "_view_count": null,
            "_view_module_version": "1.2.0",
            "_model_module": "@jupyter-widgets/controls"
          }
        },
        "831d4c87116a4b1aa39f46ac3b5126c8": {
          "model_module": "@jupyter-widgets/base",
          "model_name": "LayoutModel",
          "state": {
            "_view_name": "LayoutView",
            "grid_template_rows": null,
            "right": null,
            "justify_content": null,
            "_view_module": "@jupyter-widgets/base",
            "overflow": null,
            "_model_module_version": "1.2.0",
            "_view_count": null,
            "flex_flow": null,
            "width": null,
            "min_width": null,
            "border": null,
            "align_items": null,
            "bottom": null,
            "_model_module": "@jupyter-widgets/base",
            "top": null,
            "grid_column": null,
            "overflow_y": null,
            "overflow_x": null,
            "grid_auto_flow": null,
            "grid_area": null,
            "grid_template_columns": null,
            "flex": null,
            "_model_name": "LayoutModel",
            "justify_items": null,
            "grid_row": null,
            "max_height": null,
            "align_content": null,
            "visibility": null,
            "align_self": null,
            "height": null,
            "min_height": null,
            "padding": null,
            "grid_auto_rows": null,
            "grid_gap": null,
            "max_width": null,
            "order": null,
            "_view_module_version": "1.2.0",
            "grid_template_areas": null,
            "object_position": null,
            "object_fit": null,
            "grid_auto_columns": null,
            "margin": null,
            "display": null,
            "left": null
          }
        },
        "df9f1d3757db4a24b2aeb026c364907e": {
          "model_module": "@jupyter-widgets/controls",
          "model_name": "HBoxModel",
          "state": {
            "_view_name": "HBoxView",
            "_dom_classes": [],
            "_model_name": "HBoxModel",
            "_view_module": "@jupyter-widgets/controls",
            "_model_module_version": "1.5.0",
            "_view_count": null,
            "_view_module_version": "1.5.0",
            "box_style": "",
            "layout": "IPY_MODEL_7ae97d18eddb44cd9c3d3546861c12b0",
            "_model_module": "@jupyter-widgets/controls",
            "children": [
              "IPY_MODEL_6c8e71ea3f3047859491a66496544825",
              "IPY_MODEL_9ea56ad122c0461cbe88eb6b44ea0f97"
            ]
          }
        },
        "7ae97d18eddb44cd9c3d3546861c12b0": {
          "model_module": "@jupyter-widgets/base",
          "model_name": "LayoutModel",
          "state": {
            "_view_name": "LayoutView",
            "grid_template_rows": null,
            "right": null,
            "justify_content": null,
            "_view_module": "@jupyter-widgets/base",
            "overflow": null,
            "_model_module_version": "1.2.0",
            "_view_count": null,
            "flex_flow": null,
            "width": null,
            "min_width": null,
            "border": null,
            "align_items": null,
            "bottom": null,
            "_model_module": "@jupyter-widgets/base",
            "top": null,
            "grid_column": null,
            "overflow_y": null,
            "overflow_x": null,
            "grid_auto_flow": null,
            "grid_area": null,
            "grid_template_columns": null,
            "flex": null,
            "_model_name": "LayoutModel",
            "justify_items": null,
            "grid_row": null,
            "max_height": null,
            "align_content": null,
            "visibility": null,
            "align_self": null,
            "height": null,
            "min_height": null,
            "padding": null,
            "grid_auto_rows": null,
            "grid_gap": null,
            "max_width": null,
            "order": null,
            "_view_module_version": "1.2.0",
            "grid_template_areas": null,
            "object_position": null,
            "object_fit": null,
            "grid_auto_columns": null,
            "margin": null,
            "display": null,
            "left": null
          }
        },
        "6c8e71ea3f3047859491a66496544825": {
          "model_module": "@jupyter-widgets/controls",
          "model_name": "FloatProgressModel",
          "state": {
            "_view_name": "ProgressView",
            "style": "IPY_MODEL_b8b0ace5299c40b78b519e86ddd57341",
            "_dom_classes": [],
            "description": "100%",
            "_model_name": "FloatProgressModel",
            "bar_style": "success",
            "max": 10,
            "_view_module": "@jupyter-widgets/controls",
            "_model_module_version": "1.5.0",
            "value": 10,
            "_view_count": null,
            "_view_module_version": "1.5.0",
            "orientation": "horizontal",
            "min": 0,
            "description_tooltip": null,
            "_model_module": "@jupyter-widgets/controls",
            "layout": "IPY_MODEL_1729f504eef34e4e968be40fc768eafc"
          }
        },
        "9ea56ad122c0461cbe88eb6b44ea0f97": {
          "model_module": "@jupyter-widgets/controls",
          "model_name": "HTMLModel",
          "state": {
            "_view_name": "HTMLView",
            "style": "IPY_MODEL_9e4a70597ec74b24aae96091ba750653",
            "_dom_classes": [],
            "description": "",
            "_model_name": "HTMLModel",
            "placeholder": "​",
            "_view_module": "@jupyter-widgets/controls",
            "_model_module_version": "1.5.0",
            "value": " 10/10 [00:00&lt;00:00, 199.82ex/s]",
            "_view_count": null,
            "_view_module_version": "1.5.0",
            "description_tooltip": null,
            "_model_module": "@jupyter-widgets/controls",
            "layout": "IPY_MODEL_a183987b53c944f09ccd26c0ff2c5717"
          }
        },
        "b8b0ace5299c40b78b519e86ddd57341": {
          "model_module": "@jupyter-widgets/controls",
          "model_name": "ProgressStyleModel",
          "state": {
            "_view_name": "StyleView",
            "_model_name": "ProgressStyleModel",
            "description_width": "initial",
            "_view_module": "@jupyter-widgets/base",
            "_model_module_version": "1.5.0",
            "_view_count": null,
            "_view_module_version": "1.2.0",
            "bar_color": null,
            "_model_module": "@jupyter-widgets/controls"
          }
        },
        "1729f504eef34e4e968be40fc768eafc": {
          "model_module": "@jupyter-widgets/base",
          "model_name": "LayoutModel",
          "state": {
            "_view_name": "LayoutView",
            "grid_template_rows": null,
            "right": null,
            "justify_content": null,
            "_view_module": "@jupyter-widgets/base",
            "overflow": null,
            "_model_module_version": "1.2.0",
            "_view_count": null,
            "flex_flow": null,
            "width": null,
            "min_width": null,
            "border": null,
            "align_items": null,
            "bottom": null,
            "_model_module": "@jupyter-widgets/base",
            "top": null,
            "grid_column": null,
            "overflow_y": null,
            "overflow_x": null,
            "grid_auto_flow": null,
            "grid_area": null,
            "grid_template_columns": null,
            "flex": null,
            "_model_name": "LayoutModel",
            "justify_items": null,
            "grid_row": null,
            "max_height": null,
            "align_content": null,
            "visibility": null,
            "align_self": null,
            "height": null,
            "min_height": null,
            "padding": null,
            "grid_auto_rows": null,
            "grid_gap": null,
            "max_width": null,
            "order": null,
            "_view_module_version": "1.2.0",
            "grid_template_areas": null,
            "object_position": null,
            "object_fit": null,
            "grid_auto_columns": null,
            "margin": null,
            "display": null,
            "left": null
          }
        },
        "9e4a70597ec74b24aae96091ba750653": {
          "model_module": "@jupyter-widgets/controls",
          "model_name": "DescriptionStyleModel",
          "state": {
            "_view_name": "StyleView",
            "_model_name": "DescriptionStyleModel",
            "description_width": "",
            "_view_module": "@jupyter-widgets/base",
            "_model_module_version": "1.5.0",
            "_view_count": null,
            "_view_module_version": "1.2.0",
            "_model_module": "@jupyter-widgets/controls"
          }
        },
        "a183987b53c944f09ccd26c0ff2c5717": {
          "model_module": "@jupyter-widgets/base",
          "model_name": "LayoutModel",
          "state": {
            "_view_name": "LayoutView",
            "grid_template_rows": null,
            "right": null,
            "justify_content": null,
            "_view_module": "@jupyter-widgets/base",
            "overflow": null,
            "_model_module_version": "1.2.0",
            "_view_count": null,
            "flex_flow": null,
            "width": null,
            "min_width": null,
            "border": null,
            "align_items": null,
            "bottom": null,
            "_model_module": "@jupyter-widgets/base",
            "top": null,
            "grid_column": null,
            "overflow_y": null,
            "overflow_x": null,
            "grid_auto_flow": null,
            "grid_area": null,
            "grid_template_columns": null,
            "flex": null,
            "_model_name": "LayoutModel",
            "justify_items": null,
            "grid_row": null,
            "max_height": null,
            "align_content": null,
            "visibility": null,
            "align_self": null,
            "height": null,
            "min_height": null,
            "padding": null,
            "grid_auto_rows": null,
            "grid_gap": null,
            "max_width": null,
            "order": null,
            "_view_module_version": "1.2.0",
            "grid_template_areas": null,
            "object_position": null,
            "object_fit": null,
            "grid_auto_columns": null,
            "margin": null,
            "display": null,
            "left": null
          }
        },
        "168aad739a8748aca278e214e5f16b8a": {
          "model_module": "@jupyter-widgets/controls",
          "model_name": "HBoxModel",
          "state": {
            "_view_name": "HBoxView",
            "_dom_classes": [],
            "_model_name": "HBoxModel",
            "_view_module": "@jupyter-widgets/controls",
            "_model_module_version": "1.5.0",
            "_view_count": null,
            "_view_module_version": "1.5.0",
            "box_style": "",
            "layout": "IPY_MODEL_e862d0f4bff24ca68107ae82c69a264b",
            "_model_module": "@jupyter-widgets/controls",
            "children": [
              "IPY_MODEL_ef464d7c603c4acfa191ce143d1b2610",
              "IPY_MODEL_22b137b616764b1c958789590b8c6756"
            ]
          }
        },
        "e862d0f4bff24ca68107ae82c69a264b": {
          "model_module": "@jupyter-widgets/base",
          "model_name": "LayoutModel",
          "state": {
            "_view_name": "LayoutView",
            "grid_template_rows": null,
            "right": null,
            "justify_content": null,
            "_view_module": "@jupyter-widgets/base",
            "overflow": null,
            "_model_module_version": "1.2.0",
            "_view_count": null,
            "flex_flow": null,
            "width": null,
            "min_width": null,
            "border": null,
            "align_items": null,
            "bottom": null,
            "_model_module": "@jupyter-widgets/base",
            "top": null,
            "grid_column": null,
            "overflow_y": null,
            "overflow_x": null,
            "grid_auto_flow": null,
            "grid_area": null,
            "grid_template_columns": null,
            "flex": null,
            "_model_name": "LayoutModel",
            "justify_items": null,
            "grid_row": null,
            "max_height": null,
            "align_content": null,
            "visibility": null,
            "align_self": null,
            "height": null,
            "min_height": null,
            "padding": null,
            "grid_auto_rows": null,
            "grid_gap": null,
            "max_width": null,
            "order": null,
            "_view_module_version": "1.2.0",
            "grid_template_areas": null,
            "object_position": null,
            "object_fit": null,
            "grid_auto_columns": null,
            "margin": null,
            "display": null,
            "left": null
          }
        },
        "ef464d7c603c4acfa191ce143d1b2610": {
          "model_module": "@jupyter-widgets/controls",
          "model_name": "FloatProgressModel",
          "state": {
            "_view_name": "ProgressView",
            "style": "IPY_MODEL_c8ef9b4b2087499b88b2ff4047063ba0",
            "_dom_classes": [],
            "description": "100%",
            "_model_name": "FloatProgressModel",
            "bar_style": "success",
            "max": 10,
            "_view_module": "@jupyter-widgets/controls",
            "_model_module_version": "1.5.0",
            "value": 10,
            "_view_count": null,
            "_view_module_version": "1.5.0",
            "orientation": "horizontal",
            "min": 0,
            "description_tooltip": null,
            "_model_module": "@jupyter-widgets/controls",
            "layout": "IPY_MODEL_16d64f6669c743b2a12d8a9cfd7524ff"
          }
        },
        "22b137b616764b1c958789590b8c6756": {
          "model_module": "@jupyter-widgets/controls",
          "model_name": "HTMLModel",
          "state": {
            "_view_name": "HTMLView",
            "style": "IPY_MODEL_4ec1eabbf8d04caabe6affb80a25fba3",
            "_dom_classes": [],
            "description": "",
            "_model_name": "HTMLModel",
            "placeholder": "​",
            "_view_module": "@jupyter-widgets/controls",
            "_model_module_version": "1.5.0",
            "value": " 10/10 [08:53&lt;00:00, 53.36s/ex]",
            "_view_count": null,
            "_view_module_version": "1.5.0",
            "description_tooltip": null,
            "_model_module": "@jupyter-widgets/controls",
            "layout": "IPY_MODEL_4759a3eb72344e42a43274705c79488c"
          }
        },
        "c8ef9b4b2087499b88b2ff4047063ba0": {
          "model_module": "@jupyter-widgets/controls",
          "model_name": "ProgressStyleModel",
          "state": {
            "_view_name": "StyleView",
            "_model_name": "ProgressStyleModel",
            "description_width": "initial",
            "_view_module": "@jupyter-widgets/base",
            "_model_module_version": "1.5.0",
            "_view_count": null,
            "_view_module_version": "1.2.0",
            "bar_color": null,
            "_model_module": "@jupyter-widgets/controls"
          }
        },
        "16d64f6669c743b2a12d8a9cfd7524ff": {
          "model_module": "@jupyter-widgets/base",
          "model_name": "LayoutModel",
          "state": {
            "_view_name": "LayoutView",
            "grid_template_rows": null,
            "right": null,
            "justify_content": null,
            "_view_module": "@jupyter-widgets/base",
            "overflow": null,
            "_model_module_version": "1.2.0",
            "_view_count": null,
            "flex_flow": null,
            "width": null,
            "min_width": null,
            "border": null,
            "align_items": null,
            "bottom": null,
            "_model_module": "@jupyter-widgets/base",
            "top": null,
            "grid_column": null,
            "overflow_y": null,
            "overflow_x": null,
            "grid_auto_flow": null,
            "grid_area": null,
            "grid_template_columns": null,
            "flex": null,
            "_model_name": "LayoutModel",
            "justify_items": null,
            "grid_row": null,
            "max_height": null,
            "align_content": null,
            "visibility": null,
            "align_self": null,
            "height": null,
            "min_height": null,
            "padding": null,
            "grid_auto_rows": null,
            "grid_gap": null,
            "max_width": null,
            "order": null,
            "_view_module_version": "1.2.0",
            "grid_template_areas": null,
            "object_position": null,
            "object_fit": null,
            "grid_auto_columns": null,
            "margin": null,
            "display": null,
            "left": null
          }
        },
        "4ec1eabbf8d04caabe6affb80a25fba3": {
          "model_module": "@jupyter-widgets/controls",
          "model_name": "DescriptionStyleModel",
          "state": {
            "_view_name": "StyleView",
            "_model_name": "DescriptionStyleModel",
            "description_width": "",
            "_view_module": "@jupyter-widgets/base",
            "_model_module_version": "1.5.0",
            "_view_count": null,
            "_view_module_version": "1.2.0",
            "_model_module": "@jupyter-widgets/controls"
          }
        },
        "4759a3eb72344e42a43274705c79488c": {
          "model_module": "@jupyter-widgets/base",
          "model_name": "LayoutModel",
          "state": {
            "_view_name": "LayoutView",
            "grid_template_rows": null,
            "right": null,
            "justify_content": null,
            "_view_module": "@jupyter-widgets/base",
            "overflow": null,
            "_model_module_version": "1.2.0",
            "_view_count": null,
            "flex_flow": null,
            "width": null,
            "min_width": null,
            "border": null,
            "align_items": null,
            "bottom": null,
            "_model_module": "@jupyter-widgets/base",
            "top": null,
            "grid_column": null,
            "overflow_y": null,
            "overflow_x": null,
            "grid_auto_flow": null,
            "grid_area": null,
            "grid_template_columns": null,
            "flex": null,
            "_model_name": "LayoutModel",
            "justify_items": null,
            "grid_row": null,
            "max_height": null,
            "align_content": null,
            "visibility": null,
            "align_self": null,
            "height": null,
            "min_height": null,
            "padding": null,
            "grid_auto_rows": null,
            "grid_gap": null,
            "max_width": null,
            "order": null,
            "_view_module_version": "1.2.0",
            "grid_template_areas": null,
            "object_position": null,
            "object_fit": null,
            "grid_auto_columns": null,
            "margin": null,
            "display": null,
            "left": null
          }
        },
        "fd9fe7baf7464f9fa726a9bbdcbb7964": {
          "model_module": "@jupyter-widgets/controls",
          "model_name": "HBoxModel",
          "state": {
            "_view_name": "HBoxView",
            "_dom_classes": [],
            "_model_name": "HBoxModel",
            "_view_module": "@jupyter-widgets/controls",
            "_model_module_version": "1.5.0",
            "_view_count": null,
            "_view_module_version": "1.5.0",
            "box_style": "",
            "layout": "IPY_MODEL_74b36ecdf23b4d619fd3d78e91c97aee",
            "_model_module": "@jupyter-widgets/controls",
            "children": [
              "IPY_MODEL_84cf08c2545943849d1b8ac617b12d8a",
              "IPY_MODEL_f9133c847a164dcebfe01c12dee5e472"
            ]
          }
        },
        "74b36ecdf23b4d619fd3d78e91c97aee": {
          "model_module": "@jupyter-widgets/base",
          "model_name": "LayoutModel",
          "state": {
            "_view_name": "LayoutView",
            "grid_template_rows": null,
            "right": null,
            "justify_content": null,
            "_view_module": "@jupyter-widgets/base",
            "overflow": null,
            "_model_module_version": "1.2.0",
            "_view_count": null,
            "flex_flow": null,
            "width": null,
            "min_width": null,
            "border": null,
            "align_items": null,
            "bottom": null,
            "_model_module": "@jupyter-widgets/base",
            "top": null,
            "grid_column": null,
            "overflow_y": null,
            "overflow_x": null,
            "grid_auto_flow": null,
            "grid_area": null,
            "grid_template_columns": null,
            "flex": null,
            "_model_name": "LayoutModel",
            "justify_items": null,
            "grid_row": null,
            "max_height": null,
            "align_content": null,
            "visibility": null,
            "align_self": null,
            "height": null,
            "min_height": null,
            "padding": null,
            "grid_auto_rows": null,
            "grid_gap": null,
            "max_width": null,
            "order": null,
            "_view_module_version": "1.2.0",
            "grid_template_areas": null,
            "object_position": null,
            "object_fit": null,
            "grid_auto_columns": null,
            "margin": null,
            "display": null,
            "left": null
          }
        },
        "84cf08c2545943849d1b8ac617b12d8a": {
          "model_module": "@jupyter-widgets/controls",
          "model_name": "FloatProgressModel",
          "state": {
            "_view_name": "ProgressView",
            "style": "IPY_MODEL_f7243bfafe3c45c5b25383c362370e61",
            "_dom_classes": [],
            "description": "100%",
            "_model_name": "FloatProgressModel",
            "bar_style": "success",
            "max": 1,
            "_view_module": "@jupyter-widgets/controls",
            "_model_module_version": "1.5.0",
            "value": 1,
            "_view_count": null,
            "_view_module_version": "1.5.0",
            "orientation": "horizontal",
            "min": 0,
            "description_tooltip": null,
            "_model_module": "@jupyter-widgets/controls",
            "layout": "IPY_MODEL_a996f0aeabed4df68b94f04b0f124b53"
          }
        },
        "f9133c847a164dcebfe01c12dee5e472": {
          "model_module": "@jupyter-widgets/controls",
          "model_name": "HTMLModel",
          "state": {
            "_view_name": "HTMLView",
            "style": "IPY_MODEL_fb1a6dfe1c3e423f8e624c961c882b5e",
            "_dom_classes": [],
            "description": "",
            "_model_name": "HTMLModel",
            "placeholder": "​",
            "_view_module": "@jupyter-widgets/controls",
            "_model_module_version": "1.5.0",
            "value": " 1/1 [00:00&lt;00:00, 18.22ba/s]",
            "_view_count": null,
            "_view_module_version": "1.5.0",
            "description_tooltip": null,
            "_model_module": "@jupyter-widgets/controls",
            "layout": "IPY_MODEL_5169466ccd0d42bd8f5f210e9e9649f3"
          }
        },
        "f7243bfafe3c45c5b25383c362370e61": {
          "model_module": "@jupyter-widgets/controls",
          "model_name": "ProgressStyleModel",
          "state": {
            "_view_name": "StyleView",
            "_model_name": "ProgressStyleModel",
            "description_width": "initial",
            "_view_module": "@jupyter-widgets/base",
            "_model_module_version": "1.5.0",
            "_view_count": null,
            "_view_module_version": "1.2.0",
            "bar_color": null,
            "_model_module": "@jupyter-widgets/controls"
          }
        },
        "a996f0aeabed4df68b94f04b0f124b53": {
          "model_module": "@jupyter-widgets/base",
          "model_name": "LayoutModel",
          "state": {
            "_view_name": "LayoutView",
            "grid_template_rows": null,
            "right": null,
            "justify_content": null,
            "_view_module": "@jupyter-widgets/base",
            "overflow": null,
            "_model_module_version": "1.2.0",
            "_view_count": null,
            "flex_flow": null,
            "width": null,
            "min_width": null,
            "border": null,
            "align_items": null,
            "bottom": null,
            "_model_module": "@jupyter-widgets/base",
            "top": null,
            "grid_column": null,
            "overflow_y": null,
            "overflow_x": null,
            "grid_auto_flow": null,
            "grid_area": null,
            "grid_template_columns": null,
            "flex": null,
            "_model_name": "LayoutModel",
            "justify_items": null,
            "grid_row": null,
            "max_height": null,
            "align_content": null,
            "visibility": null,
            "align_self": null,
            "height": null,
            "min_height": null,
            "padding": null,
            "grid_auto_rows": null,
            "grid_gap": null,
            "max_width": null,
            "order": null,
            "_view_module_version": "1.2.0",
            "grid_template_areas": null,
            "object_position": null,
            "object_fit": null,
            "grid_auto_columns": null,
            "margin": null,
            "display": null,
            "left": null
          }
        },
        "fb1a6dfe1c3e423f8e624c961c882b5e": {
          "model_module": "@jupyter-widgets/controls",
          "model_name": "DescriptionStyleModel",
          "state": {
            "_view_name": "StyleView",
            "_model_name": "DescriptionStyleModel",
            "description_width": "",
            "_view_module": "@jupyter-widgets/base",
            "_model_module_version": "1.5.0",
            "_view_count": null,
            "_view_module_version": "1.2.0",
            "_model_module": "@jupyter-widgets/controls"
          }
        },
        "5169466ccd0d42bd8f5f210e9e9649f3": {
          "model_module": "@jupyter-widgets/base",
          "model_name": "LayoutModel",
          "state": {
            "_view_name": "LayoutView",
            "grid_template_rows": null,
            "right": null,
            "justify_content": null,
            "_view_module": "@jupyter-widgets/base",
            "overflow": null,
            "_model_module_version": "1.2.0",
            "_view_count": null,
            "flex_flow": null,
            "width": null,
            "min_width": null,
            "border": null,
            "align_items": null,
            "bottom": null,
            "_model_module": "@jupyter-widgets/base",
            "top": null,
            "grid_column": null,
            "overflow_y": null,
            "overflow_x": null,
            "grid_auto_flow": null,
            "grid_area": null,
            "grid_template_columns": null,
            "flex": null,
            "_model_name": "LayoutModel",
            "justify_items": null,
            "grid_row": null,
            "max_height": null,
            "align_content": null,
            "visibility": null,
            "align_self": null,
            "height": null,
            "min_height": null,
            "padding": null,
            "grid_auto_rows": null,
            "grid_gap": null,
            "max_width": null,
            "order": null,
            "_view_module_version": "1.2.0",
            "grid_template_areas": null,
            "object_position": null,
            "object_fit": null,
            "grid_auto_columns": null,
            "margin": null,
            "display": null,
            "left": null
          }
        },
        "b07d1b39f6c84d978b6c46f34421d61f": {
          "model_module": "@jupyter-widgets/controls",
          "model_name": "HBoxModel",
          "state": {
            "_view_name": "HBoxView",
            "_dom_classes": [],
            "_model_name": "HBoxModel",
            "_view_module": "@jupyter-widgets/controls",
            "_model_module_version": "1.5.0",
            "_view_count": null,
            "_view_module_version": "1.5.0",
            "box_style": "",
            "layout": "IPY_MODEL_2bbfaf1cfe264ff592d305302e489a38",
            "_model_module": "@jupyter-widgets/controls",
            "children": [
              "IPY_MODEL_17e6399cd5c348818c8431f7079f840a",
              "IPY_MODEL_2e8b563655234ac098ecb1da34e583dc"
            ]
          }
        },
        "2bbfaf1cfe264ff592d305302e489a38": {
          "model_module": "@jupyter-widgets/base",
          "model_name": "LayoutModel",
          "state": {
            "_view_name": "LayoutView",
            "grid_template_rows": null,
            "right": null,
            "justify_content": null,
            "_view_module": "@jupyter-widgets/base",
            "overflow": null,
            "_model_module_version": "1.2.0",
            "_view_count": null,
            "flex_flow": null,
            "width": null,
            "min_width": null,
            "border": null,
            "align_items": null,
            "bottom": null,
            "_model_module": "@jupyter-widgets/base",
            "top": null,
            "grid_column": null,
            "overflow_y": null,
            "overflow_x": null,
            "grid_auto_flow": null,
            "grid_area": null,
            "grid_template_columns": null,
            "flex": null,
            "_model_name": "LayoutModel",
            "justify_items": null,
            "grid_row": null,
            "max_height": null,
            "align_content": null,
            "visibility": null,
            "align_self": null,
            "height": null,
            "min_height": null,
            "padding": null,
            "grid_auto_rows": null,
            "grid_gap": null,
            "max_width": null,
            "order": null,
            "_view_module_version": "1.2.0",
            "grid_template_areas": null,
            "object_position": null,
            "object_fit": null,
            "grid_auto_columns": null,
            "margin": null,
            "display": null,
            "left": null
          }
        },
        "17e6399cd5c348818c8431f7079f840a": {
          "model_module": "@jupyter-widgets/controls",
          "model_name": "FloatProgressModel",
          "state": {
            "_view_name": "ProgressView",
            "style": "IPY_MODEL_23ef76176c024d04a883cf882ec6d965",
            "_dom_classes": [],
            "description": "100%",
            "_model_name": "FloatProgressModel",
            "bar_style": "success",
            "max": 1,
            "_view_module": "@jupyter-widgets/controls",
            "_model_module_version": "1.5.0",
            "value": 1,
            "_view_count": null,
            "_view_module_version": "1.5.0",
            "orientation": "horizontal",
            "min": 0,
            "description_tooltip": null,
            "_model_module": "@jupyter-widgets/controls",
            "layout": "IPY_MODEL_d4b2bc674b50454a87e5de4f157d5303"
          }
        },
        "2e8b563655234ac098ecb1da34e583dc": {
          "model_module": "@jupyter-widgets/controls",
          "model_name": "HTMLModel",
          "state": {
            "_view_name": "HTMLView",
            "style": "IPY_MODEL_39e5ef34f5514d70847a0f4b62e9beef",
            "_dom_classes": [],
            "description": "",
            "_model_name": "HTMLModel",
            "placeholder": "​",
            "_view_module": "@jupyter-widgets/controls",
            "_model_module_version": "1.5.0",
            "value": " 1/1 [07:49&lt;00:00, 469.93s/ba]",
            "_view_count": null,
            "_view_module_version": "1.5.0",
            "description_tooltip": null,
            "_model_module": "@jupyter-widgets/controls",
            "layout": "IPY_MODEL_98d8101d04b5489b906808251bdec44f"
          }
        },
        "23ef76176c024d04a883cf882ec6d965": {
          "model_module": "@jupyter-widgets/controls",
          "model_name": "ProgressStyleModel",
          "state": {
            "_view_name": "StyleView",
            "_model_name": "ProgressStyleModel",
            "description_width": "initial",
            "_view_module": "@jupyter-widgets/base",
            "_model_module_version": "1.5.0",
            "_view_count": null,
            "_view_module_version": "1.2.0",
            "bar_color": null,
            "_model_module": "@jupyter-widgets/controls"
          }
        },
        "d4b2bc674b50454a87e5de4f157d5303": {
          "model_module": "@jupyter-widgets/base",
          "model_name": "LayoutModel",
          "state": {
            "_view_name": "LayoutView",
            "grid_template_rows": null,
            "right": null,
            "justify_content": null,
            "_view_module": "@jupyter-widgets/base",
            "overflow": null,
            "_model_module_version": "1.2.0",
            "_view_count": null,
            "flex_flow": null,
            "width": null,
            "min_width": null,
            "border": null,
            "align_items": null,
            "bottom": null,
            "_model_module": "@jupyter-widgets/base",
            "top": null,
            "grid_column": null,
            "overflow_y": null,
            "overflow_x": null,
            "grid_auto_flow": null,
            "grid_area": null,
            "grid_template_columns": null,
            "flex": null,
            "_model_name": "LayoutModel",
            "justify_items": null,
            "grid_row": null,
            "max_height": null,
            "align_content": null,
            "visibility": null,
            "align_self": null,
            "height": null,
            "min_height": null,
            "padding": null,
            "grid_auto_rows": null,
            "grid_gap": null,
            "max_width": null,
            "order": null,
            "_view_module_version": "1.2.0",
            "grid_template_areas": null,
            "object_position": null,
            "object_fit": null,
            "grid_auto_columns": null,
            "margin": null,
            "display": null,
            "left": null
          }
        },
        "39e5ef34f5514d70847a0f4b62e9beef": {
          "model_module": "@jupyter-widgets/controls",
          "model_name": "DescriptionStyleModel",
          "state": {
            "_view_name": "StyleView",
            "_model_name": "DescriptionStyleModel",
            "description_width": "",
            "_view_module": "@jupyter-widgets/base",
            "_model_module_version": "1.5.0",
            "_view_count": null,
            "_view_module_version": "1.2.0",
            "_model_module": "@jupyter-widgets/controls"
          }
        },
        "98d8101d04b5489b906808251bdec44f": {
          "model_module": "@jupyter-widgets/base",
          "model_name": "LayoutModel",
          "state": {
            "_view_name": "LayoutView",
            "grid_template_rows": null,
            "right": null,
            "justify_content": null,
            "_view_module": "@jupyter-widgets/base",
            "overflow": null,
            "_model_module_version": "1.2.0",
            "_view_count": null,
            "flex_flow": null,
            "width": null,
            "min_width": null,
            "border": null,
            "align_items": null,
            "bottom": null,
            "_model_module": "@jupyter-widgets/base",
            "top": null,
            "grid_column": null,
            "overflow_y": null,
            "overflow_x": null,
            "grid_auto_flow": null,
            "grid_area": null,
            "grid_template_columns": null,
            "flex": null,
            "_model_name": "LayoutModel",
            "justify_items": null,
            "grid_row": null,
            "max_height": null,
            "align_content": null,
            "visibility": null,
            "align_self": null,
            "height": null,
            "min_height": null,
            "padding": null,
            "grid_auto_rows": null,
            "grid_gap": null,
            "max_width": null,
            "order": null,
            "_view_module_version": "1.2.0",
            "grid_template_areas": null,
            "object_position": null,
            "object_fit": null,
            "grid_auto_columns": null,
            "margin": null,
            "display": null,
            "left": null
          }
        },
        "778b2d39db4e498aa007554866e78f89": {
          "model_module": "@jupyter-widgets/controls",
          "model_name": "HBoxModel",
          "state": {
            "_view_name": "HBoxView",
            "_dom_classes": [],
            "_model_name": "HBoxModel",
            "_view_module": "@jupyter-widgets/controls",
            "_model_module_version": "1.5.0",
            "_view_count": null,
            "_view_module_version": "1.5.0",
            "box_style": "",
            "layout": "IPY_MODEL_d1bb4698b50948428ccced8eb2df5993",
            "_model_module": "@jupyter-widgets/controls",
            "children": [
              "IPY_MODEL_41e2cb156e2d47c6a460d17a5da1566b",
              "IPY_MODEL_fa17a68f8d864ec6af2b5bfc1404b665"
            ]
          }
        },
        "d1bb4698b50948428ccced8eb2df5993": {
          "model_module": "@jupyter-widgets/base",
          "model_name": "LayoutModel",
          "state": {
            "_view_name": "LayoutView",
            "grid_template_rows": null,
            "right": null,
            "justify_content": null,
            "_view_module": "@jupyter-widgets/base",
            "overflow": null,
            "_model_module_version": "1.2.0",
            "_view_count": null,
            "flex_flow": null,
            "width": null,
            "min_width": null,
            "border": null,
            "align_items": null,
            "bottom": null,
            "_model_module": "@jupyter-widgets/base",
            "top": null,
            "grid_column": null,
            "overflow_y": null,
            "overflow_x": null,
            "grid_auto_flow": null,
            "grid_area": null,
            "grid_template_columns": null,
            "flex": null,
            "_model_name": "LayoutModel",
            "justify_items": null,
            "grid_row": null,
            "max_height": null,
            "align_content": null,
            "visibility": null,
            "align_self": null,
            "height": null,
            "min_height": null,
            "padding": null,
            "grid_auto_rows": null,
            "grid_gap": null,
            "max_width": null,
            "order": null,
            "_view_module_version": "1.2.0",
            "grid_template_areas": null,
            "object_position": null,
            "object_fit": null,
            "grid_auto_columns": null,
            "margin": null,
            "display": null,
            "left": null
          }
        },
        "41e2cb156e2d47c6a460d17a5da1566b": {
          "model_module": "@jupyter-widgets/controls",
          "model_name": "FloatProgressModel",
          "state": {
            "_view_name": "ProgressView",
            "style": "IPY_MODEL_6e87850472f4491d868623c8a1d45840",
            "_dom_classes": [],
            "description": "#0: 100%",
            "_model_name": "FloatProgressModel",
            "bar_style": "success",
            "max": 1,
            "_view_module": "@jupyter-widgets/controls",
            "_model_module_version": "1.5.0",
            "value": 1,
            "_view_count": null,
            "_view_module_version": "1.5.0",
            "orientation": "horizontal",
            "min": 0,
            "description_tooltip": null,
            "_model_module": "@jupyter-widgets/controls",
            "layout": "IPY_MODEL_33a6e47917924c86993fa5a5b3df0039"
          }
        },
        "fa17a68f8d864ec6af2b5bfc1404b665": {
          "model_module": "@jupyter-widgets/controls",
          "model_name": "HTMLModel",
          "state": {
            "_view_name": "HTMLView",
            "style": "IPY_MODEL_5399df4263d644698c451fc17fde636c",
            "_dom_classes": [],
            "description": "",
            "_model_name": "HTMLModel",
            "placeholder": "​",
            "_view_module": "@jupyter-widgets/controls",
            "_model_module_version": "1.5.0",
            "value": " 1/1 [00:00&lt;00:00,  2.39ba/s]",
            "_view_count": null,
            "_view_module_version": "1.5.0",
            "description_tooltip": null,
            "_model_module": "@jupyter-widgets/controls",
            "layout": "IPY_MODEL_6eccc61095bb4d54bb266ef41f84e6b2"
          }
        },
        "6e87850472f4491d868623c8a1d45840": {
          "model_module": "@jupyter-widgets/controls",
          "model_name": "ProgressStyleModel",
          "state": {
            "_view_name": "StyleView",
            "_model_name": "ProgressStyleModel",
            "description_width": "initial",
            "_view_module": "@jupyter-widgets/base",
            "_model_module_version": "1.5.0",
            "_view_count": null,
            "_view_module_version": "1.2.0",
            "bar_color": null,
            "_model_module": "@jupyter-widgets/controls"
          }
        },
        "33a6e47917924c86993fa5a5b3df0039": {
          "model_module": "@jupyter-widgets/base",
          "model_name": "LayoutModel",
          "state": {
            "_view_name": "LayoutView",
            "grid_template_rows": null,
            "right": null,
            "justify_content": null,
            "_view_module": "@jupyter-widgets/base",
            "overflow": null,
            "_model_module_version": "1.2.0",
            "_view_count": null,
            "flex_flow": null,
            "width": null,
            "min_width": null,
            "border": null,
            "align_items": null,
            "bottom": null,
            "_model_module": "@jupyter-widgets/base",
            "top": null,
            "grid_column": null,
            "overflow_y": null,
            "overflow_x": null,
            "grid_auto_flow": null,
            "grid_area": null,
            "grid_template_columns": null,
            "flex": null,
            "_model_name": "LayoutModel",
            "justify_items": null,
            "grid_row": null,
            "max_height": null,
            "align_content": null,
            "visibility": null,
            "align_self": null,
            "height": null,
            "min_height": null,
            "padding": null,
            "grid_auto_rows": null,
            "grid_gap": null,
            "max_width": null,
            "order": null,
            "_view_module_version": "1.2.0",
            "grid_template_areas": null,
            "object_position": null,
            "object_fit": null,
            "grid_auto_columns": null,
            "margin": null,
            "display": null,
            "left": null
          }
        },
        "5399df4263d644698c451fc17fde636c": {
          "model_module": "@jupyter-widgets/controls",
          "model_name": "DescriptionStyleModel",
          "state": {
            "_view_name": "StyleView",
            "_model_name": "DescriptionStyleModel",
            "description_width": "",
            "_view_module": "@jupyter-widgets/base",
            "_model_module_version": "1.5.0",
            "_view_count": null,
            "_view_module_version": "1.2.0",
            "_model_module": "@jupyter-widgets/controls"
          }
        },
        "6eccc61095bb4d54bb266ef41f84e6b2": {
          "model_module": "@jupyter-widgets/base",
          "model_name": "LayoutModel",
          "state": {
            "_view_name": "LayoutView",
            "grid_template_rows": null,
            "right": null,
            "justify_content": null,
            "_view_module": "@jupyter-widgets/base",
            "overflow": null,
            "_model_module_version": "1.2.0",
            "_view_count": null,
            "flex_flow": null,
            "width": null,
            "min_width": null,
            "border": null,
            "align_items": null,
            "bottom": null,
            "_model_module": "@jupyter-widgets/base",
            "top": null,
            "grid_column": null,
            "overflow_y": null,
            "overflow_x": null,
            "grid_auto_flow": null,
            "grid_area": null,
            "grid_template_columns": null,
            "flex": null,
            "_model_name": "LayoutModel",
            "justify_items": null,
            "grid_row": null,
            "max_height": null,
            "align_content": null,
            "visibility": null,
            "align_self": null,
            "height": null,
            "min_height": null,
            "padding": null,
            "grid_auto_rows": null,
            "grid_gap": null,
            "max_width": null,
            "order": null,
            "_view_module_version": "1.2.0",
            "grid_template_areas": null,
            "object_position": null,
            "object_fit": null,
            "grid_auto_columns": null,
            "margin": null,
            "display": null,
            "left": null
          }
        },
        "6c920dcbc39c4e8e982ffc2f78a977c8": {
          "model_module": "@jupyter-widgets/controls",
          "model_name": "HBoxModel",
          "state": {
            "_view_name": "HBoxView",
            "_dom_classes": [],
            "_model_name": "HBoxModel",
            "_view_module": "@jupyter-widgets/controls",
            "_model_module_version": "1.5.0",
            "_view_count": null,
            "_view_module_version": "1.5.0",
            "box_style": "",
            "layout": "IPY_MODEL_e116e22e2a0d4014aea7ac71956ec005",
            "_model_module": "@jupyter-widgets/controls",
            "children": [
              "IPY_MODEL_15adfc5dca9344cebfd9369deded1e2c",
              "IPY_MODEL_6498039a23184583bb770f5031fcc73d"
            ]
          }
        },
        "e116e22e2a0d4014aea7ac71956ec005": {
          "model_module": "@jupyter-widgets/base",
          "model_name": "LayoutModel",
          "state": {
            "_view_name": "LayoutView",
            "grid_template_rows": null,
            "right": null,
            "justify_content": null,
            "_view_module": "@jupyter-widgets/base",
            "overflow": null,
            "_model_module_version": "1.2.0",
            "_view_count": null,
            "flex_flow": null,
            "width": null,
            "min_width": null,
            "border": null,
            "align_items": null,
            "bottom": null,
            "_model_module": "@jupyter-widgets/base",
            "top": null,
            "grid_column": null,
            "overflow_y": null,
            "overflow_x": null,
            "grid_auto_flow": null,
            "grid_area": null,
            "grid_template_columns": null,
            "flex": null,
            "_model_name": "LayoutModel",
            "justify_items": null,
            "grid_row": null,
            "max_height": null,
            "align_content": null,
            "visibility": null,
            "align_self": null,
            "height": null,
            "min_height": null,
            "padding": null,
            "grid_auto_rows": null,
            "grid_gap": null,
            "max_width": null,
            "order": null,
            "_view_module_version": "1.2.0",
            "grid_template_areas": null,
            "object_position": null,
            "object_fit": null,
            "grid_auto_columns": null,
            "margin": null,
            "display": null,
            "left": null
          }
        },
        "15adfc5dca9344cebfd9369deded1e2c": {
          "model_module": "@jupyter-widgets/controls",
          "model_name": "FloatProgressModel",
          "state": {
            "_view_name": "ProgressView",
            "style": "IPY_MODEL_5b30d9bef160426fbb5c1c26e2784281",
            "_dom_classes": [],
            "description": "#1: 100%",
            "_model_name": "FloatProgressModel",
            "bar_style": "success",
            "max": 1,
            "_view_module": "@jupyter-widgets/controls",
            "_model_module_version": "1.5.0",
            "value": 1,
            "_view_count": null,
            "_view_module_version": "1.5.0",
            "orientation": "horizontal",
            "min": 0,
            "description_tooltip": null,
            "_model_module": "@jupyter-widgets/controls",
            "layout": "IPY_MODEL_87c76cdae7434128813f0790c324604a"
          }
        },
        "6498039a23184583bb770f5031fcc73d": {
          "model_module": "@jupyter-widgets/controls",
          "model_name": "HTMLModel",
          "state": {
            "_view_name": "HTMLView",
            "style": "IPY_MODEL_c4795e359d3549d6ae4e5b293fc37f4d",
            "_dom_classes": [],
            "description": "",
            "_model_name": "HTMLModel",
            "placeholder": "​",
            "_view_module": "@jupyter-widgets/controls",
            "_model_module_version": "1.5.0",
            "value": " 1/1 [00:00&lt;00:00,  1.93ba/s]",
            "_view_count": null,
            "_view_module_version": "1.5.0",
            "description_tooltip": null,
            "_model_module": "@jupyter-widgets/controls",
            "layout": "IPY_MODEL_14166e715d8d41b1b7161537e4b29454"
          }
        },
        "5b30d9bef160426fbb5c1c26e2784281": {
          "model_module": "@jupyter-widgets/controls",
          "model_name": "ProgressStyleModel",
          "state": {
            "_view_name": "StyleView",
            "_model_name": "ProgressStyleModel",
            "description_width": "initial",
            "_view_module": "@jupyter-widgets/base",
            "_model_module_version": "1.5.0",
            "_view_count": null,
            "_view_module_version": "1.2.0",
            "bar_color": null,
            "_model_module": "@jupyter-widgets/controls"
          }
        },
        "87c76cdae7434128813f0790c324604a": {
          "model_module": "@jupyter-widgets/base",
          "model_name": "LayoutModel",
          "state": {
            "_view_name": "LayoutView",
            "grid_template_rows": null,
            "right": null,
            "justify_content": null,
            "_view_module": "@jupyter-widgets/base",
            "overflow": null,
            "_model_module_version": "1.2.0",
            "_view_count": null,
            "flex_flow": null,
            "width": null,
            "min_width": null,
            "border": null,
            "align_items": null,
            "bottom": null,
            "_model_module": "@jupyter-widgets/base",
            "top": null,
            "grid_column": null,
            "overflow_y": null,
            "overflow_x": null,
            "grid_auto_flow": null,
            "grid_area": null,
            "grid_template_columns": null,
            "flex": null,
            "_model_name": "LayoutModel",
            "justify_items": null,
            "grid_row": null,
            "max_height": null,
            "align_content": null,
            "visibility": null,
            "align_self": null,
            "height": null,
            "min_height": null,
            "padding": null,
            "grid_auto_rows": null,
            "grid_gap": null,
            "max_width": null,
            "order": null,
            "_view_module_version": "1.2.0",
            "grid_template_areas": null,
            "object_position": null,
            "object_fit": null,
            "grid_auto_columns": null,
            "margin": null,
            "display": null,
            "left": null
          }
        },
        "c4795e359d3549d6ae4e5b293fc37f4d": {
          "model_module": "@jupyter-widgets/controls",
          "model_name": "DescriptionStyleModel",
          "state": {
            "_view_name": "StyleView",
            "_model_name": "DescriptionStyleModel",
            "description_width": "",
            "_view_module": "@jupyter-widgets/base",
            "_model_module_version": "1.5.0",
            "_view_count": null,
            "_view_module_version": "1.2.0",
            "_model_module": "@jupyter-widgets/controls"
          }
        },
        "14166e715d8d41b1b7161537e4b29454": {
          "model_module": "@jupyter-widgets/base",
          "model_name": "LayoutModel",
          "state": {
            "_view_name": "LayoutView",
            "grid_template_rows": null,
            "right": null,
            "justify_content": null,
            "_view_module": "@jupyter-widgets/base",
            "overflow": null,
            "_model_module_version": "1.2.0",
            "_view_count": null,
            "flex_flow": null,
            "width": null,
            "min_width": null,
            "border": null,
            "align_items": null,
            "bottom": null,
            "_model_module": "@jupyter-widgets/base",
            "top": null,
            "grid_column": null,
            "overflow_y": null,
            "overflow_x": null,
            "grid_auto_flow": null,
            "grid_area": null,
            "grid_template_columns": null,
            "flex": null,
            "_model_name": "LayoutModel",
            "justify_items": null,
            "grid_row": null,
            "max_height": null,
            "align_content": null,
            "visibility": null,
            "align_self": null,
            "height": null,
            "min_height": null,
            "padding": null,
            "grid_auto_rows": null,
            "grid_gap": null,
            "max_width": null,
            "order": null,
            "_view_module_version": "1.2.0",
            "grid_template_areas": null,
            "object_position": null,
            "object_fit": null,
            "grid_auto_columns": null,
            "margin": null,
            "display": null,
            "left": null
          }
        },
        "7079f1cadb244404b98ad5d5b742ffc9": {
          "model_module": "@jupyter-widgets/controls",
          "model_name": "HBoxModel",
          "state": {
            "_view_name": "HBoxView",
            "_dom_classes": [],
            "_model_name": "HBoxModel",
            "_view_module": "@jupyter-widgets/controls",
            "_model_module_version": "1.5.0",
            "_view_count": null,
            "_view_module_version": "1.5.0",
            "box_style": "",
            "layout": "IPY_MODEL_a096448a2caf4ff2a05b4a957c72034b",
            "_model_module": "@jupyter-widgets/controls",
            "children": [
              "IPY_MODEL_2c324206a2254e909ff2711298b58378",
              "IPY_MODEL_da2d6344d4af4d2e8293311a7ca9de32"
            ]
          }
        },
        "a096448a2caf4ff2a05b4a957c72034b": {
          "model_module": "@jupyter-widgets/base",
          "model_name": "LayoutModel",
          "state": {
            "_view_name": "LayoutView",
            "grid_template_rows": null,
            "right": null,
            "justify_content": null,
            "_view_module": "@jupyter-widgets/base",
            "overflow": null,
            "_model_module_version": "1.2.0",
            "_view_count": null,
            "flex_flow": null,
            "width": null,
            "min_width": null,
            "border": null,
            "align_items": null,
            "bottom": null,
            "_model_module": "@jupyter-widgets/base",
            "top": null,
            "grid_column": null,
            "overflow_y": null,
            "overflow_x": null,
            "grid_auto_flow": null,
            "grid_area": null,
            "grid_template_columns": null,
            "flex": null,
            "_model_name": "LayoutModel",
            "justify_items": null,
            "grid_row": null,
            "max_height": null,
            "align_content": null,
            "visibility": null,
            "align_self": null,
            "height": null,
            "min_height": null,
            "padding": null,
            "grid_auto_rows": null,
            "grid_gap": null,
            "max_width": null,
            "order": null,
            "_view_module_version": "1.2.0",
            "grid_template_areas": null,
            "object_position": null,
            "object_fit": null,
            "grid_auto_columns": null,
            "margin": null,
            "display": null,
            "left": null
          }
        },
        "2c324206a2254e909ff2711298b58378": {
          "model_module": "@jupyter-widgets/controls",
          "model_name": "FloatProgressModel",
          "state": {
            "_view_name": "ProgressView",
            "style": "IPY_MODEL_e8486fce8b684001853b0d0dc1c1cba6",
            "_dom_classes": [],
            "description": "#2: 100%",
            "_model_name": "FloatProgressModel",
            "bar_style": "success",
            "max": 1,
            "_view_module": "@jupyter-widgets/controls",
            "_model_module_version": "1.5.0",
            "value": 1,
            "_view_count": null,
            "_view_module_version": "1.5.0",
            "orientation": "horizontal",
            "min": 0,
            "description_tooltip": null,
            "_model_module": "@jupyter-widgets/controls",
            "layout": "IPY_MODEL_2bb1aaf1c24b40e5a04f061a15c8c820"
          }
        },
        "da2d6344d4af4d2e8293311a7ca9de32": {
          "model_module": "@jupyter-widgets/controls",
          "model_name": "HTMLModel",
          "state": {
            "_view_name": "HTMLView",
            "style": "IPY_MODEL_9472c8af26704537bc4f0a895c655c20",
            "_dom_classes": [],
            "description": "",
            "_model_name": "HTMLModel",
            "placeholder": "​",
            "_view_module": "@jupyter-widgets/controls",
            "_model_module_version": "1.5.0",
            "value": " 1/1 [00:00&lt;00:00,  2.42ba/s]",
            "_view_count": null,
            "_view_module_version": "1.5.0",
            "description_tooltip": null,
            "_model_module": "@jupyter-widgets/controls",
            "layout": "IPY_MODEL_54fc4587c75d4e2c97e724cb2fba7c9e"
          }
        },
        "e8486fce8b684001853b0d0dc1c1cba6": {
          "model_module": "@jupyter-widgets/controls",
          "model_name": "ProgressStyleModel",
          "state": {
            "_view_name": "StyleView",
            "_model_name": "ProgressStyleModel",
            "description_width": "initial",
            "_view_module": "@jupyter-widgets/base",
            "_model_module_version": "1.5.0",
            "_view_count": null,
            "_view_module_version": "1.2.0",
            "bar_color": null,
            "_model_module": "@jupyter-widgets/controls"
          }
        },
        "2bb1aaf1c24b40e5a04f061a15c8c820": {
          "model_module": "@jupyter-widgets/base",
          "model_name": "LayoutModel",
          "state": {
            "_view_name": "LayoutView",
            "grid_template_rows": null,
            "right": null,
            "justify_content": null,
            "_view_module": "@jupyter-widgets/base",
            "overflow": null,
            "_model_module_version": "1.2.0",
            "_view_count": null,
            "flex_flow": null,
            "width": null,
            "min_width": null,
            "border": null,
            "align_items": null,
            "bottom": null,
            "_model_module": "@jupyter-widgets/base",
            "top": null,
            "grid_column": null,
            "overflow_y": null,
            "overflow_x": null,
            "grid_auto_flow": null,
            "grid_area": null,
            "grid_template_columns": null,
            "flex": null,
            "_model_name": "LayoutModel",
            "justify_items": null,
            "grid_row": null,
            "max_height": null,
            "align_content": null,
            "visibility": null,
            "align_self": null,
            "height": null,
            "min_height": null,
            "padding": null,
            "grid_auto_rows": null,
            "grid_gap": null,
            "max_width": null,
            "order": null,
            "_view_module_version": "1.2.0",
            "grid_template_areas": null,
            "object_position": null,
            "object_fit": null,
            "grid_auto_columns": null,
            "margin": null,
            "display": null,
            "left": null
          }
        },
        "9472c8af26704537bc4f0a895c655c20": {
          "model_module": "@jupyter-widgets/controls",
          "model_name": "DescriptionStyleModel",
          "state": {
            "_view_name": "StyleView",
            "_model_name": "DescriptionStyleModel",
            "description_width": "",
            "_view_module": "@jupyter-widgets/base",
            "_model_module_version": "1.5.0",
            "_view_count": null,
            "_view_module_version": "1.2.0",
            "_model_module": "@jupyter-widgets/controls"
          }
        },
        "54fc4587c75d4e2c97e724cb2fba7c9e": {
          "model_module": "@jupyter-widgets/base",
          "model_name": "LayoutModel",
          "state": {
            "_view_name": "LayoutView",
            "grid_template_rows": null,
            "right": null,
            "justify_content": null,
            "_view_module": "@jupyter-widgets/base",
            "overflow": null,
            "_model_module_version": "1.2.0",
            "_view_count": null,
            "flex_flow": null,
            "width": null,
            "min_width": null,
            "border": null,
            "align_items": null,
            "bottom": null,
            "_model_module": "@jupyter-widgets/base",
            "top": null,
            "grid_column": null,
            "overflow_y": null,
            "overflow_x": null,
            "grid_auto_flow": null,
            "grid_area": null,
            "grid_template_columns": null,
            "flex": null,
            "_model_name": "LayoutModel",
            "justify_items": null,
            "grid_row": null,
            "max_height": null,
            "align_content": null,
            "visibility": null,
            "align_self": null,
            "height": null,
            "min_height": null,
            "padding": null,
            "grid_auto_rows": null,
            "grid_gap": null,
            "max_width": null,
            "order": null,
            "_view_module_version": "1.2.0",
            "grid_template_areas": null,
            "object_position": null,
            "object_fit": null,
            "grid_auto_columns": null,
            "margin": null,
            "display": null,
            "left": null
          }
        },
        "3ff7eed7f97a4a41b0cef57bdae15807": {
          "model_module": "@jupyter-widgets/controls",
          "model_name": "HBoxModel",
          "state": {
            "_view_name": "HBoxView",
            "_dom_classes": [],
            "_model_name": "HBoxModel",
            "_view_module": "@jupyter-widgets/controls",
            "_model_module_version": "1.5.0",
            "_view_count": null,
            "_view_module_version": "1.5.0",
            "box_style": "",
            "layout": "IPY_MODEL_b3bcbd742cfe414a97d76c981f1341e0",
            "_model_module": "@jupyter-widgets/controls",
            "children": [
              "IPY_MODEL_5088b2f4b9f84f0ea6eb9507a841de2c",
              "IPY_MODEL_9d73a60b71f44978aaf3a0d4024004c6"
            ]
          }
        },
        "b3bcbd742cfe414a97d76c981f1341e0": {
          "model_module": "@jupyter-widgets/base",
          "model_name": "LayoutModel",
          "state": {
            "_view_name": "LayoutView",
            "grid_template_rows": null,
            "right": null,
            "justify_content": null,
            "_view_module": "@jupyter-widgets/base",
            "overflow": null,
            "_model_module_version": "1.2.0",
            "_view_count": null,
            "flex_flow": null,
            "width": null,
            "min_width": null,
            "border": null,
            "align_items": null,
            "bottom": null,
            "_model_module": "@jupyter-widgets/base",
            "top": null,
            "grid_column": null,
            "overflow_y": null,
            "overflow_x": null,
            "grid_auto_flow": null,
            "grid_area": null,
            "grid_template_columns": null,
            "flex": null,
            "_model_name": "LayoutModel",
            "justify_items": null,
            "grid_row": null,
            "max_height": null,
            "align_content": null,
            "visibility": null,
            "align_self": null,
            "height": null,
            "min_height": null,
            "padding": null,
            "grid_auto_rows": null,
            "grid_gap": null,
            "max_width": null,
            "order": null,
            "_view_module_version": "1.2.0",
            "grid_template_areas": null,
            "object_position": null,
            "object_fit": null,
            "grid_auto_columns": null,
            "margin": null,
            "display": null,
            "left": null
          }
        },
        "5088b2f4b9f84f0ea6eb9507a841de2c": {
          "model_module": "@jupyter-widgets/controls",
          "model_name": "FloatProgressModel",
          "state": {
            "_view_name": "ProgressView",
            "style": "IPY_MODEL_8709d7f684624c318b4df26e13ad644d",
            "_dom_classes": [],
            "description": "#3: 100%",
            "_model_name": "FloatProgressModel",
            "bar_style": "success",
            "max": 1,
            "_view_module": "@jupyter-widgets/controls",
            "_model_module_version": "1.5.0",
            "value": 1,
            "_view_count": null,
            "_view_module_version": "1.5.0",
            "orientation": "horizontal",
            "min": 0,
            "description_tooltip": null,
            "_model_module": "@jupyter-widgets/controls",
            "layout": "IPY_MODEL_bdcb851eed3844c0bd3677fa4ea76f0a"
          }
        },
        "9d73a60b71f44978aaf3a0d4024004c6": {
          "model_module": "@jupyter-widgets/controls",
          "model_name": "HTMLModel",
          "state": {
            "_view_name": "HTMLView",
            "style": "IPY_MODEL_e790b030e10643999dba400fc34cb0b6",
            "_dom_classes": [],
            "description": "",
            "_model_name": "HTMLModel",
            "placeholder": "​",
            "_view_module": "@jupyter-widgets/controls",
            "_model_module_version": "1.5.0",
            "value": " 1/1 [00:00&lt;00:00,  2.24ba/s]",
            "_view_count": null,
            "_view_module_version": "1.5.0",
            "description_tooltip": null,
            "_model_module": "@jupyter-widgets/controls",
            "layout": "IPY_MODEL_503506e6d7e34568a2987fdb1eecc71f"
          }
        },
        "8709d7f684624c318b4df26e13ad644d": {
          "model_module": "@jupyter-widgets/controls",
          "model_name": "ProgressStyleModel",
          "state": {
            "_view_name": "StyleView",
            "_model_name": "ProgressStyleModel",
            "description_width": "initial",
            "_view_module": "@jupyter-widgets/base",
            "_model_module_version": "1.5.0",
            "_view_count": null,
            "_view_module_version": "1.2.0",
            "bar_color": null,
            "_model_module": "@jupyter-widgets/controls"
          }
        },
        "bdcb851eed3844c0bd3677fa4ea76f0a": {
          "model_module": "@jupyter-widgets/base",
          "model_name": "LayoutModel",
          "state": {
            "_view_name": "LayoutView",
            "grid_template_rows": null,
            "right": null,
            "justify_content": null,
            "_view_module": "@jupyter-widgets/base",
            "overflow": null,
            "_model_module_version": "1.2.0",
            "_view_count": null,
            "flex_flow": null,
            "width": null,
            "min_width": null,
            "border": null,
            "align_items": null,
            "bottom": null,
            "_model_module": "@jupyter-widgets/base",
            "top": null,
            "grid_column": null,
            "overflow_y": null,
            "overflow_x": null,
            "grid_auto_flow": null,
            "grid_area": null,
            "grid_template_columns": null,
            "flex": null,
            "_model_name": "LayoutModel",
            "justify_items": null,
            "grid_row": null,
            "max_height": null,
            "align_content": null,
            "visibility": null,
            "align_self": null,
            "height": null,
            "min_height": null,
            "padding": null,
            "grid_auto_rows": null,
            "grid_gap": null,
            "max_width": null,
            "order": null,
            "_view_module_version": "1.2.0",
            "grid_template_areas": null,
            "object_position": null,
            "object_fit": null,
            "grid_auto_columns": null,
            "margin": null,
            "display": null,
            "left": null
          }
        },
        "e790b030e10643999dba400fc34cb0b6": {
          "model_module": "@jupyter-widgets/controls",
          "model_name": "DescriptionStyleModel",
          "state": {
            "_view_name": "StyleView",
            "_model_name": "DescriptionStyleModel",
            "description_width": "",
            "_view_module": "@jupyter-widgets/base",
            "_model_module_version": "1.5.0",
            "_view_count": null,
            "_view_module_version": "1.2.0",
            "_model_module": "@jupyter-widgets/controls"
          }
        },
        "503506e6d7e34568a2987fdb1eecc71f": {
          "model_module": "@jupyter-widgets/base",
          "model_name": "LayoutModel",
          "state": {
            "_view_name": "LayoutView",
            "grid_template_rows": null,
            "right": null,
            "justify_content": null,
            "_view_module": "@jupyter-widgets/base",
            "overflow": null,
            "_model_module_version": "1.2.0",
            "_view_count": null,
            "flex_flow": null,
            "width": null,
            "min_width": null,
            "border": null,
            "align_items": null,
            "bottom": null,
            "_model_module": "@jupyter-widgets/base",
            "top": null,
            "grid_column": null,
            "overflow_y": null,
            "overflow_x": null,
            "grid_auto_flow": null,
            "grid_area": null,
            "grid_template_columns": null,
            "flex": null,
            "_model_name": "LayoutModel",
            "justify_items": null,
            "grid_row": null,
            "max_height": null,
            "align_content": null,
            "visibility": null,
            "align_self": null,
            "height": null,
            "min_height": null,
            "padding": null,
            "grid_auto_rows": null,
            "grid_gap": null,
            "max_width": null,
            "order": null,
            "_view_module_version": "1.2.0",
            "grid_template_areas": null,
            "object_position": null,
            "object_fit": null,
            "grid_auto_columns": null,
            "margin": null,
            "display": null,
            "left": null
          }
        },
        "9aad2d8e815647969422f290da1c112e": {
          "model_module": "@jupyter-widgets/controls",
          "model_name": "HBoxModel",
          "state": {
            "_view_name": "HBoxView",
            "_dom_classes": [],
            "_model_name": "HBoxModel",
            "_view_module": "@jupyter-widgets/controls",
            "_model_module_version": "1.5.0",
            "_view_count": null,
            "_view_module_version": "1.5.0",
            "box_style": "",
            "layout": "IPY_MODEL_45a1cadf432d47f9a6604a9c2c66ecd7",
            "_model_module": "@jupyter-widgets/controls",
            "children": [
              "IPY_MODEL_79fc8a4955d347bf986e1ef550b865a5",
              "IPY_MODEL_d3fc67bc370d458c9b993cbe5f4162bb"
            ]
          }
        },
        "45a1cadf432d47f9a6604a9c2c66ecd7": {
          "model_module": "@jupyter-widgets/base",
          "model_name": "LayoutModel",
          "state": {
            "_view_name": "LayoutView",
            "grid_template_rows": null,
            "right": null,
            "justify_content": null,
            "_view_module": "@jupyter-widgets/base",
            "overflow": null,
            "_model_module_version": "1.2.0",
            "_view_count": null,
            "flex_flow": null,
            "width": null,
            "min_width": null,
            "border": null,
            "align_items": null,
            "bottom": null,
            "_model_module": "@jupyter-widgets/base",
            "top": null,
            "grid_column": null,
            "overflow_y": null,
            "overflow_x": null,
            "grid_auto_flow": null,
            "grid_area": null,
            "grid_template_columns": null,
            "flex": null,
            "_model_name": "LayoutModel",
            "justify_items": null,
            "grid_row": null,
            "max_height": null,
            "align_content": null,
            "visibility": null,
            "align_self": null,
            "height": null,
            "min_height": null,
            "padding": null,
            "grid_auto_rows": null,
            "grid_gap": null,
            "max_width": null,
            "order": null,
            "_view_module_version": "1.2.0",
            "grid_template_areas": null,
            "object_position": null,
            "object_fit": null,
            "grid_auto_columns": null,
            "margin": null,
            "display": null,
            "left": null
          }
        },
        "79fc8a4955d347bf986e1ef550b865a5": {
          "model_module": "@jupyter-widgets/controls",
          "model_name": "FloatProgressModel",
          "state": {
            "_view_name": "ProgressView",
            "style": "IPY_MODEL_0bc5aed62db642c889059651040c9f06",
            "_dom_classes": [],
            "description": "#0: 100%",
            "_model_name": "FloatProgressModel",
            "bar_style": "success",
            "max": 1,
            "_view_module": "@jupyter-widgets/controls",
            "_model_module_version": "1.5.0",
            "value": 1,
            "_view_count": null,
            "_view_module_version": "1.5.0",
            "orientation": "horizontal",
            "min": 0,
            "description_tooltip": null,
            "_model_module": "@jupyter-widgets/controls",
            "layout": "IPY_MODEL_cb97d55ababa4ab7884149792179c149"
          }
        },
        "d3fc67bc370d458c9b993cbe5f4162bb": {
          "model_module": "@jupyter-widgets/controls",
          "model_name": "HTMLModel",
          "state": {
            "_view_name": "HTMLView",
            "style": "IPY_MODEL_e5a41b76706a471c8e01ffc70e88eb13",
            "_dom_classes": [],
            "description": "",
            "_model_name": "HTMLModel",
            "placeholder": "​",
            "_view_module": "@jupyter-widgets/controls",
            "_model_module_version": "1.5.0",
            "value": " 1/1 [00:00&lt;00:00,  1.83ba/s]",
            "_view_count": null,
            "_view_module_version": "1.5.0",
            "description_tooltip": null,
            "_model_module": "@jupyter-widgets/controls",
            "layout": "IPY_MODEL_a0a1120133f1417dbef122055c50bae3"
          }
        },
        "0bc5aed62db642c889059651040c9f06": {
          "model_module": "@jupyter-widgets/controls",
          "model_name": "ProgressStyleModel",
          "state": {
            "_view_name": "StyleView",
            "_model_name": "ProgressStyleModel",
            "description_width": "initial",
            "_view_module": "@jupyter-widgets/base",
            "_model_module_version": "1.5.0",
            "_view_count": null,
            "_view_module_version": "1.2.0",
            "bar_color": null,
            "_model_module": "@jupyter-widgets/controls"
          }
        },
        "cb97d55ababa4ab7884149792179c149": {
          "model_module": "@jupyter-widgets/base",
          "model_name": "LayoutModel",
          "state": {
            "_view_name": "LayoutView",
            "grid_template_rows": null,
            "right": null,
            "justify_content": null,
            "_view_module": "@jupyter-widgets/base",
            "overflow": null,
            "_model_module_version": "1.2.0",
            "_view_count": null,
            "flex_flow": null,
            "width": null,
            "min_width": null,
            "border": null,
            "align_items": null,
            "bottom": null,
            "_model_module": "@jupyter-widgets/base",
            "top": null,
            "grid_column": null,
            "overflow_y": null,
            "overflow_x": null,
            "grid_auto_flow": null,
            "grid_area": null,
            "grid_template_columns": null,
            "flex": null,
            "_model_name": "LayoutModel",
            "justify_items": null,
            "grid_row": null,
            "max_height": null,
            "align_content": null,
            "visibility": null,
            "align_self": null,
            "height": null,
            "min_height": null,
            "padding": null,
            "grid_auto_rows": null,
            "grid_gap": null,
            "max_width": null,
            "order": null,
            "_view_module_version": "1.2.0",
            "grid_template_areas": null,
            "object_position": null,
            "object_fit": null,
            "grid_auto_columns": null,
            "margin": null,
            "display": null,
            "left": null
          }
        },
        "e5a41b76706a471c8e01ffc70e88eb13": {
          "model_module": "@jupyter-widgets/controls",
          "model_name": "DescriptionStyleModel",
          "state": {
            "_view_name": "StyleView",
            "_model_name": "DescriptionStyleModel",
            "description_width": "",
            "_view_module": "@jupyter-widgets/base",
            "_model_module_version": "1.5.0",
            "_view_count": null,
            "_view_module_version": "1.2.0",
            "_model_module": "@jupyter-widgets/controls"
          }
        },
        "a0a1120133f1417dbef122055c50bae3": {
          "model_module": "@jupyter-widgets/base",
          "model_name": "LayoutModel",
          "state": {
            "_view_name": "LayoutView",
            "grid_template_rows": null,
            "right": null,
            "justify_content": null,
            "_view_module": "@jupyter-widgets/base",
            "overflow": null,
            "_model_module_version": "1.2.0",
            "_view_count": null,
            "flex_flow": null,
            "width": null,
            "min_width": null,
            "border": null,
            "align_items": null,
            "bottom": null,
            "_model_module": "@jupyter-widgets/base",
            "top": null,
            "grid_column": null,
            "overflow_y": null,
            "overflow_x": null,
            "grid_auto_flow": null,
            "grid_area": null,
            "grid_template_columns": null,
            "flex": null,
            "_model_name": "LayoutModel",
            "justify_items": null,
            "grid_row": null,
            "max_height": null,
            "align_content": null,
            "visibility": null,
            "align_self": null,
            "height": null,
            "min_height": null,
            "padding": null,
            "grid_auto_rows": null,
            "grid_gap": null,
            "max_width": null,
            "order": null,
            "_view_module_version": "1.2.0",
            "grid_template_areas": null,
            "object_position": null,
            "object_fit": null,
            "grid_auto_columns": null,
            "margin": null,
            "display": null,
            "left": null
          }
        },
        "d3a2e90963e44fb582738f406e5956d5": {
          "model_module": "@jupyter-widgets/controls",
          "model_name": "HBoxModel",
          "state": {
            "_view_name": "HBoxView",
            "_dom_classes": [],
            "_model_name": "HBoxModel",
            "_view_module": "@jupyter-widgets/controls",
            "_model_module_version": "1.5.0",
            "_view_count": null,
            "_view_module_version": "1.5.0",
            "box_style": "",
            "layout": "IPY_MODEL_e425e350cf024d6c8ac60a4905447a9f",
            "_model_module": "@jupyter-widgets/controls",
            "children": [
              "IPY_MODEL_9d7955f44bd04d38b40e481252a9f0b5",
              "IPY_MODEL_3ff1c46a1b2a429693c52f02d9af4fa3"
            ]
          }
        },
        "e425e350cf024d6c8ac60a4905447a9f": {
          "model_module": "@jupyter-widgets/base",
          "model_name": "LayoutModel",
          "state": {
            "_view_name": "LayoutView",
            "grid_template_rows": null,
            "right": null,
            "justify_content": null,
            "_view_module": "@jupyter-widgets/base",
            "overflow": null,
            "_model_module_version": "1.2.0",
            "_view_count": null,
            "flex_flow": null,
            "width": null,
            "min_width": null,
            "border": null,
            "align_items": null,
            "bottom": null,
            "_model_module": "@jupyter-widgets/base",
            "top": null,
            "grid_column": null,
            "overflow_y": null,
            "overflow_x": null,
            "grid_auto_flow": null,
            "grid_area": null,
            "grid_template_columns": null,
            "flex": null,
            "_model_name": "LayoutModel",
            "justify_items": null,
            "grid_row": null,
            "max_height": null,
            "align_content": null,
            "visibility": null,
            "align_self": null,
            "height": null,
            "min_height": null,
            "padding": null,
            "grid_auto_rows": null,
            "grid_gap": null,
            "max_width": null,
            "order": null,
            "_view_module_version": "1.2.0",
            "grid_template_areas": null,
            "object_position": null,
            "object_fit": null,
            "grid_auto_columns": null,
            "margin": null,
            "display": null,
            "left": null
          }
        },
        "9d7955f44bd04d38b40e481252a9f0b5": {
          "model_module": "@jupyter-widgets/controls",
          "model_name": "FloatProgressModel",
          "state": {
            "_view_name": "ProgressView",
            "style": "IPY_MODEL_d377467eda5449ffbc871f573261fd4e",
            "_dom_classes": [],
            "description": "#1: 100%",
            "_model_name": "FloatProgressModel",
            "bar_style": "success",
            "max": 1,
            "_view_module": "@jupyter-widgets/controls",
            "_model_module_version": "1.5.0",
            "value": 1,
            "_view_count": null,
            "_view_module_version": "1.5.0",
            "orientation": "horizontal",
            "min": 0,
            "description_tooltip": null,
            "_model_module": "@jupyter-widgets/controls",
            "layout": "IPY_MODEL_9f9873b105664ad9a075dcc72b42b824"
          }
        },
        "3ff1c46a1b2a429693c52f02d9af4fa3": {
          "model_module": "@jupyter-widgets/controls",
          "model_name": "HTMLModel",
          "state": {
            "_view_name": "HTMLView",
            "style": "IPY_MODEL_6afec3ae095348b5b9d00865437235c4",
            "_dom_classes": [],
            "description": "",
            "_model_name": "HTMLModel",
            "placeholder": "​",
            "_view_module": "@jupyter-widgets/controls",
            "_model_module_version": "1.5.0",
            "value": " 1/1 [00:00&lt;00:00,  1.90ba/s]",
            "_view_count": null,
            "_view_module_version": "1.5.0",
            "description_tooltip": null,
            "_model_module": "@jupyter-widgets/controls",
            "layout": "IPY_MODEL_231c7a86d23e4a67a7e6f44f699280c0"
          }
        },
        "d377467eda5449ffbc871f573261fd4e": {
          "model_module": "@jupyter-widgets/controls",
          "model_name": "ProgressStyleModel",
          "state": {
            "_view_name": "StyleView",
            "_model_name": "ProgressStyleModel",
            "description_width": "initial",
            "_view_module": "@jupyter-widgets/base",
            "_model_module_version": "1.5.0",
            "_view_count": null,
            "_view_module_version": "1.2.0",
            "bar_color": null,
            "_model_module": "@jupyter-widgets/controls"
          }
        },
        "9f9873b105664ad9a075dcc72b42b824": {
          "model_module": "@jupyter-widgets/base",
          "model_name": "LayoutModel",
          "state": {
            "_view_name": "LayoutView",
            "grid_template_rows": null,
            "right": null,
            "justify_content": null,
            "_view_module": "@jupyter-widgets/base",
            "overflow": null,
            "_model_module_version": "1.2.0",
            "_view_count": null,
            "flex_flow": null,
            "width": null,
            "min_width": null,
            "border": null,
            "align_items": null,
            "bottom": null,
            "_model_module": "@jupyter-widgets/base",
            "top": null,
            "grid_column": null,
            "overflow_y": null,
            "overflow_x": null,
            "grid_auto_flow": null,
            "grid_area": null,
            "grid_template_columns": null,
            "flex": null,
            "_model_name": "LayoutModel",
            "justify_items": null,
            "grid_row": null,
            "max_height": null,
            "align_content": null,
            "visibility": null,
            "align_self": null,
            "height": null,
            "min_height": null,
            "padding": null,
            "grid_auto_rows": null,
            "grid_gap": null,
            "max_width": null,
            "order": null,
            "_view_module_version": "1.2.0",
            "grid_template_areas": null,
            "object_position": null,
            "object_fit": null,
            "grid_auto_columns": null,
            "margin": null,
            "display": null,
            "left": null
          }
        },
        "6afec3ae095348b5b9d00865437235c4": {
          "model_module": "@jupyter-widgets/controls",
          "model_name": "DescriptionStyleModel",
          "state": {
            "_view_name": "StyleView",
            "_model_name": "DescriptionStyleModel",
            "description_width": "",
            "_view_module": "@jupyter-widgets/base",
            "_model_module_version": "1.5.0",
            "_view_count": null,
            "_view_module_version": "1.2.0",
            "_model_module": "@jupyter-widgets/controls"
          }
        },
        "231c7a86d23e4a67a7e6f44f699280c0": {
          "model_module": "@jupyter-widgets/base",
          "model_name": "LayoutModel",
          "state": {
            "_view_name": "LayoutView",
            "grid_template_rows": null,
            "right": null,
            "justify_content": null,
            "_view_module": "@jupyter-widgets/base",
            "overflow": null,
            "_model_module_version": "1.2.0",
            "_view_count": null,
            "flex_flow": null,
            "width": null,
            "min_width": null,
            "border": null,
            "align_items": null,
            "bottom": null,
            "_model_module": "@jupyter-widgets/base",
            "top": null,
            "grid_column": null,
            "overflow_y": null,
            "overflow_x": null,
            "grid_auto_flow": null,
            "grid_area": null,
            "grid_template_columns": null,
            "flex": null,
            "_model_name": "LayoutModel",
            "justify_items": null,
            "grid_row": null,
            "max_height": null,
            "align_content": null,
            "visibility": null,
            "align_self": null,
            "height": null,
            "min_height": null,
            "padding": null,
            "grid_auto_rows": null,
            "grid_gap": null,
            "max_width": null,
            "order": null,
            "_view_module_version": "1.2.0",
            "grid_template_areas": null,
            "object_position": null,
            "object_fit": null,
            "grid_auto_columns": null,
            "margin": null,
            "display": null,
            "left": null
          }
        },
        "047c203a12704482be7d69dab0ec1362": {
          "model_module": "@jupyter-widgets/controls",
          "model_name": "HBoxModel",
          "state": {
            "_view_name": "HBoxView",
            "_dom_classes": [],
            "_model_name": "HBoxModel",
            "_view_module": "@jupyter-widgets/controls",
            "_model_module_version": "1.5.0",
            "_view_count": null,
            "_view_module_version": "1.5.0",
            "box_style": "",
            "layout": "IPY_MODEL_3273192c15054f4d8bd340b0ac095551",
            "_model_module": "@jupyter-widgets/controls",
            "children": [
              "IPY_MODEL_c1e52cd6fc4644d28d975773618e876b",
              "IPY_MODEL_7b53de971f4b408497a8d5374c9ba6b3"
            ]
          }
        },
        "3273192c15054f4d8bd340b0ac095551": {
          "model_module": "@jupyter-widgets/base",
          "model_name": "LayoutModel",
          "state": {
            "_view_name": "LayoutView",
            "grid_template_rows": null,
            "right": null,
            "justify_content": null,
            "_view_module": "@jupyter-widgets/base",
            "overflow": null,
            "_model_module_version": "1.2.0",
            "_view_count": null,
            "flex_flow": null,
            "width": null,
            "min_width": null,
            "border": null,
            "align_items": null,
            "bottom": null,
            "_model_module": "@jupyter-widgets/base",
            "top": null,
            "grid_column": null,
            "overflow_y": null,
            "overflow_x": null,
            "grid_auto_flow": null,
            "grid_area": null,
            "grid_template_columns": null,
            "flex": null,
            "_model_name": "LayoutModel",
            "justify_items": null,
            "grid_row": null,
            "max_height": null,
            "align_content": null,
            "visibility": null,
            "align_self": null,
            "height": null,
            "min_height": null,
            "padding": null,
            "grid_auto_rows": null,
            "grid_gap": null,
            "max_width": null,
            "order": null,
            "_view_module_version": "1.2.0",
            "grid_template_areas": null,
            "object_position": null,
            "object_fit": null,
            "grid_auto_columns": null,
            "margin": null,
            "display": null,
            "left": null
          }
        },
        "c1e52cd6fc4644d28d975773618e876b": {
          "model_module": "@jupyter-widgets/controls",
          "model_name": "FloatProgressModel",
          "state": {
            "_view_name": "ProgressView",
            "style": "IPY_MODEL_732d3717b29b4f1caa5900348e9882d3",
            "_dom_classes": [],
            "description": "#2: 100%",
            "_model_name": "FloatProgressModel",
            "bar_style": "success",
            "max": 1,
            "_view_module": "@jupyter-widgets/controls",
            "_model_module_version": "1.5.0",
            "value": 1,
            "_view_count": null,
            "_view_module_version": "1.5.0",
            "orientation": "horizontal",
            "min": 0,
            "description_tooltip": null,
            "_model_module": "@jupyter-widgets/controls",
            "layout": "IPY_MODEL_000a96be6d61418fa72175e153cf4a33"
          }
        },
        "7b53de971f4b408497a8d5374c9ba6b3": {
          "model_module": "@jupyter-widgets/controls",
          "model_name": "HTMLModel",
          "state": {
            "_view_name": "HTMLView",
            "style": "IPY_MODEL_1c2ef814549a497d9383bcc7e698d7e5",
            "_dom_classes": [],
            "description": "",
            "_model_name": "HTMLModel",
            "placeholder": "​",
            "_view_module": "@jupyter-widgets/controls",
            "_model_module_version": "1.5.0",
            "value": " 1/1 [00:00&lt;00:00,  2.31ba/s]",
            "_view_count": null,
            "_view_module_version": "1.5.0",
            "description_tooltip": null,
            "_model_module": "@jupyter-widgets/controls",
            "layout": "IPY_MODEL_714b86213e404cb694c5405d31f7133d"
          }
        },
        "732d3717b29b4f1caa5900348e9882d3": {
          "model_module": "@jupyter-widgets/controls",
          "model_name": "ProgressStyleModel",
          "state": {
            "_view_name": "StyleView",
            "_model_name": "ProgressStyleModel",
            "description_width": "initial",
            "_view_module": "@jupyter-widgets/base",
            "_model_module_version": "1.5.0",
            "_view_count": null,
            "_view_module_version": "1.2.0",
            "bar_color": null,
            "_model_module": "@jupyter-widgets/controls"
          }
        },
        "000a96be6d61418fa72175e153cf4a33": {
          "model_module": "@jupyter-widgets/base",
          "model_name": "LayoutModel",
          "state": {
            "_view_name": "LayoutView",
            "grid_template_rows": null,
            "right": null,
            "justify_content": null,
            "_view_module": "@jupyter-widgets/base",
            "overflow": null,
            "_model_module_version": "1.2.0",
            "_view_count": null,
            "flex_flow": null,
            "width": null,
            "min_width": null,
            "border": null,
            "align_items": null,
            "bottom": null,
            "_model_module": "@jupyter-widgets/base",
            "top": null,
            "grid_column": null,
            "overflow_y": null,
            "overflow_x": null,
            "grid_auto_flow": null,
            "grid_area": null,
            "grid_template_columns": null,
            "flex": null,
            "_model_name": "LayoutModel",
            "justify_items": null,
            "grid_row": null,
            "max_height": null,
            "align_content": null,
            "visibility": null,
            "align_self": null,
            "height": null,
            "min_height": null,
            "padding": null,
            "grid_auto_rows": null,
            "grid_gap": null,
            "max_width": null,
            "order": null,
            "_view_module_version": "1.2.0",
            "grid_template_areas": null,
            "object_position": null,
            "object_fit": null,
            "grid_auto_columns": null,
            "margin": null,
            "display": null,
            "left": null
          }
        },
        "1c2ef814549a497d9383bcc7e698d7e5": {
          "model_module": "@jupyter-widgets/controls",
          "model_name": "DescriptionStyleModel",
          "state": {
            "_view_name": "StyleView",
            "_model_name": "DescriptionStyleModel",
            "description_width": "",
            "_view_module": "@jupyter-widgets/base",
            "_model_module_version": "1.5.0",
            "_view_count": null,
            "_view_module_version": "1.2.0",
            "_model_module": "@jupyter-widgets/controls"
          }
        },
        "714b86213e404cb694c5405d31f7133d": {
          "model_module": "@jupyter-widgets/base",
          "model_name": "LayoutModel",
          "state": {
            "_view_name": "LayoutView",
            "grid_template_rows": null,
            "right": null,
            "justify_content": null,
            "_view_module": "@jupyter-widgets/base",
            "overflow": null,
            "_model_module_version": "1.2.0",
            "_view_count": null,
            "flex_flow": null,
            "width": null,
            "min_width": null,
            "border": null,
            "align_items": null,
            "bottom": null,
            "_model_module": "@jupyter-widgets/base",
            "top": null,
            "grid_column": null,
            "overflow_y": null,
            "overflow_x": null,
            "grid_auto_flow": null,
            "grid_area": null,
            "grid_template_columns": null,
            "flex": null,
            "_model_name": "LayoutModel",
            "justify_items": null,
            "grid_row": null,
            "max_height": null,
            "align_content": null,
            "visibility": null,
            "align_self": null,
            "height": null,
            "min_height": null,
            "padding": null,
            "grid_auto_rows": null,
            "grid_gap": null,
            "max_width": null,
            "order": null,
            "_view_module_version": "1.2.0",
            "grid_template_areas": null,
            "object_position": null,
            "object_fit": null,
            "grid_auto_columns": null,
            "margin": null,
            "display": null,
            "left": null
          }
        },
        "342c6560b6524818b03ecfaef3bbdcd3": {
          "model_module": "@jupyter-widgets/controls",
          "model_name": "HBoxModel",
          "state": {
            "_view_name": "HBoxView",
            "_dom_classes": [],
            "_model_name": "HBoxModel",
            "_view_module": "@jupyter-widgets/controls",
            "_model_module_version": "1.5.0",
            "_view_count": null,
            "_view_module_version": "1.5.0",
            "box_style": "",
            "layout": "IPY_MODEL_04ce5ab76e8f47acb7d0235acedd6433",
            "_model_module": "@jupyter-widgets/controls",
            "children": [
              "IPY_MODEL_16ec9c966bf54bedb5d0e96b7a95529f",
              "IPY_MODEL_0674717f67ae4562b822c9e1553df493"
            ]
          }
        },
        "04ce5ab76e8f47acb7d0235acedd6433": {
          "model_module": "@jupyter-widgets/base",
          "model_name": "LayoutModel",
          "state": {
            "_view_name": "LayoutView",
            "grid_template_rows": null,
            "right": null,
            "justify_content": null,
            "_view_module": "@jupyter-widgets/base",
            "overflow": null,
            "_model_module_version": "1.2.0",
            "_view_count": null,
            "flex_flow": null,
            "width": null,
            "min_width": null,
            "border": null,
            "align_items": null,
            "bottom": null,
            "_model_module": "@jupyter-widgets/base",
            "top": null,
            "grid_column": null,
            "overflow_y": null,
            "overflow_x": null,
            "grid_auto_flow": null,
            "grid_area": null,
            "grid_template_columns": null,
            "flex": null,
            "_model_name": "LayoutModel",
            "justify_items": null,
            "grid_row": null,
            "max_height": null,
            "align_content": null,
            "visibility": null,
            "align_self": null,
            "height": null,
            "min_height": null,
            "padding": null,
            "grid_auto_rows": null,
            "grid_gap": null,
            "max_width": null,
            "order": null,
            "_view_module_version": "1.2.0",
            "grid_template_areas": null,
            "object_position": null,
            "object_fit": null,
            "grid_auto_columns": null,
            "margin": null,
            "display": null,
            "left": null
          }
        },
        "16ec9c966bf54bedb5d0e96b7a95529f": {
          "model_module": "@jupyter-widgets/controls",
          "model_name": "FloatProgressModel",
          "state": {
            "_view_name": "ProgressView",
            "style": "IPY_MODEL_4bc2fd567d4748cfa0d76ca8b5f44021",
            "_dom_classes": [],
            "description": "#3: 100%",
            "_model_name": "FloatProgressModel",
            "bar_style": "success",
            "max": 1,
            "_view_module": "@jupyter-widgets/controls",
            "_model_module_version": "1.5.0",
            "value": 1,
            "_view_count": null,
            "_view_module_version": "1.5.0",
            "orientation": "horizontal",
            "min": 0,
            "description_tooltip": null,
            "_model_module": "@jupyter-widgets/controls",
            "layout": "IPY_MODEL_401df75e71e0462d9742462d2646bb3c"
          }
        },
        "0674717f67ae4562b822c9e1553df493": {
          "model_module": "@jupyter-widgets/controls",
          "model_name": "HTMLModel",
          "state": {
            "_view_name": "HTMLView",
            "style": "IPY_MODEL_c5ff86f0e59346febbc0abc0d59541d2",
            "_dom_classes": [],
            "description": "",
            "_model_name": "HTMLModel",
            "placeholder": "​",
            "_view_module": "@jupyter-widgets/controls",
            "_model_module_version": "1.5.0",
            "value": " 1/1 [00:00&lt;00:00,  2.47ba/s]",
            "_view_count": null,
            "_view_module_version": "1.5.0",
            "description_tooltip": null,
            "_model_module": "@jupyter-widgets/controls",
            "layout": "IPY_MODEL_bd31c6a8738147fdb0c3c8b859005228"
          }
        },
        "4bc2fd567d4748cfa0d76ca8b5f44021": {
          "model_module": "@jupyter-widgets/controls",
          "model_name": "ProgressStyleModel",
          "state": {
            "_view_name": "StyleView",
            "_model_name": "ProgressStyleModel",
            "description_width": "initial",
            "_view_module": "@jupyter-widgets/base",
            "_model_module_version": "1.5.0",
            "_view_count": null,
            "_view_module_version": "1.2.0",
            "bar_color": null,
            "_model_module": "@jupyter-widgets/controls"
          }
        },
        "401df75e71e0462d9742462d2646bb3c": {
          "model_module": "@jupyter-widgets/base",
          "model_name": "LayoutModel",
          "state": {
            "_view_name": "LayoutView",
            "grid_template_rows": null,
            "right": null,
            "justify_content": null,
            "_view_module": "@jupyter-widgets/base",
            "overflow": null,
            "_model_module_version": "1.2.0",
            "_view_count": null,
            "flex_flow": null,
            "width": null,
            "min_width": null,
            "border": null,
            "align_items": null,
            "bottom": null,
            "_model_module": "@jupyter-widgets/base",
            "top": null,
            "grid_column": null,
            "overflow_y": null,
            "overflow_x": null,
            "grid_auto_flow": null,
            "grid_area": null,
            "grid_template_columns": null,
            "flex": null,
            "_model_name": "LayoutModel",
            "justify_items": null,
            "grid_row": null,
            "max_height": null,
            "align_content": null,
            "visibility": null,
            "align_self": null,
            "height": null,
            "min_height": null,
            "padding": null,
            "grid_auto_rows": null,
            "grid_gap": null,
            "max_width": null,
            "order": null,
            "_view_module_version": "1.2.0",
            "grid_template_areas": null,
            "object_position": null,
            "object_fit": null,
            "grid_auto_columns": null,
            "margin": null,
            "display": null,
            "left": null
          }
        },
        "c5ff86f0e59346febbc0abc0d59541d2": {
          "model_module": "@jupyter-widgets/controls",
          "model_name": "DescriptionStyleModel",
          "state": {
            "_view_name": "StyleView",
            "_model_name": "DescriptionStyleModel",
            "description_width": "",
            "_view_module": "@jupyter-widgets/base",
            "_model_module_version": "1.5.0",
            "_view_count": null,
            "_view_module_version": "1.2.0",
            "_model_module": "@jupyter-widgets/controls"
          }
        },
        "bd31c6a8738147fdb0c3c8b859005228": {
          "model_module": "@jupyter-widgets/base",
          "model_name": "LayoutModel",
          "state": {
            "_view_name": "LayoutView",
            "grid_template_rows": null,
            "right": null,
            "justify_content": null,
            "_view_module": "@jupyter-widgets/base",
            "overflow": null,
            "_model_module_version": "1.2.0",
            "_view_count": null,
            "flex_flow": null,
            "width": null,
            "min_width": null,
            "border": null,
            "align_items": null,
            "bottom": null,
            "_model_module": "@jupyter-widgets/base",
            "top": null,
            "grid_column": null,
            "overflow_y": null,
            "overflow_x": null,
            "grid_auto_flow": null,
            "grid_area": null,
            "grid_template_columns": null,
            "flex": null,
            "_model_name": "LayoutModel",
            "justify_items": null,
            "grid_row": null,
            "max_height": null,
            "align_content": null,
            "visibility": null,
            "align_self": null,
            "height": null,
            "min_height": null,
            "padding": null,
            "grid_auto_rows": null,
            "grid_gap": null,
            "max_width": null,
            "order": null,
            "_view_module_version": "1.2.0",
            "grid_template_areas": null,
            "object_position": null,
            "object_fit": null,
            "grid_auto_columns": null,
            "margin": null,
            "display": null,
            "left": null
          }
        },
        "83662abcde40429f805749158995193c": {
          "model_module": "@jupyter-widgets/controls",
          "model_name": "HBoxModel",
          "state": {
            "_view_name": "HBoxView",
            "_dom_classes": [],
            "_model_name": "HBoxModel",
            "_view_module": "@jupyter-widgets/controls",
            "_model_module_version": "1.5.0",
            "_view_count": null,
            "_view_module_version": "1.5.0",
            "box_style": "",
            "layout": "IPY_MODEL_f9ea5e14f8d6472a8fe7f3102d75ec2a",
            "_model_module": "@jupyter-widgets/controls",
            "children": [
              "IPY_MODEL_9a3fb07257a54063883c5e46f0f7bfb9",
              "IPY_MODEL_e2dd6d379af343699be0348f99af0d6b"
            ]
          }
        },
        "f9ea5e14f8d6472a8fe7f3102d75ec2a": {
          "model_module": "@jupyter-widgets/base",
          "model_name": "LayoutModel",
          "state": {
            "_view_name": "LayoutView",
            "grid_template_rows": null,
            "right": null,
            "justify_content": null,
            "_view_module": "@jupyter-widgets/base",
            "overflow": null,
            "_model_module_version": "1.2.0",
            "_view_count": null,
            "flex_flow": null,
            "width": null,
            "min_width": null,
            "border": null,
            "align_items": null,
            "bottom": null,
            "_model_module": "@jupyter-widgets/base",
            "top": null,
            "grid_column": null,
            "overflow_y": null,
            "overflow_x": null,
            "grid_auto_flow": null,
            "grid_area": null,
            "grid_template_columns": null,
            "flex": null,
            "_model_name": "LayoutModel",
            "justify_items": null,
            "grid_row": null,
            "max_height": null,
            "align_content": null,
            "visibility": null,
            "align_self": null,
            "height": null,
            "min_height": null,
            "padding": null,
            "grid_auto_rows": null,
            "grid_gap": null,
            "max_width": null,
            "order": null,
            "_view_module_version": "1.2.0",
            "grid_template_areas": null,
            "object_position": null,
            "object_fit": null,
            "grid_auto_columns": null,
            "margin": null,
            "display": null,
            "left": null
          }
        },
        "9a3fb07257a54063883c5e46f0f7bfb9": {
          "model_module": "@jupyter-widgets/controls",
          "model_name": "FloatProgressModel",
          "state": {
            "_view_name": "ProgressView",
            "style": "IPY_MODEL_cf6f33a3038d4befb91a7df7a3b23343",
            "_dom_classes": [],
            "description": "Downloading: ",
            "_model_name": "FloatProgressModel",
            "bar_style": "success",
            "max": 1764,
            "_view_module": "@jupyter-widgets/controls",
            "_model_module_version": "1.5.0",
            "value": 1764,
            "_view_count": null,
            "_view_module_version": "1.5.0",
            "orientation": "horizontal",
            "min": 0,
            "description_tooltip": null,
            "_model_module": "@jupyter-widgets/controls",
            "layout": "IPY_MODEL_2028e69bbf97421ca6853d96dbf018a9"
          }
        },
        "e2dd6d379af343699be0348f99af0d6b": {
          "model_module": "@jupyter-widgets/controls",
          "model_name": "HTMLModel",
          "state": {
            "_view_name": "HTMLView",
            "style": "IPY_MODEL_4bdbc543d1c64d17bfdb2a043c23d745",
            "_dom_classes": [],
            "description": "",
            "_model_name": "HTMLModel",
            "placeholder": "​",
            "_view_module": "@jupyter-widgets/controls",
            "_model_module_version": "1.5.0",
            "value": " 3.90k/? [00:00&lt;00:00, 17.5kB/s]",
            "_view_count": null,
            "_view_module_version": "1.5.0",
            "description_tooltip": null,
            "_model_module": "@jupyter-widgets/controls",
            "layout": "IPY_MODEL_f4afe0ef7d9c43e084ed6cd85b04a3c4"
          }
        },
        "cf6f33a3038d4befb91a7df7a3b23343": {
          "model_module": "@jupyter-widgets/controls",
          "model_name": "ProgressStyleModel",
          "state": {
            "_view_name": "StyleView",
            "_model_name": "ProgressStyleModel",
            "description_width": "initial",
            "_view_module": "@jupyter-widgets/base",
            "_model_module_version": "1.5.0",
            "_view_count": null,
            "_view_module_version": "1.2.0",
            "bar_color": null,
            "_model_module": "@jupyter-widgets/controls"
          }
        },
        "2028e69bbf97421ca6853d96dbf018a9": {
          "model_module": "@jupyter-widgets/base",
          "model_name": "LayoutModel",
          "state": {
            "_view_name": "LayoutView",
            "grid_template_rows": null,
            "right": null,
            "justify_content": null,
            "_view_module": "@jupyter-widgets/base",
            "overflow": null,
            "_model_module_version": "1.2.0",
            "_view_count": null,
            "flex_flow": null,
            "width": null,
            "min_width": null,
            "border": null,
            "align_items": null,
            "bottom": null,
            "_model_module": "@jupyter-widgets/base",
            "top": null,
            "grid_column": null,
            "overflow_y": null,
            "overflow_x": null,
            "grid_auto_flow": null,
            "grid_area": null,
            "grid_template_columns": null,
            "flex": null,
            "_model_name": "LayoutModel",
            "justify_items": null,
            "grid_row": null,
            "max_height": null,
            "align_content": null,
            "visibility": null,
            "align_self": null,
            "height": null,
            "min_height": null,
            "padding": null,
            "grid_auto_rows": null,
            "grid_gap": null,
            "max_width": null,
            "order": null,
            "_view_module_version": "1.2.0",
            "grid_template_areas": null,
            "object_position": null,
            "object_fit": null,
            "grid_auto_columns": null,
            "margin": null,
            "display": null,
            "left": null
          }
        },
        "4bdbc543d1c64d17bfdb2a043c23d745": {
          "model_module": "@jupyter-widgets/controls",
          "model_name": "DescriptionStyleModel",
          "state": {
            "_view_name": "StyleView",
            "_model_name": "DescriptionStyleModel",
            "description_width": "",
            "_view_module": "@jupyter-widgets/base",
            "_model_module_version": "1.5.0",
            "_view_count": null,
            "_view_module_version": "1.2.0",
            "_model_module": "@jupyter-widgets/controls"
          }
        },
        "f4afe0ef7d9c43e084ed6cd85b04a3c4": {
          "model_module": "@jupyter-widgets/base",
          "model_name": "LayoutModel",
          "state": {
            "_view_name": "LayoutView",
            "grid_template_rows": null,
            "right": null,
            "justify_content": null,
            "_view_module": "@jupyter-widgets/base",
            "overflow": null,
            "_model_module_version": "1.2.0",
            "_view_count": null,
            "flex_flow": null,
            "width": null,
            "min_width": null,
            "border": null,
            "align_items": null,
            "bottom": null,
            "_model_module": "@jupyter-widgets/base",
            "top": null,
            "grid_column": null,
            "overflow_y": null,
            "overflow_x": null,
            "grid_auto_flow": null,
            "grid_area": null,
            "grid_template_columns": null,
            "flex": null,
            "_model_name": "LayoutModel",
            "justify_items": null,
            "grid_row": null,
            "max_height": null,
            "align_content": null,
            "visibility": null,
            "align_self": null,
            "height": null,
            "min_height": null,
            "padding": null,
            "grid_auto_rows": null,
            "grid_gap": null,
            "max_width": null,
            "order": null,
            "_view_module_version": "1.2.0",
            "grid_template_areas": null,
            "object_position": null,
            "object_fit": null,
            "grid_auto_columns": null,
            "margin": null,
            "display": null,
            "left": null
          }
        },
        "4ea9ecd61bf44a2299090a84689b13b5": {
          "model_module": "@jupyter-widgets/controls",
          "model_name": "HBoxModel",
          "state": {
            "_view_name": "HBoxView",
            "_dom_classes": [],
            "_model_name": "HBoxModel",
            "_view_module": "@jupyter-widgets/controls",
            "_model_module_version": "1.5.0",
            "_view_count": null,
            "_view_module_version": "1.5.0",
            "box_style": "",
            "layout": "IPY_MODEL_45f9e394ea1c482f91455a997d0d7e6c",
            "_model_module": "@jupyter-widgets/controls",
            "children": [
              "IPY_MODEL_b2efd32e42bc4830956519265256472d",
              "IPY_MODEL_232db1cd83f5417e84cdeed2e2ad4d12"
            ]
          }
        },
        "45f9e394ea1c482f91455a997d0d7e6c": {
          "model_module": "@jupyter-widgets/base",
          "model_name": "LayoutModel",
          "state": {
            "_view_name": "LayoutView",
            "grid_template_rows": null,
            "right": null,
            "justify_content": null,
            "_view_module": "@jupyter-widgets/base",
            "overflow": null,
            "_model_module_version": "1.2.0",
            "_view_count": null,
            "flex_flow": null,
            "width": null,
            "min_width": null,
            "border": null,
            "align_items": null,
            "bottom": null,
            "_model_module": "@jupyter-widgets/base",
            "top": null,
            "grid_column": null,
            "overflow_y": null,
            "overflow_x": null,
            "grid_auto_flow": null,
            "grid_area": null,
            "grid_template_columns": null,
            "flex": null,
            "_model_name": "LayoutModel",
            "justify_items": null,
            "grid_row": null,
            "max_height": null,
            "align_content": null,
            "visibility": null,
            "align_self": null,
            "height": null,
            "min_height": null,
            "padding": null,
            "grid_auto_rows": null,
            "grid_gap": null,
            "max_width": null,
            "order": null,
            "_view_module_version": "1.2.0",
            "grid_template_areas": null,
            "object_position": null,
            "object_fit": null,
            "grid_auto_columns": null,
            "margin": null,
            "display": null,
            "left": null
          }
        },
        "b2efd32e42bc4830956519265256472d": {
          "model_module": "@jupyter-widgets/controls",
          "model_name": "FloatProgressModel",
          "state": {
            "_view_name": "ProgressView",
            "style": "IPY_MODEL_407b014354d74cfd8df7e03a85a3688f",
            "_dom_classes": [],
            "description": "Downloading: 100%",
            "_model_name": "FloatProgressModel",
            "bar_style": "success",
            "max": 843,
            "_view_module": "@jupyter-widgets/controls",
            "_model_module_version": "1.5.0",
            "value": 843,
            "_view_count": null,
            "_view_module_version": "1.5.0",
            "orientation": "horizontal",
            "min": 0,
            "description_tooltip": null,
            "_model_module": "@jupyter-widgets/controls",
            "layout": "IPY_MODEL_6a919acd786c4bd3ac43933563de11e4"
          }
        },
        "232db1cd83f5417e84cdeed2e2ad4d12": {
          "model_module": "@jupyter-widgets/controls",
          "model_name": "HTMLModel",
          "state": {
            "_view_name": "HTMLView",
            "style": "IPY_MODEL_5601329906f8431eb8b5b6bb97957b53",
            "_dom_classes": [],
            "description": "",
            "_model_name": "HTMLModel",
            "placeholder": "​",
            "_view_module": "@jupyter-widgets/controls",
            "_model_module_version": "1.5.0",
            "value": " 843/843 [00:07&lt;00:00, 116B/s]",
            "_view_count": null,
            "_view_module_version": "1.5.0",
            "description_tooltip": null,
            "_model_module": "@jupyter-widgets/controls",
            "layout": "IPY_MODEL_e31530e81d744f6694656d50bcdcdd20"
          }
        },
        "407b014354d74cfd8df7e03a85a3688f": {
          "model_module": "@jupyter-widgets/controls",
          "model_name": "ProgressStyleModel",
          "state": {
            "_view_name": "StyleView",
            "_model_name": "ProgressStyleModel",
            "description_width": "initial",
            "_view_module": "@jupyter-widgets/base",
            "_model_module_version": "1.5.0",
            "_view_count": null,
            "_view_module_version": "1.2.0",
            "bar_color": null,
            "_model_module": "@jupyter-widgets/controls"
          }
        },
        "6a919acd786c4bd3ac43933563de11e4": {
          "model_module": "@jupyter-widgets/base",
          "model_name": "LayoutModel",
          "state": {
            "_view_name": "LayoutView",
            "grid_template_rows": null,
            "right": null,
            "justify_content": null,
            "_view_module": "@jupyter-widgets/base",
            "overflow": null,
            "_model_module_version": "1.2.0",
            "_view_count": null,
            "flex_flow": null,
            "width": null,
            "min_width": null,
            "border": null,
            "align_items": null,
            "bottom": null,
            "_model_module": "@jupyter-widgets/base",
            "top": null,
            "grid_column": null,
            "overflow_y": null,
            "overflow_x": null,
            "grid_auto_flow": null,
            "grid_area": null,
            "grid_template_columns": null,
            "flex": null,
            "_model_name": "LayoutModel",
            "justify_items": null,
            "grid_row": null,
            "max_height": null,
            "align_content": null,
            "visibility": null,
            "align_self": null,
            "height": null,
            "min_height": null,
            "padding": null,
            "grid_auto_rows": null,
            "grid_gap": null,
            "max_width": null,
            "order": null,
            "_view_module_version": "1.2.0",
            "grid_template_areas": null,
            "object_position": null,
            "object_fit": null,
            "grid_auto_columns": null,
            "margin": null,
            "display": null,
            "left": null
          }
        },
        "5601329906f8431eb8b5b6bb97957b53": {
          "model_module": "@jupyter-widgets/controls",
          "model_name": "DescriptionStyleModel",
          "state": {
            "_view_name": "StyleView",
            "_model_name": "DescriptionStyleModel",
            "description_width": "",
            "_view_module": "@jupyter-widgets/base",
            "_model_module_version": "1.5.0",
            "_view_count": null,
            "_view_module_version": "1.2.0",
            "_model_module": "@jupyter-widgets/controls"
          }
        },
        "e31530e81d744f6694656d50bcdcdd20": {
          "model_module": "@jupyter-widgets/base",
          "model_name": "LayoutModel",
          "state": {
            "_view_name": "LayoutView",
            "grid_template_rows": null,
            "right": null,
            "justify_content": null,
            "_view_module": "@jupyter-widgets/base",
            "overflow": null,
            "_model_module_version": "1.2.0",
            "_view_count": null,
            "flex_flow": null,
            "width": null,
            "min_width": null,
            "border": null,
            "align_items": null,
            "bottom": null,
            "_model_module": "@jupyter-widgets/base",
            "top": null,
            "grid_column": null,
            "overflow_y": null,
            "overflow_x": null,
            "grid_auto_flow": null,
            "grid_area": null,
            "grid_template_columns": null,
            "flex": null,
            "_model_name": "LayoutModel",
            "justify_items": null,
            "grid_row": null,
            "max_height": null,
            "align_content": null,
            "visibility": null,
            "align_self": null,
            "height": null,
            "min_height": null,
            "padding": null,
            "grid_auto_rows": null,
            "grid_gap": null,
            "max_width": null,
            "order": null,
            "_view_module_version": "1.2.0",
            "grid_template_areas": null,
            "object_position": null,
            "object_fit": null,
            "grid_auto_columns": null,
            "margin": null,
            "display": null,
            "left": null
          }
        },
        "805b846871284f01b4ea93acde708eed": {
          "model_module": "@jupyter-widgets/controls",
          "model_name": "HBoxModel",
          "state": {
            "_view_name": "HBoxView",
            "_dom_classes": [],
            "_model_name": "HBoxModel",
            "_view_module": "@jupyter-widgets/controls",
            "_model_module_version": "1.5.0",
            "_view_count": null,
            "_view_module_version": "1.5.0",
            "box_style": "",
            "layout": "IPY_MODEL_3c54a57395914a57b3fb8d045f48a8ae",
            "_model_module": "@jupyter-widgets/controls",
            "children": [
              "IPY_MODEL_1a1b6dae817749ddaa93450cd50de820",
              "IPY_MODEL_7ec3a833579340e4be794e0445f731ee"
            ]
          }
        },
        "3c54a57395914a57b3fb8d045f48a8ae": {
          "model_module": "@jupyter-widgets/base",
          "model_name": "LayoutModel",
          "state": {
            "_view_name": "LayoutView",
            "grid_template_rows": null,
            "right": null,
            "justify_content": null,
            "_view_module": "@jupyter-widgets/base",
            "overflow": null,
            "_model_module_version": "1.2.0",
            "_view_count": null,
            "flex_flow": null,
            "width": null,
            "min_width": null,
            "border": null,
            "align_items": null,
            "bottom": null,
            "_model_module": "@jupyter-widgets/base",
            "top": null,
            "grid_column": null,
            "overflow_y": null,
            "overflow_x": null,
            "grid_auto_flow": null,
            "grid_area": null,
            "grid_template_columns": null,
            "flex": null,
            "_model_name": "LayoutModel",
            "justify_items": null,
            "grid_row": null,
            "max_height": null,
            "align_content": null,
            "visibility": null,
            "align_self": null,
            "height": null,
            "min_height": null,
            "padding": null,
            "grid_auto_rows": null,
            "grid_gap": null,
            "max_width": null,
            "order": null,
            "_view_module_version": "1.2.0",
            "grid_template_areas": null,
            "object_position": null,
            "object_fit": null,
            "grid_auto_columns": null,
            "margin": null,
            "display": null,
            "left": null
          }
        },
        "1a1b6dae817749ddaa93450cd50de820": {
          "model_module": "@jupyter-widgets/controls",
          "model_name": "FloatProgressModel",
          "state": {
            "_view_name": "ProgressView",
            "style": "IPY_MODEL_e41fe6a59902435792633a1987fa968b",
            "_dom_classes": [],
            "description": "Downloading: 100%",
            "_model_name": "FloatProgressModel",
            "bar_style": "success",
            "max": 377667514,
            "_view_module": "@jupyter-widgets/controls",
            "_model_module_version": "1.5.0",
            "value": 377667514,
            "_view_count": null,
            "_view_module_version": "1.5.0",
            "orientation": "horizontal",
            "min": 0,
            "description_tooltip": null,
            "_model_module": "@jupyter-widgets/controls",
            "layout": "IPY_MODEL_3fc319abd7864d2785c6d46d839f5c90"
          }
        },
        "7ec3a833579340e4be794e0445f731ee": {
          "model_module": "@jupyter-widgets/controls",
          "model_name": "HTMLModel",
          "state": {
            "_view_name": "HTMLView",
            "style": "IPY_MODEL_2ccfe04f3174439695dce8311341df74",
            "_dom_classes": [],
            "description": "",
            "_model_name": "HTMLModel",
            "placeholder": "​",
            "_view_module": "@jupyter-widgets/controls",
            "_model_module_version": "1.5.0",
            "value": " 378M/378M [00:06&lt;00:00, 55.7MB/s]",
            "_view_count": null,
            "_view_module_version": "1.5.0",
            "description_tooltip": null,
            "_model_module": "@jupyter-widgets/controls",
            "layout": "IPY_MODEL_03fd5517d0c048d3b7e5a8e16368ee34"
          }
        },
        "e41fe6a59902435792633a1987fa968b": {
          "model_module": "@jupyter-widgets/controls",
          "model_name": "ProgressStyleModel",
          "state": {
            "_view_name": "StyleView",
            "_model_name": "ProgressStyleModel",
            "description_width": "initial",
            "_view_module": "@jupyter-widgets/base",
            "_model_module_version": "1.5.0",
            "_view_count": null,
            "_view_module_version": "1.2.0",
            "bar_color": null,
            "_model_module": "@jupyter-widgets/controls"
          }
        },
        "3fc319abd7864d2785c6d46d839f5c90": {
          "model_module": "@jupyter-widgets/base",
          "model_name": "LayoutModel",
          "state": {
            "_view_name": "LayoutView",
            "grid_template_rows": null,
            "right": null,
            "justify_content": null,
            "_view_module": "@jupyter-widgets/base",
            "overflow": null,
            "_model_module_version": "1.2.0",
            "_view_count": null,
            "flex_flow": null,
            "width": null,
            "min_width": null,
            "border": null,
            "align_items": null,
            "bottom": null,
            "_model_module": "@jupyter-widgets/base",
            "top": null,
            "grid_column": null,
            "overflow_y": null,
            "overflow_x": null,
            "grid_auto_flow": null,
            "grid_area": null,
            "grid_template_columns": null,
            "flex": null,
            "_model_name": "LayoutModel",
            "justify_items": null,
            "grid_row": null,
            "max_height": null,
            "align_content": null,
            "visibility": null,
            "align_self": null,
            "height": null,
            "min_height": null,
            "padding": null,
            "grid_auto_rows": null,
            "grid_gap": null,
            "max_width": null,
            "order": null,
            "_view_module_version": "1.2.0",
            "grid_template_areas": null,
            "object_position": null,
            "object_fit": null,
            "grid_auto_columns": null,
            "margin": null,
            "display": null,
            "left": null
          }
        },
        "2ccfe04f3174439695dce8311341df74": {
          "model_module": "@jupyter-widgets/controls",
          "model_name": "DescriptionStyleModel",
          "state": {
            "_view_name": "StyleView",
            "_model_name": "DescriptionStyleModel",
            "description_width": "",
            "_view_module": "@jupyter-widgets/base",
            "_model_module_version": "1.5.0",
            "_view_count": null,
            "_view_module_version": "1.2.0",
            "_model_module": "@jupyter-widgets/controls"
          }
        },
        "03fd5517d0c048d3b7e5a8e16368ee34": {
          "model_module": "@jupyter-widgets/base",
          "model_name": "LayoutModel",
          "state": {
            "_view_name": "LayoutView",
            "grid_template_rows": null,
            "right": null,
            "justify_content": null,
            "_view_module": "@jupyter-widgets/base",
            "overflow": null,
            "_model_module_version": "1.2.0",
            "_view_count": null,
            "flex_flow": null,
            "width": null,
            "min_width": null,
            "border": null,
            "align_items": null,
            "bottom": null,
            "_model_module": "@jupyter-widgets/base",
            "top": null,
            "grid_column": null,
            "overflow_y": null,
            "overflow_x": null,
            "grid_auto_flow": null,
            "grid_area": null,
            "grid_template_columns": null,
            "flex": null,
            "_model_name": "LayoutModel",
            "justify_items": null,
            "grid_row": null,
            "max_height": null,
            "align_content": null,
            "visibility": null,
            "align_self": null,
            "height": null,
            "min_height": null,
            "padding": null,
            "grid_auto_rows": null,
            "grid_gap": null,
            "max_width": null,
            "order": null,
            "_view_module_version": "1.2.0",
            "grid_template_areas": null,
            "object_position": null,
            "object_fit": null,
            "grid_auto_columns": null,
            "margin": null,
            "display": null,
            "left": null
          }
        },
        "1d3b9633f3f8489bb671b7a382e37949": {
          "model_module": "@jupyter-widgets/controls",
          "model_name": "HBoxModel",
          "state": {
            "_view_name": "HBoxView",
            "_dom_classes": [],
            "_model_name": "HBoxModel",
            "_view_module": "@jupyter-widgets/controls",
            "_model_module_version": "1.5.0",
            "_view_count": null,
            "_view_module_version": "1.5.0",
            "box_style": "",
            "layout": "IPY_MODEL_640b15d23185443c92ac126e09f09bd4",
            "_model_module": "@jupyter-widgets/controls",
            "children": [
              "IPY_MODEL_f860c7d240fd4653b9b8b0a671989775",
              "IPY_MODEL_5a921e2cbd8740ed948c3caf45245bfe"
            ]
          }
        },
        "640b15d23185443c92ac126e09f09bd4": {
          "model_module": "@jupyter-widgets/base",
          "model_name": "LayoutModel",
          "state": {
            "_view_name": "LayoutView",
            "grid_template_rows": null,
            "right": null,
            "justify_content": null,
            "_view_module": "@jupyter-widgets/base",
            "overflow": null,
            "_model_module_version": "1.2.0",
            "_view_count": null,
            "flex_flow": null,
            "width": null,
            "min_width": null,
            "border": null,
            "align_items": null,
            "bottom": null,
            "_model_module": "@jupyter-widgets/base",
            "top": null,
            "grid_column": null,
            "overflow_y": null,
            "overflow_x": null,
            "grid_auto_flow": null,
            "grid_area": null,
            "grid_template_columns": null,
            "flex": null,
            "_model_name": "LayoutModel",
            "justify_items": null,
            "grid_row": null,
            "max_height": null,
            "align_content": null,
            "visibility": null,
            "align_self": null,
            "height": null,
            "min_height": null,
            "padding": null,
            "grid_auto_rows": null,
            "grid_gap": null,
            "max_width": null,
            "order": null,
            "_view_module_version": "1.2.0",
            "grid_template_areas": null,
            "object_position": null,
            "object_fit": null,
            "grid_auto_columns": null,
            "margin": null,
            "display": null,
            "left": null
          }
        },
        "f860c7d240fd4653b9b8b0a671989775": {
          "model_module": "@jupyter-widgets/controls",
          "model_name": "FloatProgressModel",
          "state": {
            "_view_name": "ProgressView",
            "style": "IPY_MODEL_5f2b4d399d5e49318699f8f02d414912",
            "_dom_classes": [],
            "description": "Downloading: 100%",
            "_model_name": "FloatProgressModel",
            "bar_style": "success",
            "max": 159,
            "_view_module": "@jupyter-widgets/controls",
            "_model_module_version": "1.5.0",
            "value": 159,
            "_view_count": null,
            "_view_module_version": "1.5.0",
            "orientation": "horizontal",
            "min": 0,
            "description_tooltip": null,
            "_model_module": "@jupyter-widgets/controls",
            "layout": "IPY_MODEL_4aede299b8dd42149f019b1becc8cbee"
          }
        },
        "5a921e2cbd8740ed948c3caf45245bfe": {
          "model_module": "@jupyter-widgets/controls",
          "model_name": "HTMLModel",
          "state": {
            "_view_name": "HTMLView",
            "style": "IPY_MODEL_134452068ccf4ca4b763bc087285d6fb",
            "_dom_classes": [],
            "description": "",
            "_model_name": "HTMLModel",
            "placeholder": "​",
            "_view_module": "@jupyter-widgets/controls",
            "_model_module_version": "1.5.0",
            "value": " 159/159 [00:00&lt;00:00, 174B/s]",
            "_view_count": null,
            "_view_module_version": "1.5.0",
            "description_tooltip": null,
            "_model_module": "@jupyter-widgets/controls",
            "layout": "IPY_MODEL_6758c67a564948808e86cbf73691e879"
          }
        },
        "5f2b4d399d5e49318699f8f02d414912": {
          "model_module": "@jupyter-widgets/controls",
          "model_name": "ProgressStyleModel",
          "state": {
            "_view_name": "StyleView",
            "_model_name": "ProgressStyleModel",
            "description_width": "initial",
            "_view_module": "@jupyter-widgets/base",
            "_model_module_version": "1.5.0",
            "_view_count": null,
            "_view_module_version": "1.2.0",
            "bar_color": null,
            "_model_module": "@jupyter-widgets/controls"
          }
        },
        "4aede299b8dd42149f019b1becc8cbee": {
          "model_module": "@jupyter-widgets/base",
          "model_name": "LayoutModel",
          "state": {
            "_view_name": "LayoutView",
            "grid_template_rows": null,
            "right": null,
            "justify_content": null,
            "_view_module": "@jupyter-widgets/base",
            "overflow": null,
            "_model_module_version": "1.2.0",
            "_view_count": null,
            "flex_flow": null,
            "width": null,
            "min_width": null,
            "border": null,
            "align_items": null,
            "bottom": null,
            "_model_module": "@jupyter-widgets/base",
            "top": null,
            "grid_column": null,
            "overflow_y": null,
            "overflow_x": null,
            "grid_auto_flow": null,
            "grid_area": null,
            "grid_template_columns": null,
            "flex": null,
            "_model_name": "LayoutModel",
            "justify_items": null,
            "grid_row": null,
            "max_height": null,
            "align_content": null,
            "visibility": null,
            "align_self": null,
            "height": null,
            "min_height": null,
            "padding": null,
            "grid_auto_rows": null,
            "grid_gap": null,
            "max_width": null,
            "order": null,
            "_view_module_version": "1.2.0",
            "grid_template_areas": null,
            "object_position": null,
            "object_fit": null,
            "grid_auto_columns": null,
            "margin": null,
            "display": null,
            "left": null
          }
        },
        "134452068ccf4ca4b763bc087285d6fb": {
          "model_module": "@jupyter-widgets/controls",
          "model_name": "DescriptionStyleModel",
          "state": {
            "_view_name": "StyleView",
            "_model_name": "DescriptionStyleModel",
            "description_width": "",
            "_view_module": "@jupyter-widgets/base",
            "_model_module_version": "1.5.0",
            "_view_count": null,
            "_view_module_version": "1.2.0",
            "_model_module": "@jupyter-widgets/controls"
          }
        },
        "6758c67a564948808e86cbf73691e879": {
          "model_module": "@jupyter-widgets/base",
          "model_name": "LayoutModel",
          "state": {
            "_view_name": "LayoutView",
            "grid_template_rows": null,
            "right": null,
            "justify_content": null,
            "_view_module": "@jupyter-widgets/base",
            "overflow": null,
            "_model_module_version": "1.2.0",
            "_view_count": null,
            "flex_flow": null,
            "width": null,
            "min_width": null,
            "border": null,
            "align_items": null,
            "bottom": null,
            "_model_module": "@jupyter-widgets/base",
            "top": null,
            "grid_column": null,
            "overflow_y": null,
            "overflow_x": null,
            "grid_auto_flow": null,
            "grid_area": null,
            "grid_template_columns": null,
            "flex": null,
            "_model_name": "LayoutModel",
            "justify_items": null,
            "grid_row": null,
            "max_height": null,
            "align_content": null,
            "visibility": null,
            "align_self": null,
            "height": null,
            "min_height": null,
            "padding": null,
            "grid_auto_rows": null,
            "grid_gap": null,
            "max_width": null,
            "order": null,
            "_view_module_version": "1.2.0",
            "grid_template_areas": null,
            "object_position": null,
            "object_fit": null,
            "grid_auto_columns": null,
            "margin": null,
            "display": null,
            "left": null
          }
        },
        "187959dea49e417e9bd9b0bcee26f0b1": {
          "model_module": "@jupyter-widgets/controls",
          "model_name": "HBoxModel",
          "state": {
            "_view_name": "HBoxView",
            "_dom_classes": [],
            "_model_name": "HBoxModel",
            "_view_module": "@jupyter-widgets/controls",
            "_model_module_version": "1.5.0",
            "_view_count": null,
            "_view_module_version": "1.5.0",
            "box_style": "",
            "layout": "IPY_MODEL_cc901d6813f342b5a7d84ee4e8dec961",
            "_model_module": "@jupyter-widgets/controls",
            "children": [
              "IPY_MODEL_5c4e6cc79ebf465e919c2eb31d7a7ac1",
              "IPY_MODEL_4997621fc9f042908835213af03b4b4e"
            ]
          }
        },
        "cc901d6813f342b5a7d84ee4e8dec961": {
          "model_module": "@jupyter-widgets/base",
          "model_name": "LayoutModel",
          "state": {
            "_view_name": "LayoutView",
            "grid_template_rows": null,
            "right": null,
            "justify_content": null,
            "_view_module": "@jupyter-widgets/base",
            "overflow": null,
            "_model_module_version": "1.2.0",
            "_view_count": null,
            "flex_flow": null,
            "width": null,
            "min_width": null,
            "border": null,
            "align_items": null,
            "bottom": null,
            "_model_module": "@jupyter-widgets/base",
            "top": null,
            "grid_column": null,
            "overflow_y": null,
            "overflow_x": null,
            "grid_auto_flow": null,
            "grid_area": null,
            "grid_template_columns": null,
            "flex": null,
            "_model_name": "LayoutModel",
            "justify_items": null,
            "grid_row": null,
            "max_height": null,
            "align_content": null,
            "visibility": null,
            "align_self": null,
            "height": null,
            "min_height": null,
            "padding": null,
            "grid_auto_rows": null,
            "grid_gap": null,
            "max_width": null,
            "order": null,
            "_view_module_version": "1.2.0",
            "grid_template_areas": null,
            "object_position": null,
            "object_fit": null,
            "grid_auto_columns": null,
            "margin": null,
            "display": null,
            "left": null
          }
        },
        "5c4e6cc79ebf465e919c2eb31d7a7ac1": {
          "model_module": "@jupyter-widgets/controls",
          "model_name": "FloatProgressModel",
          "state": {
            "_view_name": "ProgressView",
            "style": "IPY_MODEL_0824d673b6464c4fa0254e36aa2fa2a1",
            "_dom_classes": [],
            "description": "Downloading: 100%",
            "_model_name": "FloatProgressModel",
            "bar_style": "success",
            "max": 268,
            "_view_module": "@jupyter-widgets/controls",
            "_model_module_version": "1.5.0",
            "value": 268,
            "_view_count": null,
            "_view_module_version": "1.5.0",
            "orientation": "horizontal",
            "min": 0,
            "description_tooltip": null,
            "_model_module": "@jupyter-widgets/controls",
            "layout": "IPY_MODEL_b85f8489bcd941f0ab7f3b61959d8b34"
          }
        },
        "4997621fc9f042908835213af03b4b4e": {
          "model_module": "@jupyter-widgets/controls",
          "model_name": "HTMLModel",
          "state": {
            "_view_name": "HTMLView",
            "style": "IPY_MODEL_1f75be00713244bcbf8749893e51d719",
            "_dom_classes": [],
            "description": "",
            "_model_name": "HTMLModel",
            "placeholder": "​",
            "_view_module": "@jupyter-widgets/controls",
            "_model_module_version": "1.5.0",
            "value": " 268/268 [00:00&lt;00:00, 583B/s]",
            "_view_count": null,
            "_view_module_version": "1.5.0",
            "description_tooltip": null,
            "_model_module": "@jupyter-widgets/controls",
            "layout": "IPY_MODEL_49c1c4bce6174ce2b724214b3d9150fb"
          }
        },
        "0824d673b6464c4fa0254e36aa2fa2a1": {
          "model_module": "@jupyter-widgets/controls",
          "model_name": "ProgressStyleModel",
          "state": {
            "_view_name": "StyleView",
            "_model_name": "ProgressStyleModel",
            "description_width": "initial",
            "_view_module": "@jupyter-widgets/base",
            "_model_module_version": "1.5.0",
            "_view_count": null,
            "_view_module_version": "1.2.0",
            "bar_color": null,
            "_model_module": "@jupyter-widgets/controls"
          }
        },
        "b85f8489bcd941f0ab7f3b61959d8b34": {
          "model_module": "@jupyter-widgets/base",
          "model_name": "LayoutModel",
          "state": {
            "_view_name": "LayoutView",
            "grid_template_rows": null,
            "right": null,
            "justify_content": null,
            "_view_module": "@jupyter-widgets/base",
            "overflow": null,
            "_model_module_version": "1.2.0",
            "_view_count": null,
            "flex_flow": null,
            "width": null,
            "min_width": null,
            "border": null,
            "align_items": null,
            "bottom": null,
            "_model_module": "@jupyter-widgets/base",
            "top": null,
            "grid_column": null,
            "overflow_y": null,
            "overflow_x": null,
            "grid_auto_flow": null,
            "grid_area": null,
            "grid_template_columns": null,
            "flex": null,
            "_model_name": "LayoutModel",
            "justify_items": null,
            "grid_row": null,
            "max_height": null,
            "align_content": null,
            "visibility": null,
            "align_self": null,
            "height": null,
            "min_height": null,
            "padding": null,
            "grid_auto_rows": null,
            "grid_gap": null,
            "max_width": null,
            "order": null,
            "_view_module_version": "1.2.0",
            "grid_template_areas": null,
            "object_position": null,
            "object_fit": null,
            "grid_auto_columns": null,
            "margin": null,
            "display": null,
            "left": null
          }
        },
        "1f75be00713244bcbf8749893e51d719": {
          "model_module": "@jupyter-widgets/controls",
          "model_name": "DescriptionStyleModel",
          "state": {
            "_view_name": "StyleView",
            "_model_name": "DescriptionStyleModel",
            "description_width": "",
            "_view_module": "@jupyter-widgets/base",
            "_model_module_version": "1.5.0",
            "_view_count": null,
            "_view_module_version": "1.2.0",
            "_model_module": "@jupyter-widgets/controls"
          }
        },
        "49c1c4bce6174ce2b724214b3d9150fb": {
          "model_module": "@jupyter-widgets/base",
          "model_name": "LayoutModel",
          "state": {
            "_view_name": "LayoutView",
            "grid_template_rows": null,
            "right": null,
            "justify_content": null,
            "_view_module": "@jupyter-widgets/base",
            "overflow": null,
            "_model_module_version": "1.2.0",
            "_view_count": null,
            "flex_flow": null,
            "width": null,
            "min_width": null,
            "border": null,
            "align_items": null,
            "bottom": null,
            "_model_module": "@jupyter-widgets/base",
            "top": null,
            "grid_column": null,
            "overflow_y": null,
            "overflow_x": null,
            "grid_auto_flow": null,
            "grid_area": null,
            "grid_template_columns": null,
            "flex": null,
            "_model_name": "LayoutModel",
            "justify_items": null,
            "grid_row": null,
            "max_height": null,
            "align_content": null,
            "visibility": null,
            "align_self": null,
            "height": null,
            "min_height": null,
            "padding": null,
            "grid_auto_rows": null,
            "grid_gap": null,
            "max_width": null,
            "order": null,
            "_view_module_version": "1.2.0",
            "grid_template_areas": null,
            "object_position": null,
            "object_fit": null,
            "grid_auto_columns": null,
            "margin": null,
            "display": null,
            "left": null
          }
        },
        "821d045f1b41472f9a9b57924b771e3b": {
          "model_module": "@jupyter-widgets/controls",
          "model_name": "HBoxModel",
          "state": {
            "_view_name": "HBoxView",
            "_dom_classes": [],
            "_model_name": "HBoxModel",
            "_view_module": "@jupyter-widgets/controls",
            "_model_module_version": "1.5.0",
            "_view_count": null,
            "_view_module_version": "1.5.0",
            "box_style": "",
            "layout": "IPY_MODEL_e22eabd9bd5e4f2abb12cafa6f57726e",
            "_model_module": "@jupyter-widgets/controls",
            "children": [
              "IPY_MODEL_5c5b873c70ed47b6a49ddd6cd3001887",
              "IPY_MODEL_a52cb409cdf34bfaafe47e9a9468fd51"
            ]
          }
        },
        "e22eabd9bd5e4f2abb12cafa6f57726e": {
          "model_module": "@jupyter-widgets/base",
          "model_name": "LayoutModel",
          "state": {
            "_view_name": "LayoutView",
            "grid_template_rows": null,
            "right": null,
            "justify_content": null,
            "_view_module": "@jupyter-widgets/base",
            "overflow": null,
            "_model_module_version": "1.2.0",
            "_view_count": null,
            "flex_flow": null,
            "width": null,
            "min_width": null,
            "border": null,
            "align_items": null,
            "bottom": null,
            "_model_module": "@jupyter-widgets/base",
            "top": null,
            "grid_column": null,
            "overflow_y": null,
            "overflow_x": null,
            "grid_auto_flow": null,
            "grid_area": null,
            "grid_template_columns": null,
            "flex": null,
            "_model_name": "LayoutModel",
            "justify_items": null,
            "grid_row": null,
            "max_height": null,
            "align_content": null,
            "visibility": null,
            "align_self": null,
            "height": null,
            "min_height": null,
            "padding": null,
            "grid_auto_rows": null,
            "grid_gap": null,
            "max_width": null,
            "order": null,
            "_view_module_version": "1.2.0",
            "grid_template_areas": null,
            "object_position": null,
            "object_fit": null,
            "grid_auto_columns": null,
            "margin": null,
            "display": null,
            "left": null
          }
        },
        "5c5b873c70ed47b6a49ddd6cd3001887": {
          "model_module": "@jupyter-widgets/controls",
          "model_name": "FloatProgressModel",
          "state": {
            "_view_name": "ProgressView",
            "style": "IPY_MODEL_666a6e5c4a2a4328b391f022e70826da",
            "_dom_classes": [],
            "description": "Downloading: 100%",
            "_model_name": "FloatProgressModel",
            "bar_style": "success",
            "max": 138,
            "_view_module": "@jupyter-widgets/controls",
            "_model_module_version": "1.5.0",
            "value": 138,
            "_view_count": null,
            "_view_module_version": "1.5.0",
            "orientation": "horizontal",
            "min": 0,
            "description_tooltip": null,
            "_model_module": "@jupyter-widgets/controls",
            "layout": "IPY_MODEL_fed3a1fd2d2447c685802d9459cd3e5f"
          }
        },
        "a52cb409cdf34bfaafe47e9a9468fd51": {
          "model_module": "@jupyter-widgets/controls",
          "model_name": "HTMLModel",
          "state": {
            "_view_name": "HTMLView",
            "style": "IPY_MODEL_d7998955873945a68019aa09404de954",
            "_dom_classes": [],
            "description": "",
            "_model_name": "HTMLModel",
            "placeholder": "​",
            "_view_module": "@jupyter-widgets/controls",
            "_model_module_version": "1.5.0",
            "value": " 138/138 [01:54&lt;00:00, 1.20B/s]",
            "_view_count": null,
            "_view_module_version": "1.5.0",
            "description_tooltip": null,
            "_model_module": "@jupyter-widgets/controls",
            "layout": "IPY_MODEL_378d47b136d04790b728c6454ea17d6b"
          }
        },
        "666a6e5c4a2a4328b391f022e70826da": {
          "model_module": "@jupyter-widgets/controls",
          "model_name": "ProgressStyleModel",
          "state": {
            "_view_name": "StyleView",
            "_model_name": "ProgressStyleModel",
            "description_width": "initial",
            "_view_module": "@jupyter-widgets/base",
            "_model_module_version": "1.5.0",
            "_view_count": null,
            "_view_module_version": "1.2.0",
            "bar_color": null,
            "_model_module": "@jupyter-widgets/controls"
          }
        },
        "fed3a1fd2d2447c685802d9459cd3e5f": {
          "model_module": "@jupyter-widgets/base",
          "model_name": "LayoutModel",
          "state": {
            "_view_name": "LayoutView",
            "grid_template_rows": null,
            "right": null,
            "justify_content": null,
            "_view_module": "@jupyter-widgets/base",
            "overflow": null,
            "_model_module_version": "1.2.0",
            "_view_count": null,
            "flex_flow": null,
            "width": null,
            "min_width": null,
            "border": null,
            "align_items": null,
            "bottom": null,
            "_model_module": "@jupyter-widgets/base",
            "top": null,
            "grid_column": null,
            "overflow_y": null,
            "overflow_x": null,
            "grid_auto_flow": null,
            "grid_area": null,
            "grid_template_columns": null,
            "flex": null,
            "_model_name": "LayoutModel",
            "justify_items": null,
            "grid_row": null,
            "max_height": null,
            "align_content": null,
            "visibility": null,
            "align_self": null,
            "height": null,
            "min_height": null,
            "padding": null,
            "grid_auto_rows": null,
            "grid_gap": null,
            "max_width": null,
            "order": null,
            "_view_module_version": "1.2.0",
            "grid_template_areas": null,
            "object_position": null,
            "object_fit": null,
            "grid_auto_columns": null,
            "margin": null,
            "display": null,
            "left": null
          }
        },
        "d7998955873945a68019aa09404de954": {
          "model_module": "@jupyter-widgets/controls",
          "model_name": "DescriptionStyleModel",
          "state": {
            "_view_name": "StyleView",
            "_model_name": "DescriptionStyleModel",
            "description_width": "",
            "_view_module": "@jupyter-widgets/base",
            "_model_module_version": "1.5.0",
            "_view_count": null,
            "_view_module_version": "1.2.0",
            "_model_module": "@jupyter-widgets/controls"
          }
        },
        "378d47b136d04790b728c6454ea17d6b": {
          "model_module": "@jupyter-widgets/base",
          "model_name": "LayoutModel",
          "state": {
            "_view_name": "LayoutView",
            "grid_template_rows": null,
            "right": null,
            "justify_content": null,
            "_view_module": "@jupyter-widgets/base",
            "overflow": null,
            "_model_module_version": "1.2.0",
            "_view_count": null,
            "flex_flow": null,
            "width": null,
            "min_width": null,
            "border": null,
            "align_items": null,
            "bottom": null,
            "_model_module": "@jupyter-widgets/base",
            "top": null,
            "grid_column": null,
            "overflow_y": null,
            "overflow_x": null,
            "grid_auto_flow": null,
            "grid_area": null,
            "grid_template_columns": null,
            "flex": null,
            "_model_name": "LayoutModel",
            "justify_items": null,
            "grid_row": null,
            "max_height": null,
            "align_content": null,
            "visibility": null,
            "align_self": null,
            "height": null,
            "min_height": null,
            "padding": null,
            "grid_auto_rows": null,
            "grid_gap": null,
            "max_width": null,
            "order": null,
            "_view_module_version": "1.2.0",
            "grid_template_areas": null,
            "object_position": null,
            "object_fit": null,
            "grid_auto_columns": null,
            "margin": null,
            "display": null,
            "left": null
          }
        },
        "013055bbf81b4a49b21c68dc88061a29": {
          "model_module": "@jupyter-widgets/controls",
          "model_name": "HBoxModel",
          "state": {
            "_view_name": "HBoxView",
            "_dom_classes": [],
            "_model_name": "HBoxModel",
            "_view_module": "@jupyter-widgets/controls",
            "_model_module_version": "1.5.0",
            "_view_count": null,
            "_view_module_version": "1.5.0",
            "box_style": "",
            "layout": "IPY_MODEL_1bdc8e8189404f728b5eec4cbc497310",
            "_model_module": "@jupyter-widgets/controls",
            "children": [
              "IPY_MODEL_d44ee74e06fb410dbf0c53ca5f529f0a",
              "IPY_MODEL_8f82fd40a50149a684ca5fc0dca56310"
            ]
          }
        },
        "1bdc8e8189404f728b5eec4cbc497310": {
          "model_module": "@jupyter-widgets/base",
          "model_name": "LayoutModel",
          "state": {
            "_view_name": "LayoutView",
            "grid_template_rows": null,
            "right": null,
            "justify_content": null,
            "_view_module": "@jupyter-widgets/base",
            "overflow": null,
            "_model_module_version": "1.2.0",
            "_view_count": null,
            "flex_flow": null,
            "width": null,
            "min_width": null,
            "border": null,
            "align_items": null,
            "bottom": null,
            "_model_module": "@jupyter-widgets/base",
            "top": null,
            "grid_column": null,
            "overflow_y": null,
            "overflow_x": null,
            "grid_auto_flow": null,
            "grid_area": null,
            "grid_template_columns": null,
            "flex": null,
            "_model_name": "LayoutModel",
            "justify_items": null,
            "grid_row": null,
            "max_height": null,
            "align_content": null,
            "visibility": null,
            "align_self": null,
            "height": null,
            "min_height": null,
            "padding": null,
            "grid_auto_rows": null,
            "grid_gap": null,
            "max_width": null,
            "order": null,
            "_view_module_version": "1.2.0",
            "grid_template_areas": null,
            "object_position": null,
            "object_fit": null,
            "grid_auto_columns": null,
            "margin": null,
            "display": null,
            "left": null
          }
        },
        "d44ee74e06fb410dbf0c53ca5f529f0a": {
          "model_module": "@jupyter-widgets/controls",
          "model_name": "FloatProgressModel",
          "state": {
            "_view_name": "ProgressView",
            "style": "IPY_MODEL_77fb6a815ba84b46b703871d0e1ab435",
            "_dom_classes": [],
            "description": "Downloading: 100%",
            "_model_name": "FloatProgressModel",
            "bar_style": "success",
            "max": 85,
            "_view_module": "@jupyter-widgets/controls",
            "_model_module_version": "1.5.0",
            "value": 85,
            "_view_count": null,
            "_view_module_version": "1.5.0",
            "orientation": "horizontal",
            "min": 0,
            "description_tooltip": null,
            "_model_module": "@jupyter-widgets/controls",
            "layout": "IPY_MODEL_0a68b14d68374e42b15cc8f9f4187a6b"
          }
        },
        "8f82fd40a50149a684ca5fc0dca56310": {
          "model_module": "@jupyter-widgets/controls",
          "model_name": "HTMLModel",
          "state": {
            "_view_name": "HTMLView",
            "style": "IPY_MODEL_9ac45fe06b964582bec1d3b492f4cc06",
            "_dom_classes": [],
            "description": "",
            "_model_name": "HTMLModel",
            "placeholder": "​",
            "_view_module": "@jupyter-widgets/controls",
            "_model_module_version": "1.5.0",
            "value": " 85.0/85.0 [00:01&lt;00:00, 74.3B/s]",
            "_view_count": null,
            "_view_module_version": "1.5.0",
            "description_tooltip": null,
            "_model_module": "@jupyter-widgets/controls",
            "layout": "IPY_MODEL_b7bb0d10038a4b01bcb79ce1fc6b5c08"
          }
        },
        "77fb6a815ba84b46b703871d0e1ab435": {
          "model_module": "@jupyter-widgets/controls",
          "model_name": "ProgressStyleModel",
          "state": {
            "_view_name": "StyleView",
            "_model_name": "ProgressStyleModel",
            "description_width": "initial",
            "_view_module": "@jupyter-widgets/base",
            "_model_module_version": "1.5.0",
            "_view_count": null,
            "_view_module_version": "1.2.0",
            "bar_color": null,
            "_model_module": "@jupyter-widgets/controls"
          }
        },
        "0a68b14d68374e42b15cc8f9f4187a6b": {
          "model_module": "@jupyter-widgets/base",
          "model_name": "LayoutModel",
          "state": {
            "_view_name": "LayoutView",
            "grid_template_rows": null,
            "right": null,
            "justify_content": null,
            "_view_module": "@jupyter-widgets/base",
            "overflow": null,
            "_model_module_version": "1.2.0",
            "_view_count": null,
            "flex_flow": null,
            "width": null,
            "min_width": null,
            "border": null,
            "align_items": null,
            "bottom": null,
            "_model_module": "@jupyter-widgets/base",
            "top": null,
            "grid_column": null,
            "overflow_y": null,
            "overflow_x": null,
            "grid_auto_flow": null,
            "grid_area": null,
            "grid_template_columns": null,
            "flex": null,
            "_model_name": "LayoutModel",
            "justify_items": null,
            "grid_row": null,
            "max_height": null,
            "align_content": null,
            "visibility": null,
            "align_self": null,
            "height": null,
            "min_height": null,
            "padding": null,
            "grid_auto_rows": null,
            "grid_gap": null,
            "max_width": null,
            "order": null,
            "_view_module_version": "1.2.0",
            "grid_template_areas": null,
            "object_position": null,
            "object_fit": null,
            "grid_auto_columns": null,
            "margin": null,
            "display": null,
            "left": null
          }
        },
        "9ac45fe06b964582bec1d3b492f4cc06": {
          "model_module": "@jupyter-widgets/controls",
          "model_name": "DescriptionStyleModel",
          "state": {
            "_view_name": "StyleView",
            "_model_name": "DescriptionStyleModel",
            "description_width": "",
            "_view_module": "@jupyter-widgets/base",
            "_model_module_version": "1.5.0",
            "_view_count": null,
            "_view_module_version": "1.2.0",
            "_model_module": "@jupyter-widgets/controls"
          }
        },
        "b7bb0d10038a4b01bcb79ce1fc6b5c08": {
          "model_module": "@jupyter-widgets/base",
          "model_name": "LayoutModel",
          "state": {
            "_view_name": "LayoutView",
            "grid_template_rows": null,
            "right": null,
            "justify_content": null,
            "_view_module": "@jupyter-widgets/base",
            "overflow": null,
            "_model_module_version": "1.2.0",
            "_view_count": null,
            "flex_flow": null,
            "width": null,
            "min_width": null,
            "border": null,
            "align_items": null,
            "bottom": null,
            "_model_module": "@jupyter-widgets/base",
            "top": null,
            "grid_column": null,
            "overflow_y": null,
            "overflow_x": null,
            "grid_auto_flow": null,
            "grid_area": null,
            "grid_template_columns": null,
            "flex": null,
            "_model_name": "LayoutModel",
            "justify_items": null,
            "grid_row": null,
            "max_height": null,
            "align_content": null,
            "visibility": null,
            "align_self": null,
            "height": null,
            "min_height": null,
            "padding": null,
            "grid_auto_rows": null,
            "grid_gap": null,
            "max_width": null,
            "order": null,
            "_view_module_version": "1.2.0",
            "grid_template_areas": null,
            "object_position": null,
            "object_fit": null,
            "grid_auto_columns": null,
            "margin": null,
            "display": null,
            "left": null
          }
        },
        "012b2d703a114b029514ffbb51773e15": {
          "model_module": "@jupyter-widgets/controls",
          "model_name": "HBoxModel",
          "state": {
            "_view_name": "HBoxView",
            "_dom_classes": [],
            "_model_name": "HBoxModel",
            "_view_module": "@jupyter-widgets/controls",
            "_model_module_version": "1.5.0",
            "_view_count": null,
            "_view_module_version": "1.5.0",
            "box_style": "",
            "layout": "IPY_MODEL_495fdcbdd43c4fdb9e04a21c796489b2",
            "_model_module": "@jupyter-widgets/controls",
            "children": [
              "IPY_MODEL_eb9cab381fb3486a8aa94f8c9ad8cb8c",
              "IPY_MODEL_3a49a4a48dff4350a7887e57f9a39a21"
            ]
          }
        },
        "495fdcbdd43c4fdb9e04a21c796489b2": {
          "model_module": "@jupyter-widgets/base",
          "model_name": "LayoutModel",
          "state": {
            "_view_name": "LayoutView",
            "grid_template_rows": null,
            "right": null,
            "justify_content": null,
            "_view_module": "@jupyter-widgets/base",
            "overflow": null,
            "_model_module_version": "1.2.0",
            "_view_count": null,
            "flex_flow": null,
            "width": null,
            "min_width": null,
            "border": null,
            "align_items": null,
            "bottom": null,
            "_model_module": "@jupyter-widgets/base",
            "top": null,
            "grid_column": null,
            "overflow_y": null,
            "overflow_x": null,
            "grid_auto_flow": null,
            "grid_area": null,
            "grid_template_columns": null,
            "flex": null,
            "_model_name": "LayoutModel",
            "justify_items": null,
            "grid_row": null,
            "max_height": null,
            "align_content": null,
            "visibility": null,
            "align_self": null,
            "height": null,
            "min_height": null,
            "padding": null,
            "grid_auto_rows": null,
            "grid_gap": null,
            "max_width": null,
            "order": null,
            "_view_module_version": "1.2.0",
            "grid_template_areas": null,
            "object_position": null,
            "object_fit": null,
            "grid_auto_columns": null,
            "margin": null,
            "display": null,
            "left": null
          }
        },
        "eb9cab381fb3486a8aa94f8c9ad8cb8c": {
          "model_module": "@jupyter-widgets/controls",
          "model_name": "FloatProgressModel",
          "state": {
            "_view_name": "ProgressView",
            "style": "IPY_MODEL_b83b23da8b8c4e93a6c6cc4338632817",
            "_dom_classes": [],
            "description": "Downloading: 100%",
            "_model_name": "FloatProgressModel",
            "bar_style": "success",
            "max": 1637,
            "_view_module": "@jupyter-widgets/controls",
            "_model_module_version": "1.5.0",
            "value": 1637,
            "_view_count": null,
            "_view_module_version": "1.5.0",
            "orientation": "horizontal",
            "min": 0,
            "description_tooltip": null,
            "_model_module": "@jupyter-widgets/controls",
            "layout": "IPY_MODEL_18702c0e6ad74bd6b24d7391bcd469a1"
          }
        },
        "3a49a4a48dff4350a7887e57f9a39a21": {
          "model_module": "@jupyter-widgets/controls",
          "model_name": "HTMLModel",
          "state": {
            "_view_name": "HTMLView",
            "style": "IPY_MODEL_bbdf5e7ecbd3487285725d2392ff9274",
            "_dom_classes": [],
            "description": "",
            "_model_name": "HTMLModel",
            "placeholder": "​",
            "_view_module": "@jupyter-widgets/controls",
            "_model_module_version": "1.5.0",
            "value": " 1.64k/1.64k [00:00&lt;00:00, 3.50kB/s]",
            "_view_count": null,
            "_view_module_version": "1.5.0",
            "description_tooltip": null,
            "_model_module": "@jupyter-widgets/controls",
            "layout": "IPY_MODEL_009f906743bd4500bbf4a88097231a64"
          }
        },
        "b83b23da8b8c4e93a6c6cc4338632817": {
          "model_module": "@jupyter-widgets/controls",
          "model_name": "ProgressStyleModel",
          "state": {
            "_view_name": "StyleView",
            "_model_name": "ProgressStyleModel",
            "description_width": "initial",
            "_view_module": "@jupyter-widgets/base",
            "_model_module_version": "1.5.0",
            "_view_count": null,
            "_view_module_version": "1.2.0",
            "bar_color": null,
            "_model_module": "@jupyter-widgets/controls"
          }
        },
        "18702c0e6ad74bd6b24d7391bcd469a1": {
          "model_module": "@jupyter-widgets/base",
          "model_name": "LayoutModel",
          "state": {
            "_view_name": "LayoutView",
            "grid_template_rows": null,
            "right": null,
            "justify_content": null,
            "_view_module": "@jupyter-widgets/base",
            "overflow": null,
            "_model_module_version": "1.2.0",
            "_view_count": null,
            "flex_flow": null,
            "width": null,
            "min_width": null,
            "border": null,
            "align_items": null,
            "bottom": null,
            "_model_module": "@jupyter-widgets/base",
            "top": null,
            "grid_column": null,
            "overflow_y": null,
            "overflow_x": null,
            "grid_auto_flow": null,
            "grid_area": null,
            "grid_template_columns": null,
            "flex": null,
            "_model_name": "LayoutModel",
            "justify_items": null,
            "grid_row": null,
            "max_height": null,
            "align_content": null,
            "visibility": null,
            "align_self": null,
            "height": null,
            "min_height": null,
            "padding": null,
            "grid_auto_rows": null,
            "grid_gap": null,
            "max_width": null,
            "order": null,
            "_view_module_version": "1.2.0",
            "grid_template_areas": null,
            "object_position": null,
            "object_fit": null,
            "grid_auto_columns": null,
            "margin": null,
            "display": null,
            "left": null
          }
        },
        "bbdf5e7ecbd3487285725d2392ff9274": {
          "model_module": "@jupyter-widgets/controls",
          "model_name": "DescriptionStyleModel",
          "state": {
            "_view_name": "StyleView",
            "_model_name": "DescriptionStyleModel",
            "description_width": "",
            "_view_module": "@jupyter-widgets/base",
            "_model_module_version": "1.5.0",
            "_view_count": null,
            "_view_module_version": "1.2.0",
            "_model_module": "@jupyter-widgets/controls"
          }
        },
        "009f906743bd4500bbf4a88097231a64": {
          "model_module": "@jupyter-widgets/base",
          "model_name": "LayoutModel",
          "state": {
            "_view_name": "LayoutView",
            "grid_template_rows": null,
            "right": null,
            "justify_content": null,
            "_view_module": "@jupyter-widgets/base",
            "overflow": null,
            "_model_module_version": "1.2.0",
            "_view_count": null,
            "flex_flow": null,
            "width": null,
            "min_width": null,
            "border": null,
            "align_items": null,
            "bottom": null,
            "_model_module": "@jupyter-widgets/base",
            "top": null,
            "grid_column": null,
            "overflow_y": null,
            "overflow_x": null,
            "grid_auto_flow": null,
            "grid_area": null,
            "grid_template_columns": null,
            "flex": null,
            "_model_name": "LayoutModel",
            "justify_items": null,
            "grid_row": null,
            "max_height": null,
            "align_content": null,
            "visibility": null,
            "align_self": null,
            "height": null,
            "min_height": null,
            "padding": null,
            "grid_auto_rows": null,
            "grid_gap": null,
            "max_width": null,
            "order": null,
            "_view_module_version": "1.2.0",
            "grid_template_areas": null,
            "object_position": null,
            "object_fit": null,
            "grid_auto_columns": null,
            "margin": null,
            "display": null,
            "left": null
          }
        },
        "d0b5d246b4b948b7896604dae49361a1": {
          "model_module": "@jupyter-widgets/controls",
          "model_name": "HBoxModel",
          "state": {
            "_view_name": "HBoxView",
            "_dom_classes": [],
            "_model_name": "HBoxModel",
            "_view_module": "@jupyter-widgets/controls",
            "_model_module_version": "1.5.0",
            "_view_count": null,
            "_view_module_version": "1.5.0",
            "box_style": "",
            "layout": "IPY_MODEL_d8ddfa26ddb14c14bb96ef40d6a2c015",
            "_model_module": "@jupyter-widgets/controls",
            "children": [
              "IPY_MODEL_84e6f7dcca5b4b06bc7128a3655e0fb4",
              "IPY_MODEL_5f3970fba1c34e208664afd053ead586"
            ]
          }
        },
        "d8ddfa26ddb14c14bb96ef40d6a2c015": {
          "model_module": "@jupyter-widgets/base",
          "model_name": "LayoutModel",
          "state": {
            "_view_name": "LayoutView",
            "grid_template_rows": null,
            "right": null,
            "justify_content": null,
            "_view_module": "@jupyter-widgets/base",
            "overflow": null,
            "_model_module_version": "1.2.0",
            "_view_count": null,
            "flex_flow": null,
            "width": null,
            "min_width": null,
            "border": null,
            "align_items": null,
            "bottom": null,
            "_model_module": "@jupyter-widgets/base",
            "top": null,
            "grid_column": null,
            "overflow_y": null,
            "overflow_x": null,
            "grid_auto_flow": null,
            "grid_area": null,
            "grid_template_columns": null,
            "flex": null,
            "_model_name": "LayoutModel",
            "justify_items": null,
            "grid_row": null,
            "max_height": null,
            "align_content": null,
            "visibility": null,
            "align_self": null,
            "height": null,
            "min_height": null,
            "padding": null,
            "grid_auto_rows": null,
            "grid_gap": null,
            "max_width": null,
            "order": null,
            "_view_module_version": "1.2.0",
            "grid_template_areas": null,
            "object_position": null,
            "object_fit": null,
            "grid_auto_columns": null,
            "margin": null,
            "display": null,
            "left": null
          }
        },
        "84e6f7dcca5b4b06bc7128a3655e0fb4": {
          "model_module": "@jupyter-widgets/controls",
          "model_name": "FloatProgressModel",
          "state": {
            "_view_name": "ProgressView",
            "style": "IPY_MODEL_1a781417ba2a4c049fc99f973aeee7e7",
            "_dom_classes": [],
            "description": "Downloading: 100%",
            "_model_name": "FloatProgressModel",
            "bar_style": "success",
            "max": 377675500,
            "_view_module": "@jupyter-widgets/controls",
            "_model_module_version": "1.5.0",
            "value": 377675500,
            "_view_count": null,
            "_view_module_version": "1.5.0",
            "orientation": "horizontal",
            "min": 0,
            "description_tooltip": null,
            "_model_module": "@jupyter-widgets/controls",
            "layout": "IPY_MODEL_c83bf631d6544313bf00dc10fe0d1f8f"
          }
        },
        "5f3970fba1c34e208664afd053ead586": {
          "model_module": "@jupyter-widgets/controls",
          "model_name": "HTMLModel",
          "state": {
            "_view_name": "HTMLView",
            "style": "IPY_MODEL_b5a286c93ac84aed99e299a3131ee9ad",
            "_dom_classes": [],
            "description": "",
            "_model_name": "HTMLModel",
            "placeholder": "​",
            "_view_module": "@jupyter-widgets/controls",
            "_model_module_version": "1.5.0",
            "value": " 378M/378M [01:52&lt;00:00, 3.35MB/s]",
            "_view_count": null,
            "_view_module_version": "1.5.0",
            "description_tooltip": null,
            "_model_module": "@jupyter-widgets/controls",
            "layout": "IPY_MODEL_c1146cfc56a9424a89eec4cd692faa2c"
          }
        },
        "1a781417ba2a4c049fc99f973aeee7e7": {
          "model_module": "@jupyter-widgets/controls",
          "model_name": "ProgressStyleModel",
          "state": {
            "_view_name": "StyleView",
            "_model_name": "ProgressStyleModel",
            "description_width": "initial",
            "_view_module": "@jupyter-widgets/base",
            "_model_module_version": "1.5.0",
            "_view_count": null,
            "_view_module_version": "1.2.0",
            "bar_color": null,
            "_model_module": "@jupyter-widgets/controls"
          }
        },
        "c83bf631d6544313bf00dc10fe0d1f8f": {
          "model_module": "@jupyter-widgets/base",
          "model_name": "LayoutModel",
          "state": {
            "_view_name": "LayoutView",
            "grid_template_rows": null,
            "right": null,
            "justify_content": null,
            "_view_module": "@jupyter-widgets/base",
            "overflow": null,
            "_model_module_version": "1.2.0",
            "_view_count": null,
            "flex_flow": null,
            "width": null,
            "min_width": null,
            "border": null,
            "align_items": null,
            "bottom": null,
            "_model_module": "@jupyter-widgets/base",
            "top": null,
            "grid_column": null,
            "overflow_y": null,
            "overflow_x": null,
            "grid_auto_flow": null,
            "grid_area": null,
            "grid_template_columns": null,
            "flex": null,
            "_model_name": "LayoutModel",
            "justify_items": null,
            "grid_row": null,
            "max_height": null,
            "align_content": null,
            "visibility": null,
            "align_self": null,
            "height": null,
            "min_height": null,
            "padding": null,
            "grid_auto_rows": null,
            "grid_gap": null,
            "max_width": null,
            "order": null,
            "_view_module_version": "1.2.0",
            "grid_template_areas": null,
            "object_position": null,
            "object_fit": null,
            "grid_auto_columns": null,
            "margin": null,
            "display": null,
            "left": null
          }
        },
        "b5a286c93ac84aed99e299a3131ee9ad": {
          "model_module": "@jupyter-widgets/controls",
          "model_name": "DescriptionStyleModel",
          "state": {
            "_view_name": "StyleView",
            "_model_name": "DescriptionStyleModel",
            "description_width": "",
            "_view_module": "@jupyter-widgets/base",
            "_model_module_version": "1.5.0",
            "_view_count": null,
            "_view_module_version": "1.2.0",
            "_model_module": "@jupyter-widgets/controls"
          }
        },
        "c1146cfc56a9424a89eec4cd692faa2c": {
          "model_module": "@jupyter-widgets/base",
          "model_name": "LayoutModel",
          "state": {
            "_view_name": "LayoutView",
            "grid_template_rows": null,
            "right": null,
            "justify_content": null,
            "_view_module": "@jupyter-widgets/base",
            "overflow": null,
            "_model_module_version": "1.2.0",
            "_view_count": null,
            "flex_flow": null,
            "width": null,
            "min_width": null,
            "border": null,
            "align_items": null,
            "bottom": null,
            "_model_module": "@jupyter-widgets/base",
            "top": null,
            "grid_column": null,
            "overflow_y": null,
            "overflow_x": null,
            "grid_auto_flow": null,
            "grid_area": null,
            "grid_template_columns": null,
            "flex": null,
            "_model_name": "LayoutModel",
            "justify_items": null,
            "grid_row": null,
            "max_height": null,
            "align_content": null,
            "visibility": null,
            "align_self": null,
            "height": null,
            "min_height": null,
            "padding": null,
            "grid_auto_rows": null,
            "grid_gap": null,
            "max_width": null,
            "order": null,
            "_view_module_version": "1.2.0",
            "grid_template_areas": null,
            "object_position": null,
            "object_fit": null,
            "grid_auto_columns": null,
            "margin": null,
            "display": null,
            "left": null
          }
        },
        "5102396c70bc4bfd952849f942b81be7": {
          "model_module": "@jupyter-widgets/controls",
          "model_name": "HBoxModel",
          "state": {
            "_view_name": "HBoxView",
            "_dom_classes": [],
            "_model_name": "HBoxModel",
            "_view_module": "@jupyter-widgets/controls",
            "_model_module_version": "1.5.0",
            "_view_count": null,
            "_view_module_version": "1.5.0",
            "box_style": "",
            "layout": "IPY_MODEL_dac1bf9fcf424bfba707e9947dfd2af0",
            "_model_module": "@jupyter-widgets/controls",
            "children": [
              "IPY_MODEL_d4a506dfd8c54d11b06b08dab9edc820",
              "IPY_MODEL_9a124539a040436caf14d4b89445b93b"
            ]
          }
        },
        "dac1bf9fcf424bfba707e9947dfd2af0": {
          "model_module": "@jupyter-widgets/base",
          "model_name": "LayoutModel",
          "state": {
            "_view_name": "LayoutView",
            "grid_template_rows": null,
            "right": null,
            "justify_content": null,
            "_view_module": "@jupyter-widgets/base",
            "overflow": null,
            "_model_module_version": "1.2.0",
            "_view_count": null,
            "flex_flow": null,
            "width": null,
            "min_width": null,
            "border": null,
            "align_items": null,
            "bottom": null,
            "_model_module": "@jupyter-widgets/base",
            "top": null,
            "grid_column": null,
            "overflow_y": null,
            "overflow_x": null,
            "grid_auto_flow": null,
            "grid_area": null,
            "grid_template_columns": null,
            "flex": null,
            "_model_name": "LayoutModel",
            "justify_items": null,
            "grid_row": null,
            "max_height": null,
            "align_content": null,
            "visibility": null,
            "align_self": null,
            "height": null,
            "min_height": null,
            "padding": null,
            "grid_auto_rows": null,
            "grid_gap": null,
            "max_width": null,
            "order": null,
            "_view_module_version": "1.2.0",
            "grid_template_areas": null,
            "object_position": null,
            "object_fit": null,
            "grid_auto_columns": null,
            "margin": null,
            "display": null,
            "left": null
          }
        },
        "d4a506dfd8c54d11b06b08dab9edc820": {
          "model_module": "@jupyter-widgets/controls",
          "model_name": "FloatProgressModel",
          "state": {
            "_view_name": "ProgressView",
            "style": "IPY_MODEL_520d02d314654b53a3186e3988277d8c",
            "_dom_classes": [],
            "description": "100%",
            "_model_name": "FloatProgressModel",
            "bar_style": "success",
            "max": 10,
            "_view_module": "@jupyter-widgets/controls",
            "_model_module_version": "1.5.0",
            "value": 10,
            "_view_count": null,
            "_view_module_version": "1.5.0",
            "orientation": "horizontal",
            "min": 0,
            "description_tooltip": null,
            "_model_module": "@jupyter-widgets/controls",
            "layout": "IPY_MODEL_75ae161a1a3944f0ab48a4c2f1d5b617"
          }
        },
        "9a124539a040436caf14d4b89445b93b": {
          "model_module": "@jupyter-widgets/controls",
          "model_name": "HTMLModel",
          "state": {
            "_view_name": "HTMLView",
            "style": "IPY_MODEL_d401a9f46a564afeb31b33487101dc1f",
            "_dom_classes": [],
            "description": "",
            "_model_name": "HTMLModel",
            "placeholder": "​",
            "_view_module": "@jupyter-widgets/controls",
            "_model_module_version": "1.5.0",
            "value": " 10/10 [02:01&lt;00:00, 12.12s/ex]",
            "_view_count": null,
            "_view_module_version": "1.5.0",
            "description_tooltip": null,
            "_model_module": "@jupyter-widgets/controls",
            "layout": "IPY_MODEL_e1eb85209718473f95a416d45b777614"
          }
        },
        "520d02d314654b53a3186e3988277d8c": {
          "model_module": "@jupyter-widgets/controls",
          "model_name": "ProgressStyleModel",
          "state": {
            "_view_name": "StyleView",
            "_model_name": "ProgressStyleModel",
            "description_width": "initial",
            "_view_module": "@jupyter-widgets/base",
            "_model_module_version": "1.5.0",
            "_view_count": null,
            "_view_module_version": "1.2.0",
            "bar_color": null,
            "_model_module": "@jupyter-widgets/controls"
          }
        },
        "75ae161a1a3944f0ab48a4c2f1d5b617": {
          "model_module": "@jupyter-widgets/base",
          "model_name": "LayoutModel",
          "state": {
            "_view_name": "LayoutView",
            "grid_template_rows": null,
            "right": null,
            "justify_content": null,
            "_view_module": "@jupyter-widgets/base",
            "overflow": null,
            "_model_module_version": "1.2.0",
            "_view_count": null,
            "flex_flow": null,
            "width": null,
            "min_width": null,
            "border": null,
            "align_items": null,
            "bottom": null,
            "_model_module": "@jupyter-widgets/base",
            "top": null,
            "grid_column": null,
            "overflow_y": null,
            "overflow_x": null,
            "grid_auto_flow": null,
            "grid_area": null,
            "grid_template_columns": null,
            "flex": null,
            "_model_name": "LayoutModel",
            "justify_items": null,
            "grid_row": null,
            "max_height": null,
            "align_content": null,
            "visibility": null,
            "align_self": null,
            "height": null,
            "min_height": null,
            "padding": null,
            "grid_auto_rows": null,
            "grid_gap": null,
            "max_width": null,
            "order": null,
            "_view_module_version": "1.2.0",
            "grid_template_areas": null,
            "object_position": null,
            "object_fit": null,
            "grid_auto_columns": null,
            "margin": null,
            "display": null,
            "left": null
          }
        },
        "d401a9f46a564afeb31b33487101dc1f": {
          "model_module": "@jupyter-widgets/controls",
          "model_name": "DescriptionStyleModel",
          "state": {
            "_view_name": "StyleView",
            "_model_name": "DescriptionStyleModel",
            "description_width": "",
            "_view_module": "@jupyter-widgets/base",
            "_model_module_version": "1.5.0",
            "_view_count": null,
            "_view_module_version": "1.2.0",
            "_model_module": "@jupyter-widgets/controls"
          }
        },
        "e1eb85209718473f95a416d45b777614": {
          "model_module": "@jupyter-widgets/base",
          "model_name": "LayoutModel",
          "state": {
            "_view_name": "LayoutView",
            "grid_template_rows": null,
            "right": null,
            "justify_content": null,
            "_view_module": "@jupyter-widgets/base",
            "overflow": null,
            "_model_module_version": "1.2.0",
            "_view_count": null,
            "flex_flow": null,
            "width": null,
            "min_width": null,
            "border": null,
            "align_items": null,
            "bottom": null,
            "_model_module": "@jupyter-widgets/base",
            "top": null,
            "grid_column": null,
            "overflow_y": null,
            "overflow_x": null,
            "grid_auto_flow": null,
            "grid_area": null,
            "grid_template_columns": null,
            "flex": null,
            "_model_name": "LayoutModel",
            "justify_items": null,
            "grid_row": null,
            "max_height": null,
            "align_content": null,
            "visibility": null,
            "align_self": null,
            "height": null,
            "min_height": null,
            "padding": null,
            "grid_auto_rows": null,
            "grid_gap": null,
            "max_width": null,
            "order": null,
            "_view_module_version": "1.2.0",
            "grid_template_areas": null,
            "object_position": null,
            "object_fit": null,
            "grid_auto_columns": null,
            "margin": null,
            "display": null,
            "left": null
          }
        }
      }
    }
  },
  "cells": [
    {
      "cell_type": "markdown",
      "metadata": {
        "id": "suytoooJyynI"
      },
      "source": [
        "# Automatic Speech Recognition: Finetune Wav2Vec2 for English ASR"
      ]
    },
    {
      "cell_type": "markdown",
      "metadata": {
        "id": "4N8A4D60y0PG"
      },
      "source": [
        "**Install Dependencies**\n",
        "\n",
        "Install both datasets and transformers.\n",
        "We need the [soundfile](https://pypi.org/project/SoundFile/) package which is based on libsndfile, CFFI and NumPy to load audio files and jiwer to evaluate our model using the word error rate [WER](https://pypi.org/project/jiwer/) metric."
      ]
    },
    {
      "cell_type": "code",
      "metadata": {
        "id": "mcNlLYPF6XkC"
      },
      "source": [
        "!pip install datasets==1.5.0\n",
        "!pip install transformers==4.4.0 \n",
        "!pip install soundfile \n",
        "!pip install jiwer "
      ],
      "execution_count": null,
      "outputs": []
    },
    {
      "cell_type": "markdown",
      "metadata": {
        "id": "KUktUl4t9Qv4"
      },
      "source": [
        "**Mount Google Drive**"
      ]
    },
    {
      "cell_type": "code",
      "metadata": {
        "colab": {
          "base_uri": "https://localhost:8080/"
        },
        "id": "_GwQyqGEFquy",
        "outputId": "4d640a6b-9d51-4b78-c8a7-d07db4eed499"
      },
      "source": [
        "from google.colab import drive\n",
        "drive.mount('/content/gdrive/')"
      ],
      "execution_count": null,
      "outputs": [
        {
          "output_type": "stream",
          "text": [
            "Mounted at /content/gdrive/\n"
          ],
          "name": "stdout"
        }
      ]
    },
    {
      "cell_type": "markdown",
      "metadata": {
        "id": "lrl6vRDkftXz"
      },
      "source": [
        "Change working directory. Make sure you have the folders created in your google drive."
      ]
    },
    {
      "cell_type": "code",
      "metadata": {
        "id": "NYQPZzTf6Qvg"
      },
      "source": [
        "cd /content/gdrive/MyDrive/IIT_Bombay/NASSCOM/"
      ],
      "execution_count": null,
      "outputs": []
    },
    {
      "cell_type": "markdown",
      "metadata": {
        "id": "5IFUnyCzpd7N"
      },
      "source": [
        "# Prepare Data, Tokenizer and Feature Extractor"
      ]
    },
    {
      "cell_type": "markdown",
      "metadata": {
        "id": "WdCm3Ytf9Y7P"
      },
      "source": [
        "1. Load dataset: TIMIT (https://huggingface.co/datasets/timit_asr)\n",
        "\n",
        "TIMIT is an automatic speech recognition dataset. It is one of the first benchmark dataset for Deep Learning based ASR. See here for leaderboard on TIMIT dataset (https://paperswithcode.com/sota/speech-recognition-on-timit)\n",
        "\n",
        "For demonstration purposes, we use small TIMIT dataset that contains just 5h of training data.\n",
        "\n",
        "\n",
        "\n",
        "\n"
      ]
    },
    {
      "cell_type": "code",
      "metadata": {
        "id": "UU9OOUWy6dUZ",
        "colab": {
          "base_uri": "https://localhost:8080/",
          "height": 388,
          "referenced_widgets": [
            "41370d95872a48509567fdcc6067baea",
            "fbb1a0fc534a47a1b0178fd40bddfad0",
            "edf627120d0943cda4b75e7d4e930bee",
            "fbe2301bd6974c8a9638b5bbfd7eb377",
            "85c8bb1c4eed4eac90587b5557de465d",
            "a4b8bf5e5a064387828d115cdf3eb3c8",
            "12a22a8a0c2c400393fc4aca12fd1e4d",
            "2420a21436384eeb8573161689f9a37a",
            "c76845dc842f41cf93628f1b131c44fb",
            "d58640f997464695bdef6ef3e22236d7",
            "39f2a47321524e3980dbe8c44f134a33",
            "9c16c6974f3548fc894532b955d6c07c",
            "cd9c7f2d158f4ef4b22a0fc9970be7ad",
            "30ec53ac862f490faa4d23e7e42b71c4",
            "f239866abbb34ba5848f99c4bb2f82b5",
            "e3e4d880d9d142bdb9ea722be8e46508",
            "54892be2d4634cc0b578a4e2871b63e9",
            "87742a006a8747869d3fb08e44317d72",
            "313c369e6e404c1aa95c4455624e3f9a",
            "43297c4d61c34780ba20e2375b694980",
            "f32e6cc86343415eaa8f0a81790bf33d",
            "67aed352fc934ae8a2cfa43a9ef62de1",
            "ccf091a4911447f492d5100648a04b40",
            "392a841739aa47caaa6e3c3a6f479e8a",
            "3c40a0465f9549c3b1ed383f2bbcaf4b",
            "e0a366eedf8a4075848a376a63a7ebda",
            "fe3f1f5ff886489faecf94ed78dc9dc8",
            "0a45ba8cf851468683a8200878b82137",
            "c9eb0d59f950479faf8e13913fde911d",
            "f6f6ccfa402a4779a8d897943b9a2faa",
            "ad1a997a88d14955a50d5c4930d43fa5",
            "a54f2955d32e46e1ba49531df306c839",
            "aa989d1705754afc95566f658ce512dc",
            "5d13b559ec094439a751f48666fd285e",
            "8337cd14b5f641db963741462d636c59",
            "4f59862c99684e39abd5ad5c5bc0417c",
            "1c2d243fc5c44c75aae0c5902211063f",
            "7a78b48a2bc745be913b3a105a9d5e09",
            "66a71d4a51084fb596af67d9e5913d01",
            "831d4c87116a4b1aa39f46ac3b5126c8"
          ]
        },
        "outputId": "eb80ed9a-85ad-4566-d7d4-60e8a31fdd1b"
      },
      "source": [
        "import datasets # importing datasets library\n",
        "from datasets import load_dataset, load_metric\n",
        "timit = load_dataset(\"timit_asr\")\n",
        "print(timit)"
      ],
      "execution_count": null,
      "outputs": [
        {
          "output_type": "display_data",
          "data": {
            "application/vnd.jupyter.widget-view+json": {
              "model_id": "41370d95872a48509567fdcc6067baea",
              "version_minor": 0,
              "version_major": 2
            },
            "text/plain": [
              "HBox(children=(FloatProgress(value=0.0, description='Downloading', max=2349.0, style=ProgressStyle(description…"
            ]
          },
          "metadata": {
            "tags": []
          }
        },
        {
          "output_type": "stream",
          "text": [
            "\n"
          ],
          "name": "stdout"
        },
        {
          "output_type": "display_data",
          "data": {
            "application/vnd.jupyter.widget-view+json": {
              "model_id": "c76845dc842f41cf93628f1b131c44fb",
              "version_minor": 0,
              "version_major": 2
            },
            "text/plain": [
              "HBox(children=(FloatProgress(value=0.0, description='Downloading', max=1004.0, style=ProgressStyle(description…"
            ]
          },
          "metadata": {
            "tags": []
          }
        },
        {
          "output_type": "stream",
          "text": [
            "\n",
            "Downloading and preparing dataset timit_asr/clean (download: 828.75 MiB, generated: 7.90 MiB, post-processed: Unknown size, total: 836.65 MiB) to /root/.cache/huggingface/datasets/timit_asr/clean/2.0.1/e7245f262bb418c1a5c67d67e00297322b1ad19eb65223676b790aa8003449e4...\n"
          ],
          "name": "stdout"
        },
        {
          "output_type": "display_data",
          "data": {
            "application/vnd.jupyter.widget-view+json": {
              "model_id": "54892be2d4634cc0b578a4e2871b63e9",
              "version_minor": 0,
              "version_major": 2
            },
            "text/plain": [
              "HBox(children=(FloatProgress(value=0.0, description='Downloading', max=869007403.0, style=ProgressStyle(descri…"
            ]
          },
          "metadata": {
            "tags": []
          }
        },
        {
          "output_type": "stream",
          "text": [
            "\n"
          ],
          "name": "stdout"
        },
        {
          "output_type": "display_data",
          "data": {
            "application/vnd.jupyter.widget-view+json": {
              "model_id": "3c40a0465f9549c3b1ed383f2bbcaf4b",
              "version_minor": 0,
              "version_major": 2
            },
            "text/plain": [
              "HBox(children=(FloatProgress(value=1.0, bar_style='info', max=1.0), HTML(value='')))"
            ]
          },
          "metadata": {
            "tags": []
          }
        },
        {
          "output_type": "stream",
          "text": [
            "\r"
          ],
          "name": "stdout"
        },
        {
          "output_type": "display_data",
          "data": {
            "application/vnd.jupyter.widget-view+json": {
              "model_id": "aa989d1705754afc95566f658ce512dc",
              "version_minor": 0,
              "version_major": 2
            },
            "text/plain": [
              "HBox(children=(FloatProgress(value=1.0, bar_style='info', max=1.0), HTML(value='')))"
            ]
          },
          "metadata": {
            "tags": []
          }
        },
        {
          "output_type": "stream",
          "text": [
            "\rDataset timit_asr downloaded and prepared to /root/.cache/huggingface/datasets/timit_asr/clean/2.0.1/e7245f262bb418c1a5c67d67e00297322b1ad19eb65223676b790aa8003449e4. Subsequent calls will reuse this data.\n",
            "DatasetDict({\n",
            "    train: Dataset({\n",
            "        features: ['file', 'text', 'phonetic_detail', 'word_detail', 'dialect_region', 'sentence_type', 'speaker_id', 'id'],\n",
            "        num_rows: 4620\n",
            "    })\n",
            "    test: Dataset({\n",
            "        features: ['file', 'text', 'phonetic_detail', 'word_detail', 'dialect_region', 'sentence_type', 'speaker_id', 'id'],\n",
            "        num_rows: 1680\n",
            "    })\n",
            "})\n"
          ],
          "name": "stdout"
        }
      ]
    },
    {
      "cell_type": "markdown",
      "metadata": {
        "id": "N2Bzcsu8974P"
      },
      "source": [
        "2. Create a small dataset: For demonstration"
      ]
    },
    {
      "cell_type": "code",
      "metadata": {
        "id": "igDAzCV7Ra3Z",
        "colab": {
          "base_uri": "https://localhost:8080/"
        },
        "outputId": "d69f7cd8-85bb-435c-ecba-439640b024c9"
      },
      "source": [
        "timit_small = datasets.DatasetDict() \n",
        "# Take samples from index 10 to 19 from the train and test splits. \n",
        "timit_small['train'] = load_dataset(\"timit_asr\", split='train[10:20]')\n",
        "timit_small['test'] = load_dataset(\"timit_asr\", split='test[10:20]')"
      ],
      "execution_count": null,
      "outputs": [
        {
          "output_type": "stream",
          "text": [
            "Reusing dataset timit_asr (/root/.cache/huggingface/datasets/timit_asr/clean/2.0.1/e7245f262bb418c1a5c67d67e00297322b1ad19eb65223676b790aa8003449e4)\n",
            "Reusing dataset timit_asr (/root/.cache/huggingface/datasets/timit_asr/clean/2.0.1/e7245f262bb418c1a5c67d67e00297322b1ad19eb65223676b790aa8003449e4)\n"
          ],
          "name": "stderr"
        }
      ]
    },
    {
      "cell_type": "markdown",
      "metadata": {
        "id": "D8fonbLJ-FzW"
      },
      "source": [
        "3. Remove unnecessary columns\n",
        "\n",
        "    We only need wav file and target text."
      ]
    },
    {
      "cell_type": "code",
      "metadata": {
        "id": "YHgJYcgYKH4a"
      },
      "source": [
        "timit_small = timit_small.remove_columns([\"phonetic_detail\", \"word_detail\", \"dialect_region\", \"id\", \"sentence_type\", \"speaker_id\"])"
      ],
      "execution_count": null,
      "outputs": []
    },
    {
      "cell_type": "code",
      "metadata": {
        "id": "MCXCrtBj-eHX",
        "colab": {
          "base_uri": "https://localhost:8080/"
        },
        "outputId": "482548fa-24dc-4e73-e762-7fe70aef0106"
      },
      "source": [
        "print(timit_small['test'][0]['file'])\n",
        "print(timit_small['test'][0]['text'])"
      ],
      "execution_count": null,
      "outputs": [
        {
          "output_type": "stream",
          "text": [
            "/root/.cache/huggingface/datasets/downloads/extracted/404950a46da14eac65eb4e2a8317b1372fb3971d980d91d5d5b221275b1fd7e0/data/TEST/DR4/MTLS0/SI2000.WAV\n",
            "We can get it if we dig, he said patiently.\n"
          ],
          "name": "stdout"
        }
      ]
    },
    {
      "cell_type": "markdown",
      "metadata": {
        "id": "_jQUWXu3-tOg"
      },
      "source": [
        "**Data Preparation**\n",
        "4. Remove special characters\n",
        "    \n",
        "    In ASR, generally all punctuations except apostrophe and other special characters are removed for training."
      ]
    },
    {
      "cell_type": "code",
      "metadata": {
        "id": "4mnpWjFfONur",
        "colab": {
          "base_uri": "https://localhost:8080/",
          "height": 115,
          "referenced_widgets": [
            "df9f1d3757db4a24b2aeb026c364907e",
            "7ae97d18eddb44cd9c3d3546861c12b0",
            "6c8e71ea3f3047859491a66496544825",
            "9ea56ad122c0461cbe88eb6b44ea0f97",
            "b8b0ace5299c40b78b519e86ddd57341",
            "1729f504eef34e4e968be40fc768eafc",
            "9e4a70597ec74b24aae96091ba750653",
            "a183987b53c944f09ccd26c0ff2c5717",
            "168aad739a8748aca278e214e5f16b8a",
            "e862d0f4bff24ca68107ae82c69a264b",
            "ef464d7c603c4acfa191ce143d1b2610",
            "22b137b616764b1c958789590b8c6756",
            "c8ef9b4b2087499b88b2ff4047063ba0",
            "16d64f6669c743b2a12d8a9cfd7524ff",
            "4ec1eabbf8d04caabe6affb80a25fba3",
            "4759a3eb72344e42a43274705c79488c"
          ]
        },
        "outputId": "5e33430a-5ff1-4dd3-e1ab-bed0065fc3cd"
      },
      "source": [
        "import re\n",
        "chars_to_ignore_regex = '[\\,\\?\\.\\!\\-\\;\\:\\\"]'\n",
        "\n",
        "def remove_special_characters(batch):\n",
        "    batch[\"text\"] = re.sub(chars_to_ignore_regex, '', batch[\"text\"]).lower()\n",
        "    return batch\n",
        "\n",
        "timit_small = timit_small.map(remove_special_characters)"
      ],
      "execution_count": null,
      "outputs": [
        {
          "output_type": "display_data",
          "data": {
            "application/vnd.jupyter.widget-view+json": {
              "model_id": "df9f1d3757db4a24b2aeb026c364907e",
              "version_minor": 0,
              "version_major": 2
            },
            "text/plain": [
              "HBox(children=(FloatProgress(value=0.0, max=10.0), HTML(value='')))"
            ]
          },
          "metadata": {
            "tags": []
          }
        },
        {
          "output_type": "stream",
          "text": [
            "\n"
          ],
          "name": "stdout"
        },
        {
          "output_type": "display_data",
          "data": {
            "application/vnd.jupyter.widget-view+json": {
              "model_id": "168aad739a8748aca278e214e5f16b8a",
              "version_minor": 0,
              "version_major": 2
            },
            "text/plain": [
              "HBox(children=(FloatProgress(value=0.0, max=10.0), HTML(value='')))"
            ]
          },
          "metadata": {
            "tags": []
          }
        },
        {
          "output_type": "stream",
          "text": [
            "\n"
          ],
          "name": "stdout"
        }
      ]
    },
    {
      "cell_type": "markdown",
      "metadata": {
        "id": "5VygzYdZ-5hy"
      },
      "source": [
        "**Data Preparation**\n",
        "5. Create vocabulary"
      ]
    },
    {
      "cell_type": "code",
      "metadata": {
        "id": "YSwkDKlNOgY5",
        "colab": {
          "base_uri": "https://localhost:8080/",
          "height": 285,
          "referenced_widgets": [
            "fd9fe7baf7464f9fa726a9bbdcbb7964",
            "74b36ecdf23b4d619fd3d78e91c97aee",
            "84cf08c2545943849d1b8ac617b12d8a",
            "f9133c847a164dcebfe01c12dee5e472",
            "f7243bfafe3c45c5b25383c362370e61",
            "a996f0aeabed4df68b94f04b0f124b53",
            "fb1a6dfe1c3e423f8e624c961c882b5e",
            "5169466ccd0d42bd8f5f210e9e9649f3",
            "b07d1b39f6c84d978b6c46f34421d61f",
            "2bbfaf1cfe264ff592d305302e489a38",
            "17e6399cd5c348818c8431f7079f840a",
            "2e8b563655234ac098ecb1da34e583dc",
            "23ef76176c024d04a883cf882ec6d965",
            "d4b2bc674b50454a87e5de4f157d5303",
            "39e5ef34f5514d70847a0f4b62e9beef",
            "98d8101d04b5489b906808251bdec44f"
          ]
        },
        "outputId": "410e9414-7ad8-47e5-f847-57ac44e3f46b"
      },
      "source": [
        "def extract_all_chars(batch):\n",
        "  all_text = \" \".join(batch[\"text\"])\n",
        "  vocab = list(set(all_text))\n",
        "  return {\"vocab\": [vocab], \"all_text\": [all_text]}\n",
        "\n",
        "vocabs = timit_small.map(extract_all_chars, batched=True, batch_size=-1, keep_in_memory=True, remove_columns=timit_small.column_names[\"train\"])\n",
        "print(vocabs)"
      ],
      "execution_count": null,
      "outputs": [
        {
          "output_type": "display_data",
          "data": {
            "application/vnd.jupyter.widget-view+json": {
              "model_id": "fd9fe7baf7464f9fa726a9bbdcbb7964",
              "version_minor": 0,
              "version_major": 2
            },
            "text/plain": [
              "HBox(children=(FloatProgress(value=0.0, max=1.0), HTML(value='')))"
            ]
          },
          "metadata": {
            "tags": []
          }
        },
        {
          "output_type": "stream",
          "text": [
            "\n"
          ],
          "name": "stdout"
        },
        {
          "output_type": "display_data",
          "data": {
            "application/vnd.jupyter.widget-view+json": {
              "model_id": "b07d1b39f6c84d978b6c46f34421d61f",
              "version_minor": 0,
              "version_major": 2
            },
            "text/plain": [
              "HBox(children=(FloatProgress(value=0.0, max=1.0), HTML(value='')))"
            ]
          },
          "metadata": {
            "tags": []
          }
        },
        {
          "output_type": "stream",
          "text": [
            "\n",
            "DatasetDict({\n",
            "    train: Dataset({\n",
            "        features: ['all_text', 'vocab'],\n",
            "        num_rows: 1\n",
            "    })\n",
            "    test: Dataset({\n",
            "        features: ['all_text', 'vocab'],\n",
            "        num_rows: 1\n",
            "    })\n",
            "})\n"
          ],
          "name": "stdout"
        }
      ]
    },
    {
      "cell_type": "code",
      "metadata": {
        "id": "_hr6DUAxQZ1a",
        "colab": {
          "base_uri": "https://localhost:8080/"
        },
        "outputId": "6e943e8a-b21f-4204-df3f-28d3babbfd95"
      },
      "source": [
        "vocab_list = list(set(vocabs[\"train\"][\"vocab\"][0]) | set(vocabs[\"test\"][\"vocab\"][0]))\n",
        "\n",
        "vocab_dict = {v: k for k, v in enumerate(vocab_list)}\n",
        "vocab_dict"
      ],
      "execution_count": null,
      "outputs": [
        {
          "output_type": "execute_result",
          "data": {
            "text/plain": [
              "{' ': 21,\n",
              " \"'\": 15,\n",
              " 'a': 14,\n",
              " 'b': 10,\n",
              " 'c': 17,\n",
              " 'd': 16,\n",
              " 'e': 19,\n",
              " 'f': 9,\n",
              " 'g': 0,\n",
              " 'h': 3,\n",
              " 'i': 18,\n",
              " 'j': 6,\n",
              " 'k': 12,\n",
              " 'l': 1,\n",
              " 'm': 13,\n",
              " 'n': 20,\n",
              " 'o': 11,\n",
              " 'p': 24,\n",
              " 'r': 4,\n",
              " 's': 25,\n",
              " 't': 7,\n",
              " 'u': 8,\n",
              " 'v': 5,\n",
              " 'w': 2,\n",
              " 'x': 23,\n",
              " 'y': 22}"
            ]
          },
          "metadata": {
            "tags": []
          },
          "execution_count": 8
        }
      ]
    },
    {
      "cell_type": "markdown",
      "metadata": {
        "id": "Ap4V4_Hpz0X9"
      },
      "source": [
        "To make it clearer that \" \" has its own token class, we give it a more visible character |. In addition, we also add an \"unknown\" token so that the model can later deal with characters not encountered in TIMIT's training set.\n",
        "\n",
        "Finally, we also add a padding token that corresponds to CTC's \"blank token\". The \"blank token\" is a core component of the CTC algorithm."
      ]
    },
    {
      "cell_type": "code",
      "metadata": {
        "id": "803AOamKQ1DB",
        "colab": {
          "base_uri": "https://localhost:8080/"
        },
        "outputId": "6ca7a119-b5c6-48c4-df7b-2a7640a98eb5"
      },
      "source": [
        "vocab_dict[\"|\"] = vocab_dict[\" \"]\n",
        "del vocab_dict[\" \"]\n",
        "\n",
        "vocab_dict[\"[UNK]\"] = len(vocab_dict)\n",
        "vocab_dict[\"[PAD]\"] = len(vocab_dict)\n",
        "print(len(vocab_dict))"
      ],
      "execution_count": null,
      "outputs": [
        {
          "output_type": "stream",
          "text": [
            "28\n"
          ],
          "name": "stdout"
        }
      ]
    },
    {
      "cell_type": "markdown",
      "metadata": {
        "id": "Wt2d29kgpuSF"
      },
      "source": [
        "Save vocabulary in json format."
      ]
    },
    {
      "cell_type": "code",
      "metadata": {
        "id": "Y5toR5D2Q5SV"
      },
      "source": [
        "import json\n",
        "with open('vocab.json', 'w') as vocab_file:\n",
        "    json.dump(vocab_dict, vocab_file)"
      ],
      "execution_count": null,
      "outputs": []
    },
    {
      "cell_type": "markdown",
      "metadata": {
        "id": "382eqLPIiZzH"
      },
      "source": [
        "**Fine-tuning Wav2Vec2 for English ASR**\n",
        "\n",
        "[Wav2Vec2](https://ai.facebook.com/blog/wav2vec-20-learning-the-structure-of-speech-from-raw-audio/) is a pretrained model for Automatic Speech Recognition (ASR) and was released in September 2020 by Alexei Baevski, Michael Auli, and Alex Conneau (FAIR).\n",
        "\n",
        "![wav2vec2.png](data:image/png;base64,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)\n",
        "\n",
        "ASR models transcribe speech to text. To preprocess speech (raw audio files), we need a feature extractor that processes the speech signal to the model's input format, e.g. a feature vector. We need a tokenizer that processes the model's output format to text.\n",
        "\n",
        "In Transformers, the Wav2Vec2 model is thus accompanied by both a tokenizer, called Wav2Vec2CTCTokenizer, and a feature extractor, called Wav2Vec2FeatureExtractor."
      ]
    },
    {
      "cell_type": "markdown",
      "metadata": {
        "id": "Cv07BBtr_Ioy"
      },
      "source": [
        "**Create Wav2Vec2CTCTokenizer**\n",
        "\n",
        "The pretrained Wav2Vec2 checkpoint maps the speech signal to a sequence of context representations as illustrated in the figure above. A fine-tuned Wav2Vec2 checkpoint needs to map this sequence of context representations to its corresponding transcription so that a linear layer has to be added on top of the transformer block (shown in yellow). \n",
        "\n",
        "The output size of this layer corresponds to the number of tokens in the vocabulary, which does not depend on Wav2Vec2's pretraining task, but only on the labeled dataset used for fine-tuning. \n"
      ]
    },
    {
      "cell_type": "code",
      "metadata": {
        "id": "nB_cwFvdQ_L3"
      },
      "source": [
        "from transformers import Wav2Vec2CTCTokenizer\n",
        "\n",
        "tokenizer = Wav2Vec2CTCTokenizer(\"./vocab.json\", unk_token=\"[UNK]\", pad_token=\"[PAD]\", word_delimiter_token=\"|\")"
      ],
      "execution_count": null,
      "outputs": []
    },
    {
      "cell_type": "markdown",
      "metadata": {
        "id": "CSDHqLBEmtWS"
      },
      "source": [
        "\n",
        "**Create Wav2Vec2 Feature Extractor**\n",
        "Wav2Vec2 was pretrained on the audio data of LibriSpeech and LibriVox which are both sampled at 16kHz. Our fine-tuning dataset, TIMIT, also has the same sampling rate.\n",
        "\n",
        "A Wav2Vec2 feature extractor object requires the following parameters to be instantiated:\n",
        "\n",
        "- `feature_size`: Speech models take a sequence of feature vectors as an input. While the length of this sequence obviously varies, the feature size should not. In the case of Wav2Vec2, the feature size is 1 because the model was trained on the raw speech signal ${}^2$.\n",
        "- `sampling_rate`: The sampling rate at which the model is trained on.\n",
        "- `padding_value`: For batched inference, shorter inputs need to be padded with a specific value.\n",
        "- `do_normalize`: Whether the input should be *zero-mean-unit-variance* normalized or not. Usually, speech models perform better when normalizing the input\n",
        "- `return_attention_mask`: Whether the model should make use of an `attention_mask` for batched inference. In general, models should **always** make use of the `attention_mask` to mask padded tokens. However, due to a very specific design choice of `Wav2Vec2`'s \"base\" checkpoint, better results are achieved when using no `attention_mask`. This is **not** recommended for other speech models. For more information, one can take a look at [this](https://github.com/pytorch/fairseq/issues/3227) issue. \n"
      ]
    },
    {
      "cell_type": "code",
      "metadata": {
        "id": "LRqi9IQKmvoN"
      },
      "source": [
        "from transformers import Wav2Vec2FeatureExtractor\n",
        "\n",
        "feature_extractor = Wav2Vec2FeatureExtractor(feature_size=1, sampling_rate=16000, padding_value=0.0, do_normalize=True, return_attention_mask=False)"
      ],
      "execution_count": null,
      "outputs": []
    },
    {
      "cell_type": "markdown",
      "metadata": {
        "id": "WvLXsHpCmhwx"
      },
      "source": [
        "**Create Wav2Vec2Processor** \n",
        "\n",
        "To make the usage of Wav2Vec2 as user-friendly as possible, the feature extractor and tokenizer are *wrapped* into a single `Wav2Vec2Processor` class so that one only needs a `model` and `processor` object."
      ]
    },
    {
      "cell_type": "code",
      "metadata": {
        "id": "MT9dDnWtmkDh"
      },
      "source": [
        "from transformers import Wav2Vec2Processor\n",
        "\n",
        "processor = Wav2Vec2Processor(feature_extractor=feature_extractor, tokenizer=tokenizer)"
      ],
      "execution_count": null,
      "outputs": []
    },
    {
      "cell_type": "markdown",
      "metadata": {
        "id": "3gJqQke7_0xQ"
      },
      "source": [
        "**Preprocess Data**\n",
        "\n",
        "The audio file is saved in the .WAV format. We will use soundfile  for loading audio files.\n",
        "\n",
        "An audio file usually stores both its values and the sampling rate with which the speech signal was digitalized. We want to store both in the dataset and write a map(...) function accordingly."
      ]
    },
    {
      "cell_type": "code",
      "metadata": {
        "id": "uVYNB-ZHRRLq"
      },
      "source": [
        "import soundfile as sf\n",
        "\n",
        "def speech_file_to_array_fn(batch):\n",
        "    speech_array, sampling_rate = sf.read(batch[\"file\"])\n",
        "    batch[\"speech\"] = speech_array\n",
        "    batch[\"sampling_rate\"] = sampling_rate\n",
        "    batch[\"target_text\"] = batch[\"text\"]\n",
        "    return batch\n",
        "\n",
        "timit_small = timit_small.map(speech_file_to_array_fn, num_proc=4)"
      ],
      "execution_count": null,
      "outputs": []
    },
    {
      "cell_type": "markdown",
      "metadata": {
        "id": "jDlzM90_nguO"
      },
      "source": [
        "**Prepare Data**\n",
        "\n",
        "We process the dataset to the format expected by the model for training.\n",
        "\n",
        "First, we check that all data samples have the same sampling rate (of 16kHz). Second, we extract the input_values from the loaded audio file. Third, we encode the transcriptions to label ids."
      ]
    },
    {
      "cell_type": "code",
      "metadata": {
        "id": "6CnfXtB_AJ1b",
        "colab": {
          "base_uri": "https://localhost:8080/",
          "height": 497,
          "referenced_widgets": [
            "778b2d39db4e498aa007554866e78f89",
            "d1bb4698b50948428ccced8eb2df5993",
            "41e2cb156e2d47c6a460d17a5da1566b",
            "fa17a68f8d864ec6af2b5bfc1404b665",
            "6e87850472f4491d868623c8a1d45840",
            "33a6e47917924c86993fa5a5b3df0039",
            "5399df4263d644698c451fc17fde636c",
            "6eccc61095bb4d54bb266ef41f84e6b2",
            "6c920dcbc39c4e8e982ffc2f78a977c8",
            "e116e22e2a0d4014aea7ac71956ec005",
            "15adfc5dca9344cebfd9369deded1e2c",
            "6498039a23184583bb770f5031fcc73d",
            "5b30d9bef160426fbb5c1c26e2784281",
            "87c76cdae7434128813f0790c324604a",
            "c4795e359d3549d6ae4e5b293fc37f4d",
            "14166e715d8d41b1b7161537e4b29454",
            "7079f1cadb244404b98ad5d5b742ffc9",
            "a096448a2caf4ff2a05b4a957c72034b",
            "2c324206a2254e909ff2711298b58378",
            "da2d6344d4af4d2e8293311a7ca9de32",
            "e8486fce8b684001853b0d0dc1c1cba6",
            "2bb1aaf1c24b40e5a04f061a15c8c820",
            "9472c8af26704537bc4f0a895c655c20",
            "54fc4587c75d4e2c97e724cb2fba7c9e",
            "3ff7eed7f97a4a41b0cef57bdae15807",
            "b3bcbd742cfe414a97d76c981f1341e0",
            "5088b2f4b9f84f0ea6eb9507a841de2c",
            "9d73a60b71f44978aaf3a0d4024004c6",
            "8709d7f684624c318b4df26e13ad644d",
            "bdcb851eed3844c0bd3677fa4ea76f0a",
            "e790b030e10643999dba400fc34cb0b6",
            "503506e6d7e34568a2987fdb1eecc71f",
            "9aad2d8e815647969422f290da1c112e",
            "45a1cadf432d47f9a6604a9c2c66ecd7",
            "79fc8a4955d347bf986e1ef550b865a5",
            "d3fc67bc370d458c9b993cbe5f4162bb",
            "0bc5aed62db642c889059651040c9f06",
            "cb97d55ababa4ab7884149792179c149",
            "e5a41b76706a471c8e01ffc70e88eb13",
            "a0a1120133f1417dbef122055c50bae3",
            "d3a2e90963e44fb582738f406e5956d5",
            "e425e350cf024d6c8ac60a4905447a9f",
            "9d7955f44bd04d38b40e481252a9f0b5",
            "3ff1c46a1b2a429693c52f02d9af4fa3",
            "d377467eda5449ffbc871f573261fd4e",
            "9f9873b105664ad9a075dcc72b42b824",
            "6afec3ae095348b5b9d00865437235c4",
            "231c7a86d23e4a67a7e6f44f699280c0",
            "047c203a12704482be7d69dab0ec1362",
            "3273192c15054f4d8bd340b0ac095551",
            "c1e52cd6fc4644d28d975773618e876b",
            "7b53de971f4b408497a8d5374c9ba6b3",
            "732d3717b29b4f1caa5900348e9882d3",
            "000a96be6d61418fa72175e153cf4a33",
            "1c2ef814549a497d9383bcc7e698d7e5",
            "714b86213e404cb694c5405d31f7133d",
            "342c6560b6524818b03ecfaef3bbdcd3",
            "04ce5ab76e8f47acb7d0235acedd6433",
            "16ec9c966bf54bedb5d0e96b7a95529f",
            "0674717f67ae4562b822c9e1553df493",
            "4bc2fd567d4748cfa0d76ca8b5f44021",
            "401df75e71e0462d9742462d2646bb3c",
            "c5ff86f0e59346febbc0abc0d59541d2",
            "bd31c6a8738147fdb0c3c8b859005228"
          ]
        },
        "outputId": "b5f03c54-8297-48b5-fb71-e5156b738ad8"
      },
      "source": [
        "def prepare_dataset(batch):\n",
        "    # check that all files have the correct sampling rate\n",
        "    assert (\n",
        "        len(set(batch[\"sampling_rate\"])) == 1\n",
        "    ), f\"Make sure all inputs have the same sampling rate of {processor.feature_extractor.sampling_rate}.\"\n",
        "\n",
        "    batch[\"input_values\"] = processor(batch[\"speech\"], sampling_rate=batch[\"sampling_rate\"][0]).input_values\n",
        "\n",
        "    with processor.as_target_processor():\n",
        "        batch[\"labels\"] = processor(batch[\"target_text\"]).input_ids\n",
        "    return batch\n",
        "\n",
        "timit_prepared = timit_small.map(prepare_dataset, remove_columns=timit_small.column_names[\"train\"], batch_size=8, num_proc=4, batched=True)"
      ],
      "execution_count": null,
      "outputs": [
        {
          "output_type": "stream",
          "text": [
            "/usr/local/lib/python3.7/dist-packages/numpy/core/_asarray.py:83: VisibleDeprecationWarning: Creating an ndarray from ragged nested sequences (which is a list-or-tuple of lists-or-tuples-or ndarrays with different lengths or shapes) is deprecated. If you meant to do this, you must specify 'dtype=object' when creating the ndarray\n",
            "  return array(a, dtype, copy=False, order=order)\n"
          ],
          "name": "stderr"
        },
        {
          "output_type": "stream",
          "text": [
            "    "
          ],
          "name": "stdout"
        },
        {
          "output_type": "display_data",
          "data": {
            "application/vnd.jupyter.widget-view+json": {
              "model_id": "778b2d39db4e498aa007554866e78f89",
              "version_minor": 0,
              "version_major": 2
            },
            "text/plain": [
              "HBox(children=(FloatProgress(value=0.0, description='#0', max=1.0, style=ProgressStyle(description_width='init…"
            ]
          },
          "metadata": {
            "tags": []
          }
        },
        {
          "output_type": "display_data",
          "data": {
            "application/vnd.jupyter.widget-view+json": {
              "model_id": "6c920dcbc39c4e8e982ffc2f78a977c8",
              "version_minor": 0,
              "version_major": 2
            },
            "text/plain": [
              "HBox(children=(FloatProgress(value=0.0, description='#1', max=1.0, style=ProgressStyle(description_width='init…"
            ]
          },
          "metadata": {
            "tags": []
          }
        },
        {
          "output_type": "display_data",
          "data": {
            "application/vnd.jupyter.widget-view+json": {
              "model_id": "7079f1cadb244404b98ad5d5b742ffc9",
              "version_minor": 0,
              "version_major": 2
            },
            "text/plain": [
              "HBox(children=(FloatProgress(value=0.0, description='#2', max=1.0, style=ProgressStyle(description_width='init…"
            ]
          },
          "metadata": {
            "tags": []
          }
        },
        {
          "output_type": "display_data",
          "data": {
            "application/vnd.jupyter.widget-view+json": {
              "model_id": "3ff7eed7f97a4a41b0cef57bdae15807",
              "version_minor": 0,
              "version_major": 2
            },
            "text/plain": [
              "HBox(children=(FloatProgress(value=0.0, description='#3', max=1.0, style=ProgressStyle(description_width='init…"
            ]
          },
          "metadata": {
            "tags": []
          }
        },
        {
          "output_type": "stream",
          "text": [
            "\n",
            "\n",
            "\n",
            "\n",
            "    "
          ],
          "name": "stdout"
        },
        {
          "output_type": "display_data",
          "data": {
            "application/vnd.jupyter.widget-view+json": {
              "model_id": "9aad2d8e815647969422f290da1c112e",
              "version_minor": 0,
              "version_major": 2
            },
            "text/plain": [
              "HBox(children=(FloatProgress(value=0.0, description='#0', max=1.0, style=ProgressStyle(description_width='init…"
            ]
          },
          "metadata": {
            "tags": []
          }
        },
        {
          "output_type": "display_data",
          "data": {
            "application/vnd.jupyter.widget-view+json": {
              "model_id": "d3a2e90963e44fb582738f406e5956d5",
              "version_minor": 0,
              "version_major": 2
            },
            "text/plain": [
              "HBox(children=(FloatProgress(value=0.0, description='#1', max=1.0, style=ProgressStyle(description_width='init…"
            ]
          },
          "metadata": {
            "tags": []
          }
        },
        {
          "output_type": "display_data",
          "data": {
            "application/vnd.jupyter.widget-view+json": {
              "model_id": "047c203a12704482be7d69dab0ec1362",
              "version_minor": 0,
              "version_major": 2
            },
            "text/plain": [
              "HBox(children=(FloatProgress(value=0.0, description='#2', max=1.0, style=ProgressStyle(description_width='init…"
            ]
          },
          "metadata": {
            "tags": []
          }
        },
        {
          "output_type": "display_data",
          "data": {
            "application/vnd.jupyter.widget-view+json": {
              "model_id": "342c6560b6524818b03ecfaef3bbdcd3",
              "version_minor": 0,
              "version_major": 2
            },
            "text/plain": [
              "HBox(children=(FloatProgress(value=0.0, description='#3', max=1.0, style=ProgressStyle(description_width='init…"
            ]
          },
          "metadata": {
            "tags": []
          }
        },
        {
          "output_type": "stream",
          "text": [
            "\n",
            "\n",
            "\n",
            "\n"
          ],
          "name": "stdout"
        }
      ]
    },
    {
      "cell_type": "markdown",
      "metadata": {
        "id": "2cczzRK7_7hZ"
      },
      "source": [
        "**Listen to sample audio in train set.**"
      ]
    },
    {
      "cell_type": "code",
      "metadata": {
        "id": "Nl7h2hK6Recr",
        "colab": {
          "base_uri": "https://localhost:8080/",
          "height": 75
        },
        "outputId": "16183722-f4eb-4a6a-dbfd-9494f9dc43a1"
      },
      "source": [
        "import IPython.display as ipd\n",
        "import numpy as np\n",
        "import random\n",
        "\n",
        "rand_int = random.randint(0, len(timit_small[\"train\"])-1)\n",
        "\n",
        "ipd.Audio(data=np.asarray(timit_small[\"train\"][rand_int][\"speech\"]), autoplay=False, rate=16000)"
      ],
      "execution_count": null,
      "outputs": [
        {
          "output_type": "execute_result",
          "data": {
            "text/html": [
              "\n",
              "                <audio controls=\"controls\" >\n",
              "                    <source src=\"data:audio/wav;base64,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\" type=\"audio/wav\" />\n",
              "                    Your browser does not support the audio element.\n",
              "                </audio>\n",
              "              "
            ],
            "text/plain": [
              "<IPython.lib.display.Audio object>"
            ]
          },
          "metadata": {
            "tags": []
          },
          "execution_count": 16
        }
      ]
    },
    {
      "cell_type": "markdown",
      "metadata": {
        "id": "1KMj9QB6o5KJ"
      },
      "source": [
        "**Check that the data is correctly prepared.**"
      ]
    },
    {
      "cell_type": "code",
      "metadata": {
        "id": "RgasMFhzRrs9",
        "colab": {
          "base_uri": "https://localhost:8080/"
        },
        "outputId": "737e982f-2ca9-4802-bde7-faca4945ec11"
      },
      "source": [
        "import numpy as np\n",
        "rand_int = random.randint(0, len(timit_small[\"train\"])-1)\n",
        "\n",
        "print(\"Target text:\", timit_small[\"train\"][rand_int][\"target_text\"])\n",
        "print(\"Input array shape:\", np.asarray(timit_small[\"train\"][rand_int][\"speech\"]).shape)\n",
        "print(\"Sampling rate:\", timit_small[\"train\"][rand_int][\"sampling_rate\"])"
      ],
      "execution_count": null,
      "outputs": [
        {
          "output_type": "stream",
          "text": [
            "Target text: he picked up nine pairs of socks for each brother\n",
            "Input array shape: (47924,)\n",
            "Sampling rate: 16000\n"
          ],
          "name": "stdout"
        }
      ]
    },
    {
      "cell_type": "markdown",
      "metadata": {
        "id": "e2-hzZrkpJ13"
      },
      "source": [
        "# Training "
      ]
    },
    {
      "cell_type": "markdown",
      "metadata": {
        "id": "O4tsvCeYAL8o"
      },
      "source": [
        "**Define a Data Collator and Load metric**\n",
        "The data is processed so that we are ready to start setting up the training pipeline. We will make use of [Trainer](https://huggingface.co/transformers/master/main_classes/trainer.html?highlight=trainer) for which we essentially need to do the following:\n",
        "\n",
        "- Define a data collator. In contrast to most NLP models, Wav2Vec2 has a much larger input length than output length. *E.g.*, a sample of input length 50000 has an output length of no more than 100. Given the large input sizes, it is much more efficient to pad the training batches dynamically meaning that all training samples should only be padded to the longest sample in their batch and not the overall longest sample. Therefore, fine-tuning Wav2Vec2 requires a special padding data collator, which we will define below.\n",
        "\n",
        "- Evaluation metric. During training, the model should be evaluated on the word error rate. We should define a `compute_metrics` function accordingly.\n",
        "\n",
        "- Load a pretrained checkpoint. We need to load a pretrained checkpoint and configure it correctly for training.\n",
        "\n",
        "- Define the training configuration.\n",
        "\n",
        "After having fine-tuned the model, we will correctly evaluate it on the test data and verify that it has indeed learned to correctly transcribe speech."
      ]
    },
    {
      "cell_type": "markdown",
      "metadata": {
        "id": "Um8VYkO-urdl"
      },
      "source": [
        "### Set-up Trainer\n",
        "\n",
        "Let's start by defining the data collator. The code for the data collator was copied from [this example](https://github.com/huggingface/transformers/blob/9a06b6b11bdfc42eea08fa91d0c737d1863c99e3/examples/research_projects/wav2vec2/run_asr.py#L81).\n",
        "\n",
        "This data collator treats the `input_values` and `labels` differently and thus applies separate padding functions on them (again making use of Wav2Vec2's context manager). This is necessary because in speech input and output are of different modalities meaning that they should not be treated by the same padding function.\n",
        "Analogous to common data collators, the padding tokens in the labels are replaced with `-100` so that those tokens are **not** taken into account when computing the loss."
      ]
    },
    {
      "cell_type": "code",
      "metadata": {
        "id": "lyPRxrkpSL4P"
      },
      "source": [
        "import torch\n",
        "\n",
        "from dataclasses import dataclass, field\n",
        "from typing import Any, Dict, List, Optional, Union\n",
        "\n",
        "@dataclass\n",
        "class DataCollatorCTCWithPadding:\n",
        "\n",
        "    processor: Wav2Vec2Processor\n",
        "    padding: Union[bool, str] = True\n",
        "    max_length: Optional[int] = None\n",
        "    max_length_labels: Optional[int] = None\n",
        "    pad_to_multiple_of: Optional[int] = None\n",
        "    pad_to_multiple_of_labels: Optional[int] = None\n",
        "\n",
        "    def __call__(self, features: List[Dict[str, Union[List[int], torch.Tensor]]]) -> Dict[str, torch.Tensor]:\n",
        "        # split inputs and labels since they have to be of different lenghts and need\n",
        "        # different padding methods\n",
        "        input_features = [{\"input_values\": feature[\"input_values\"]} for feature in features]\n",
        "        label_features = [{\"input_ids\": feature[\"labels\"]} for feature in features]\n",
        "\n",
        "        batch = self.processor.pad(\n",
        "            input_features,\n",
        "            padding=self.padding,\n",
        "            max_length=self.max_length,\n",
        "            pad_to_multiple_of=self.pad_to_multiple_of,\n",
        "            return_tensors=\"pt\",\n",
        "        )\n",
        "        with self.processor.as_target_processor():\n",
        "            labels_batch = self.processor.pad(\n",
        "                label_features,\n",
        "                padding=self.padding,\n",
        "                max_length=self.max_length_labels,\n",
        "                pad_to_multiple_of=self.pad_to_multiple_of_labels,\n",
        "                return_tensors=\"pt\",\n",
        "            )\n",
        "\n",
        "        # replace padding with -100 to ignore loss correctly\n",
        "        labels = labels_batch[\"input_ids\"].masked_fill(labels_batch.attention_mask.ne(1), -100)\n",
        "\n",
        "        batch[\"labels\"] = labels\n",
        "\n",
        "        return batch\n",
        "\n",
        "data_collator = DataCollatorCTCWithPadding(processor=processor, padding=True)"
      ],
      "execution_count": null,
      "outputs": []
    },
    {
      "cell_type": "markdown",
      "metadata": {
        "id": "EbH95Mmyu7DF"
      },
      "source": [
        "Next, the evaluation metric is defined. As mentioned earlier, the \n",
        "predominant metric in ASR is the word error rate (WER), hence we will use it in this notebook as well."
      ]
    },
    {
      "cell_type": "code",
      "metadata": {
        "id": "VIxQFIFCu8wR",
        "colab": {
          "base_uri": "https://localhost:8080/",
          "height": 66,
          "referenced_widgets": [
            "83662abcde40429f805749158995193c",
            "f9ea5e14f8d6472a8fe7f3102d75ec2a",
            "9a3fb07257a54063883c5e46f0f7bfb9",
            "e2dd6d379af343699be0348f99af0d6b",
            "cf6f33a3038d4befb91a7df7a3b23343",
            "2028e69bbf97421ca6853d96dbf018a9",
            "4bdbc543d1c64d17bfdb2a043c23d745",
            "f4afe0ef7d9c43e084ed6cd85b04a3c4"
          ]
        },
        "outputId": "fa01f4b0-3e4a-4045-c164-9599f095eada"
      },
      "source": [
        "wer_metric = load_metric(\"wer\")        "
      ],
      "execution_count": null,
      "outputs": [
        {
          "output_type": "display_data",
          "data": {
            "application/vnd.jupyter.widget-view+json": {
              "model_id": "83662abcde40429f805749158995193c",
              "version_minor": 0,
              "version_major": 2
            },
            "text/plain": [
              "HBox(children=(FloatProgress(value=0.0, description='Downloading', max=1764.0, style=ProgressStyle(description…"
            ]
          },
          "metadata": {
            "tags": []
          }
        },
        {
          "output_type": "stream",
          "text": [
            "\n"
          ],
          "name": "stdout"
        }
      ]
    },
    {
      "cell_type": "markdown",
      "metadata": {
        "id": "-g31_gtSAenG"
      },
      "source": [
        "**Compute WER**"
      ]
    },
    {
      "cell_type": "code",
      "metadata": {
        "id": "4WEC3hv_R-bl"
      },
      "source": [
        "def compute_metrics(pred):\n",
        "    pred_logits = pred.predictions\n",
        "    pred_ids = np.argmax(pred_logits, axis=-1)\n",
        "\n",
        "    pred.label_ids[pred.label_ids == -100] = processor.tokenizer.pad_token_id\n",
        "\n",
        "    pred_str = processor.batch_decode(pred_ids)\n",
        "    # we do not want to group tokens when computing the metrics\n",
        "    label_str = processor.batch_decode(pred.label_ids, group_tokens=False)\n",
        "\n",
        "    wer = wer_metric.compute(predictions=pred_str, references=label_str)\n",
        "\n",
        "    return {\"wer\": wer}"
      ],
      "execution_count": null,
      "outputs": []
    },
    {
      "cell_type": "markdown",
      "metadata": {
        "id": "v3L5la80AkJ4"
      },
      "source": [
        "**Load a pretrained wav2vec2 checkpoint**\n",
        "\n",
        "The tokenizer's pad_token_id must be to define the model's pad_token_id or in the case of Wav2Vec2ForCTC also CTC's blank token."
      ]
    },
    {
      "cell_type": "code",
      "metadata": {
        "id": "nBPBlml0Sb6I",
        "colab": {
          "base_uri": "https://localhost:8080/",
          "height": 169,
          "referenced_widgets": [
            "4ea9ecd61bf44a2299090a84689b13b5",
            "45f9e394ea1c482f91455a997d0d7e6c",
            "b2efd32e42bc4830956519265256472d",
            "232db1cd83f5417e84cdeed2e2ad4d12",
            "407b014354d74cfd8df7e03a85a3688f",
            "6a919acd786c4bd3ac43933563de11e4",
            "5601329906f8431eb8b5b6bb97957b53",
            "e31530e81d744f6694656d50bcdcdd20",
            "805b846871284f01b4ea93acde708eed",
            "3c54a57395914a57b3fb8d045f48a8ae",
            "1a1b6dae817749ddaa93450cd50de820",
            "7ec3a833579340e4be794e0445f731ee",
            "e41fe6a59902435792633a1987fa968b",
            "3fc319abd7864d2785c6d46d839f5c90",
            "2ccfe04f3174439695dce8311341df74",
            "03fd5517d0c048d3b7e5a8e16368ee34"
          ]
        },
        "outputId": "2938c51c-9369-4ef5-f4f2-a942558a6d05"
      },
      "source": [
        "from transformers import Wav2Vec2ForCTC\n",
        "\n",
        "model = Wav2Vec2ForCTC.from_pretrained(\n",
        "    \"facebook/wav2vec2-base-960h\", \n",
        "    gradient_checkpointing=True, \n",
        "    ctc_loss_reduction=\"mean\", \n",
        "    pad_token_id=processor.tokenizer.pad_token_id,\n",
        ")"
      ],
      "execution_count": null,
      "outputs": [
        {
          "output_type": "display_data",
          "data": {
            "application/vnd.jupyter.widget-view+json": {
              "model_id": "4ea9ecd61bf44a2299090a84689b13b5",
              "version_minor": 0,
              "version_major": 2
            },
            "text/plain": [
              "HBox(children=(FloatProgress(value=0.0, description='Downloading', max=843.0, style=ProgressStyle(description_…"
            ]
          },
          "metadata": {
            "tags": []
          }
        },
        {
          "output_type": "stream",
          "text": [
            "\n"
          ],
          "name": "stdout"
        },
        {
          "output_type": "display_data",
          "data": {
            "application/vnd.jupyter.widget-view+json": {
              "model_id": "805b846871284f01b4ea93acde708eed",
              "version_minor": 0,
              "version_major": 2
            },
            "text/plain": [
              "HBox(children=(FloatProgress(value=0.0, description='Downloading', max=377667514.0, style=ProgressStyle(descri…"
            ]
          },
          "metadata": {
            "tags": []
          }
        },
        {
          "output_type": "stream",
          "text": [
            "\n"
          ],
          "name": "stdout"
        },
        {
          "output_type": "stream",
          "text": [
            "Some weights of Wav2Vec2ForCTC were not initialized from the model checkpoint at facebook/wav2vec2-base-960h and are newly initialized: ['wav2vec2.masked_spec_embed']\n",
            "You should probably TRAIN this model on a down-stream task to be able to use it for predictions and inference.\n"
          ],
          "name": "stderr"
        }
      ]
    },
    {
      "cell_type": "markdown",
      "metadata": {
        "id": "jRQjyH-BAvvs"
      },
      "source": [
        "**Freeze The Feature Extractor**\n",
        "\n",
        "The first component of Wav2Vec2 consists of a stack of CNN layers that are used to extract acoustically meaningful - but contextually independent - features from the raw speech signal. This part of the model has already been sufficiently trained during pretraining and as stated in the [paper](https://arxiv.org/abs/2006.11477) does not need to be fine-tuned anymore. \n",
        "Thus, we can set the `requires_grad` to `False` for all parameters of the *feature extraction* part."
      ]
    },
    {
      "cell_type": "code",
      "metadata": {
        "id": "3IUJUTWoSd_e"
      },
      "source": [
        "model.freeze_feature_extractor()"
      ],
      "execution_count": null,
      "outputs": []
    },
    {
      "cell_type": "markdown",
      "metadata": {
        "id": "81VdI65lA1fs"
      },
      "source": [
        "**Set Training Arguments (Hyperparameters)**\n",
        "\n",
        "For faster training and demonstration, we set save_steps=15 and eval_steps=15. \n",
        "When using entire dataset, please set both parameters to 500. \n",
        "\n",
        "For explanations on parameters, one can take a look at the [docs](https://huggingface.co/transformers/master/main_classes/trainer.html?highlight=trainer#trainingarguments)."
      ]
    },
    {
      "cell_type": "code",
      "metadata": {
        "id": "RdqDIw2_SgMT"
      },
      "source": [
        "from transformers import TrainingArguments\n",
        "\n",
        "training_args = TrainingArguments(\n",
        "  output_dir=\"/content/gdrive/MyDrive/IIT_Bombay/NASSCOM/wav2vec2-base-timit-demo\",\n",
        "  group_by_length=True,\n",
        "  per_device_train_batch_size=32,\n",
        "  evaluation_strategy=\"steps\",\n",
        "  num_train_epochs=30,\n",
        "  fp16=False,\n",
        "  save_steps=15, #change to 500 for entire dataset\n",
        "  eval_steps=15, \n",
        "  logging_steps=15, #change to 500\n",
        "  learning_rate=1e-4,\n",
        "  weight_decay=0.005,\n",
        "  warmup_steps=1000,\n",
        "  save_total_limit=2,\n",
        ")"
      ],
      "execution_count": null,
      "outputs": []
    },
    {
      "cell_type": "markdown",
      "metadata": {
        "id": "IBRXPos1BG6f"
      },
      "source": [
        "**Create a Trainer Instance**\n",
        "\n",
        "Now, all instances can be passed to Trainer and we are ready to start training!"
      ]
    },
    {
      "cell_type": "code",
      "metadata": {
        "id": "iDqZ0XrpSh37"
      },
      "source": [
        "from transformers import Trainer\n",
        "\n",
        "trainer = Trainer(\n",
        "    model=model,\n",
        "    data_collator=data_collator,\n",
        "    args=training_args,\n",
        "    compute_metrics=compute_metrics,\n",
        "    train_dataset=timit_prepared[\"train\"],\n",
        "    eval_dataset=timit_prepared[\"test\"],\n",
        "    tokenizer=processor.feature_extractor,\n",
        ")"
      ],
      "execution_count": null,
      "outputs": []
    },
    {
      "cell_type": "markdown",
      "metadata": {
        "id": "CgJZkJYiBKqy"
      },
      "source": [
        "**Start Training**"
      ]
    },
    {
      "cell_type": "code",
      "metadata": {
        "id": "8ihSMuGMSlT8",
        "colab": {
          "base_uri": "https://localhost:8080/",
          "height": 174
        },
        "outputId": "58c0ee98-7dd9-4733-d2d0-96f714c425d2"
      },
      "source": [
        "trainer.train()"
      ],
      "execution_count": null,
      "outputs": [
        {
          "output_type": "display_data",
          "data": {
            "text/html": [
              "\n",
              "    <div>\n",
              "        <style>\n",
              "            /* Turns off some styling */\n",
              "            progress {\n",
              "                /* gets rid of default border in Firefox and Opera. */\n",
              "                border: none;\n",
              "                /* Needs to be in here for Safari polyfill so background images work as expected. */\n",
              "                background-size: auto;\n",
              "            }\n",
              "        </style>\n",
              "      \n",
              "      <progress value='30' max='30' style='width:300px; height:20px; vertical-align: middle;'></progress>\n",
              "      [30/30 00:39, Epoch 30/30]\n",
              "    </div>\n",
              "    <table border=\"1\" class=\"dataframe\">\n",
              "  <thead>\n",
              "    <tr style=\"text-align: left;\">\n",
              "      <th>Step</th>\n",
              "      <th>Training Loss</th>\n",
              "      <th>Validation Loss</th>\n",
              "      <th>Wer</th>\n",
              "      <th>Runtime</th>\n",
              "      <th>Samples Per Second</th>\n",
              "    </tr>\n",
              "  </thead>\n",
              "  <tbody>\n",
              "    <tr>\n",
              "      <td>15</td>\n",
              "      <td>28.279000</td>\n",
              "      <td>42.506969</td>\n",
              "      <td>1.000000</td>\n",
              "      <td>0.561700</td>\n",
              "      <td>17.804000</td>\n",
              "    </tr>\n",
              "    <tr>\n",
              "      <td>30</td>\n",
              "      <td>25.840800</td>\n",
              "      <td>36.477699</td>\n",
              "      <td>1.000000</td>\n",
              "      <td>0.570300</td>\n",
              "      <td>17.535000</td>\n",
              "    </tr>\n",
              "  </tbody>\n",
              "</table><p>"
            ],
            "text/plain": [
              "<IPython.core.display.HTML object>"
            ]
          },
          "metadata": {
            "tags": []
          }
        },
        {
          "output_type": "execute_result",
          "data": {
            "text/plain": [
              "TrainOutput(global_step=30, training_loss=27.059890747070312, metrics={'train_runtime': 40.6272, 'train_samples_per_second': 0.738, 'total_flos': 1.30493472768e+16, 'epoch': 30.0, 'init_mem_cpu_alloc_delta': 349327, 'init_mem_gpu_alloc_delta': 377847808, 'init_mem_cpu_peaked_delta': 18306, 'init_mem_gpu_peaked_delta': 0, 'train_mem_cpu_alloc_delta': 599378, 'train_mem_gpu_alloc_delta': 1114345472, 'train_mem_cpu_peaked_delta': 22460386, 'train_mem_gpu_peaked_delta': 629227520})"
            ]
          },
          "metadata": {
            "tags": []
          },
          "execution_count": 26
        }
      ]
    },
    {
      "cell_type": "markdown",
      "metadata": {
        "id": "PEPLlYpSBRA_"
      },
      "source": [
        "### Evaluate\n",
        "\n",
        "In this part, we evaluate our [patrickvonplaten/wav2vec2-base-timit-demo](https://huggingface.co/patrickvonplaten/wav2vec2-base-timit-demo) on the test set.\n",
        "\n",
        "This model is facebook/wav2vec2-base and fine-tuned on TIMIT dataset.\n",
        "\n",
        "Let's load the `processor` and `model`."
      ]
    },
    {
      "cell_type": "code",
      "metadata": {
        "id": "gZO2NuKAgfWm",
        "colab": {
          "base_uri": "https://localhost:8080/",
          "height": 348,
          "referenced_widgets": [
            "1d3b9633f3f8489bb671b7a382e37949",
            "640b15d23185443c92ac126e09f09bd4",
            "f860c7d240fd4653b9b8b0a671989775",
            "5a921e2cbd8740ed948c3caf45245bfe",
            "5f2b4d399d5e49318699f8f02d414912",
            "4aede299b8dd42149f019b1becc8cbee",
            "134452068ccf4ca4b763bc087285d6fb",
            "6758c67a564948808e86cbf73691e879",
            "187959dea49e417e9bd9b0bcee26f0b1",
            "cc901d6813f342b5a7d84ee4e8dec961",
            "5c4e6cc79ebf465e919c2eb31d7a7ac1",
            "4997621fc9f042908835213af03b4b4e",
            "0824d673b6464c4fa0254e36aa2fa2a1",
            "b85f8489bcd941f0ab7f3b61959d8b34",
            "1f75be00713244bcbf8749893e51d719",
            "49c1c4bce6174ce2b724214b3d9150fb",
            "821d045f1b41472f9a9b57924b771e3b",
            "e22eabd9bd5e4f2abb12cafa6f57726e",
            "5c5b873c70ed47b6a49ddd6cd3001887",
            "a52cb409cdf34bfaafe47e9a9468fd51",
            "666a6e5c4a2a4328b391f022e70826da",
            "fed3a1fd2d2447c685802d9459cd3e5f",
            "d7998955873945a68019aa09404de954",
            "378d47b136d04790b728c6454ea17d6b",
            "013055bbf81b4a49b21c68dc88061a29",
            "1bdc8e8189404f728b5eec4cbc497310",
            "d44ee74e06fb410dbf0c53ca5f529f0a",
            "8f82fd40a50149a684ca5fc0dca56310",
            "77fb6a815ba84b46b703871d0e1ab435",
            "0a68b14d68374e42b15cc8f9f4187a6b",
            "9ac45fe06b964582bec1d3b492f4cc06",
            "b7bb0d10038a4b01bcb79ce1fc6b5c08",
            "012b2d703a114b029514ffbb51773e15",
            "495fdcbdd43c4fdb9e04a21c796489b2",
            "eb9cab381fb3486a8aa94f8c9ad8cb8c",
            "3a49a4a48dff4350a7887e57f9a39a21",
            "b83b23da8b8c4e93a6c6cc4338632817",
            "18702c0e6ad74bd6b24d7391bcd469a1",
            "bbdf5e7ecbd3487285725d2392ff9274",
            "009f906743bd4500bbf4a88097231a64",
            "d0b5d246b4b948b7896604dae49361a1",
            "d8ddfa26ddb14c14bb96ef40d6a2c015",
            "84e6f7dcca5b4b06bc7128a3655e0fb4",
            "5f3970fba1c34e208664afd053ead586",
            "1a781417ba2a4c049fc99f973aeee7e7",
            "c83bf631d6544313bf00dc10fe0d1f8f",
            "b5a286c93ac84aed99e299a3131ee9ad",
            "c1146cfc56a9424a89eec4cd692faa2c"
          ]
        },
        "outputId": "e143dede-5017-4cf6-a9a2-87558ffbba85"
      },
      "source": [
        "processor = Wav2Vec2Processor.from_pretrained(\"patrickvonplaten/wav2vec2-base-timit-demo\")\n",
        "model = Wav2Vec2ForCTC.from_pretrained(\"patrickvonplaten/wav2vec2-base-timit-demo\")"
      ],
      "execution_count": null,
      "outputs": [
        {
          "output_type": "display_data",
          "data": {
            "application/vnd.jupyter.widget-view+json": {
              "model_id": "1d3b9633f3f8489bb671b7a382e37949",
              "version_minor": 0,
              "version_major": 2
            },
            "text/plain": [
              "HBox(children=(FloatProgress(value=0.0, description='Downloading', max=159.0, style=ProgressStyle(description_…"
            ]
          },
          "metadata": {
            "tags": []
          }
        },
        {
          "output_type": "stream",
          "text": [
            "\n"
          ],
          "name": "stdout"
        },
        {
          "output_type": "display_data",
          "data": {
            "application/vnd.jupyter.widget-view+json": {
              "model_id": "187959dea49e417e9bd9b0bcee26f0b1",
              "version_minor": 0,
              "version_major": 2
            },
            "text/plain": [
              "HBox(children=(FloatProgress(value=0.0, description='Downloading', max=268.0, style=ProgressStyle(description_…"
            ]
          },
          "metadata": {
            "tags": []
          }
        },
        {
          "output_type": "stream",
          "text": [
            "\n"
          ],
          "name": "stdout"
        },
        {
          "output_type": "display_data",
          "data": {
            "application/vnd.jupyter.widget-view+json": {
              "model_id": "821d045f1b41472f9a9b57924b771e3b",
              "version_minor": 0,
              "version_major": 2
            },
            "text/plain": [
              "HBox(children=(FloatProgress(value=0.0, description='Downloading', max=138.0, style=ProgressStyle(description_…"
            ]
          },
          "metadata": {
            "tags": []
          }
        },
        {
          "output_type": "stream",
          "text": [
            "\n"
          ],
          "name": "stdout"
        },
        {
          "output_type": "display_data",
          "data": {
            "application/vnd.jupyter.widget-view+json": {
              "model_id": "013055bbf81b4a49b21c68dc88061a29",
              "version_minor": 0,
              "version_major": 2
            },
            "text/plain": [
              "HBox(children=(FloatProgress(value=0.0, description='Downloading', max=85.0, style=ProgressStyle(description_w…"
            ]
          },
          "metadata": {
            "tags": []
          }
        },
        {
          "output_type": "stream",
          "text": [
            "\n"
          ],
          "name": "stdout"
        },
        {
          "output_type": "stream",
          "text": [
            "Special tokens have been added in the vocabulary, make sure the associated word embedding are fine-tuned or trained.\n"
          ],
          "name": "stderr"
        },
        {
          "output_type": "display_data",
          "data": {
            "application/vnd.jupyter.widget-view+json": {
              "model_id": "012b2d703a114b029514ffbb51773e15",
              "version_minor": 0,
              "version_major": 2
            },
            "text/plain": [
              "HBox(children=(FloatProgress(value=0.0, description='Downloading', max=1637.0, style=ProgressStyle(description…"
            ]
          },
          "metadata": {
            "tags": []
          }
        },
        {
          "output_type": "stream",
          "text": [
            "\n"
          ],
          "name": "stdout"
        },
        {
          "output_type": "display_data",
          "data": {
            "application/vnd.jupyter.widget-view+json": {
              "model_id": "d0b5d246b4b948b7896604dae49361a1",
              "version_minor": 0,
              "version_major": 2
            },
            "text/plain": [
              "HBox(children=(FloatProgress(value=0.0, description='Downloading', max=377675500.0, style=ProgressStyle(descri…"
            ]
          },
          "metadata": {
            "tags": []
          }
        },
        {
          "output_type": "stream",
          "text": [
            "\n"
          ],
          "name": "stdout"
        }
      ]
    },
    {
      "cell_type": "markdown",
      "metadata": {
        "id": "LlZ5AFSGtZJL"
      },
      "source": [
        "Now, we will make use of the `map(...)` function to predict the transcription of every test sample and to save the prediction in the dataset itself. We will call the resulting dictionary `\"results\"`. \n",
        "\n",
        "**Note**: we evaluate the test data set with `batch_size=1` on purpose due to this [issue](https://github.com/pytorch/fairseq/issues/3227). Since padded inputs don't yield the exact same output as non-padded inputs, a better WER can be achieved by not padding the input at all."
      ]
    },
    {
      "cell_type": "code",
      "metadata": {
        "id": "VXRfITczCBm5",
        "colab": {
          "base_uri": "https://localhost:8080/",
          "height": 66,
          "referenced_widgets": [
            "5102396c70bc4bfd952849f942b81be7",
            "dac1bf9fcf424bfba707e9947dfd2af0",
            "d4a506dfd8c54d11b06b08dab9edc820",
            "9a124539a040436caf14d4b89445b93b",
            "520d02d314654b53a3186e3988277d8c",
            "75ae161a1a3944f0ab48a4c2f1d5b617",
            "d401a9f46a564afeb31b33487101dc1f",
            "e1eb85209718473f95a416d45b777614"
          ]
        },
        "outputId": "792fef6f-d256-4a40-c956-dae5f2fe2a74"
      },
      "source": [
        "def map_to_result(batch):\n",
        "  model.to(\"cuda\")\n",
        "  input_values = processor(\n",
        "      batch[\"speech\"], \n",
        "      sampling_rate=batch[\"sampling_rate\"], \n",
        "      return_tensors=\"pt\"\n",
        "  ).input_values.to(\"cuda\")\n",
        "\n",
        "  with torch.no_grad():\n",
        "    logits = model(input_values).logits\n",
        "\n",
        "  pred_ids = torch.argmax(logits, dim=-1)\n",
        "  batch[\"pred_str\"] = processor.batch_decode(pred_ids)[0]\n",
        "\n",
        "  return batch\n",
        "\n",
        "results = timit_small[\"test\"].map(map_to_result)"
      ],
      "execution_count": null,
      "outputs": [
        {
          "output_type": "display_data",
          "data": {
            "application/vnd.jupyter.widget-view+json": {
              "model_id": "5102396c70bc4bfd952849f942b81be7",
              "version_minor": 0,
              "version_major": 2
            },
            "text/plain": [
              "HBox(children=(FloatProgress(value=0.0, max=10.0), HTML(value='')))"
            ]
          },
          "metadata": {
            "tags": []
          }
        },
        {
          "output_type": "stream",
          "text": [
            "\n"
          ],
          "name": "stdout"
        }
      ]
    },
    {
      "cell_type": "markdown",
      "metadata": {
        "id": "gTd79QjxtJ3S"
      },
      "source": [
        "Compute overall WER:"
      ]
    },
    {
      "cell_type": "code",
      "metadata": {
        "id": "40vg3ECNCFgT",
        "colab": {
          "base_uri": "https://localhost:8080/"
        },
        "outputId": "1ce984bf-1a8c-4afe-a8c8-10947e117d74"
      },
      "source": [
        "print(\"Test WER: {:.3f}\".format(wer_metric.compute(predictions=results[\"pred_str\"], references=results[\"target_text\"])))"
      ],
      "execution_count": null,
      "outputs": [
        {
          "output_type": "stream",
          "text": [
            "Test WER: 0.165\n"
          ],
          "name": "stdout"
        }
      ]
    },
    {
      "cell_type": "code",
      "metadata": {
        "id": "iudno-4ZCI6c",
        "colab": {
          "base_uri": "https://localhost:8080/"
        },
        "outputId": "fb349614-2eff-4991-dfac-48019030efb0"
      },
      "source": [
        "model.to(\"cuda\")\n",
        "input_values = processor(timit_small[\"test\"][0][\"speech\"], sampling_rate=timit_small[\"test\"][0][\"sampling_rate\"], return_tensors=\"pt\").input_values.to(\"cuda\")\n",
        "\n",
        "with torch.no_grad():\n",
        "  logits = model(input_values).logits\n",
        "\n",
        "pred_ids = torch.argmax(logits, dim=-1)\n",
        "\n",
        "# convert ids to tokens\n",
        "print(\" \".join(processor.tokenizer.convert_ids_to_tokens(pred_ids[0].tolist())))"
      ],
      "execution_count": null,
      "outputs": [
        {
          "output_type": "stream",
          "text": [
            "[PAD] [PAD] [PAD] [PAD] [PAD] [PAD] w w e e e | | | c [PAD] a a n n n | | | g g e e e [PAD] [PAD] t | | i i i t t t | | | [PAD] i i i [PAD] f f | | w w e e e | | | d d [PAD] [PAD] [PAD] i i i [PAD] [PAD] [PAD] [PAD] [PAD] [PAD] [PAD] g g g [PAD] [PAD] [PAD] [PAD] [PAD] [PAD] [PAD] [PAD] [PAD] [PAD] [PAD] | | h h h e e | | s s a a a i i d | | | p [PAD] [PAD] [PAD] a a a [PAD] [PAD] [PAD] t t i i e e n n t t t [PAD] l l l y y [PAD] [PAD] [PAD] [PAD] [PAD] [PAD] [PAD]\n"
          ],
          "name": "stdout"
        }
      ]
    },
    {
      "cell_type": "markdown",
      "metadata": {
        "id": "-8xx8i47s3c2"
      },
      "source": [
        "The reader can refer to [this](https://distill.pub/2017/ctc) very illustrative blog post to better understand CTC."
      ]
    },
    {
      "cell_type": "markdown",
      "metadata": {
        "id": "bbTWojrlyZO6"
      },
      "source": [
        "# Interactive ASR"
      ]
    },
    {
      "cell_type": "markdown",
      "metadata": {
        "id": "p7PG8IcKB5J5"
      },
      "source": [
        "Here we'll create a module to do inference on wav2vec2-base-960h model. It will allow the user to record audio in real-time and generate the transcription.\n",
        "\n",
        "In this part, we evaluate [facebook/wav2vec2-base-960h](https://huggingface.co/facebook/wav2vec2-base-960h) on the test set.\n",
        "\n",
        "The base model is pretrained and fine-tuned on 960 hours of Librispeech on 16kHz sampled speech audio. When using the model make sure that your speech input is also sampled at 16Khz. \n"
      ]
    },
    {
      "cell_type": "code",
      "metadata": {
        "id": "UDovDeFg3cgC"
      },
      "source": [
        "processor = Wav2Vec2Processor.from_pretrained(\"facebook/wav2vec2-base-960h\")\n",
        "model = Wav2Vec2ForCTC.from_pretrained(\"facebook/wav2vec2-base-960h\")"
      ],
      "execution_count": null,
      "outputs": []
    },
    {
      "cell_type": "code",
      "metadata": {
        "id": "YFsfI27y2fHl"
      },
      "source": [
        "!pip install torchaudio\n",
        "!pip install ffmpeg-python\n",
        "import scipy\n",
        "import torchaudio"
      ],
      "execution_count": null,
      "outputs": []
    },
    {
      "cell_type": "code",
      "metadata": {
        "id": "e9CNIrVeCQhG"
      },
      "source": [
        "from IPython.display import HTML, Audio\n",
        "from google.colab.output import eval_js\n",
        "from base64 import b64decode\n",
        "import numpy as np\n",
        "from scipy.io.wavfile import read as wav_read\n",
        "import io\n",
        "import ffmpeg\n",
        "\n",
        "AUDIO_HTML = \"\"\"\n",
        "<script>\n",
        "var my_div = document.createElement(\"DIV\");\n",
        "var my_p = document.createElement(\"P\");\n",
        "var my_btn = document.createElement(\"BUTTON\");\n",
        "var t = document.createTextNode(\"Press to start recording\");\n",
        "\n",
        "my_btn.appendChild(t);\n",
        "//my_p.appendChild(my_btn);\n",
        "my_div.appendChild(my_btn);\n",
        "document.body.appendChild(my_div);\n",
        "\n",
        "var base64data = 0;\n",
        "var reader;\n",
        "var recorder, gumStream;\n",
        "var recordButton = my_btn;\n",
        "\n",
        "var handleSuccess = function(stream) {\n",
        "  gumStream = stream;\n",
        "  var options = {\n",
        "    //bitsPerSecond: 8000, //chrome seems to ignore, always 48k\n",
        "    mimeType : 'audio/webm;codecs=opus'\n",
        "    //mimeType : 'audio/webm;codecs=pcm'\n",
        "  };            \n",
        "  //recorder = new MediaRecorder(stream, options);\n",
        "  recorder = new MediaRecorder(stream);\n",
        "  recorder.ondataavailable = function(e) {            \n",
        "    var url = URL.createObjectURL(e.data);\n",
        "    var preview = document.createElement('audio');\n",
        "    preview.controls = true;\n",
        "    preview.src = url;\n",
        "    document.body.appendChild(preview);\n",
        "\n",
        "    reader = new FileReader();\n",
        "    reader.readAsDataURL(e.data); \n",
        "    reader.onloadend = function() {\n",
        "      base64data = reader.result;\n",
        "      //console.log(\"Inside FileReader:\" + base64data);\n",
        "    }\n",
        "  };\n",
        "  recorder.start();\n",
        "  };\n",
        "\n",
        "recordButton.innerText = \"Recording... press to stop\";\n",
        "\n",
        "navigator.mediaDevices.getUserMedia({audio: true}).then(handleSuccess);\n",
        "\n",
        "\n",
        "function toggleRecording() {\n",
        "  if (recorder && recorder.state == \"recording\") {\n",
        "      recorder.stop();\n",
        "      gumStream.getAudioTracks()[0].stop();\n",
        "      recordButton.innerText = \"Saving the recording... pls wait!\"\n",
        "  }\n",
        "}\n",
        "\n",
        "// https://stackoverflow.com/a/951057\n",
        "function sleep(ms) {\n",
        "  return new Promise(resolve => setTimeout(resolve, ms));\n",
        "}\n",
        "\n",
        "var data = new Promise(resolve=>{\n",
        "//recordButton.addEventListener(\"click\", toggleRecording);\n",
        "recordButton.onclick = ()=>{\n",
        "toggleRecording()\n",
        "\n",
        "sleep(2000).then(() => {\n",
        "  // wait 2000ms for the data to be available...\n",
        "  // ideally this should use something like await...\n",
        "  //console.log(\"Inside data:\" + base64data)\n",
        "  resolve(base64data.toString())\n",
        "\n",
        "});\n",
        "\n",
        "}\n",
        "});\n",
        "      \n",
        "</script>\n",
        "\"\"\"\n",
        "\n",
        "def get_audio():\n",
        "  display(HTML(AUDIO_HTML))\n",
        "  data = eval_js(\"data\")\n",
        "  binary = b64decode(data.split(',')[1])\n",
        "  \n",
        "  process = (ffmpeg\n",
        "    .input('pipe:0')\n",
        "    .output('pipe:1', format='wav')\n",
        "    .run_async(pipe_stdin=True, pipe_stdout=True, pipe_stderr=True, quiet=True, overwrite_output=True)\n",
        "  )\n",
        "  output, err = process.communicate(input=binary)\n",
        "  \n",
        "  riff_chunk_size = len(output) - 8\n",
        "  # Break up the chunk size into four bytes, held in b.\n",
        "  q = riff_chunk_size\n",
        "  b = []\n",
        "  for i in range(4):\n",
        "      q, r = divmod(q, 256)\n",
        "      b.append(r)\n",
        "\n",
        "  # Replace bytes 4:8 in proc.stdout with the actual size of the RIFF chunk.\n",
        "  riff = output[:4] + bytes(b) + output[8:]\n",
        "\n",
        "  sr, audio = wav_read(io.BytesIO(riff))\n",
        "\n",
        "  return audio, sr"
      ],
      "execution_count": null,
      "outputs": []
    },
    {
      "cell_type": "markdown",
      "metadata": {
        "id": "xUguWMR_xYxs"
      },
      "source": [
        "Speak, record and save the audio in a .wav file."
      ]
    },
    {
      "cell_type": "code",
      "metadata": {
        "colab": {
          "base_uri": "https://localhost:8080/",
          "height": 96
        },
        "id": "qZ1fr0NvCTXB",
        "outputId": "546bdb0c-cfb6-470e-fca4-f2c967b93cdd"
      },
      "source": [
        "audio, sr = get_audio()\n",
        "scipy.io.wavfile.write('./recording.wav', sr, audio)"
      ],
      "execution_count": null,
      "outputs": [
        {
          "output_type": "display_data",
          "data": {
            "text/html": [
              "\n",
              "<script>\n",
              "var my_div = document.createElement(\"DIV\");\n",
              "var my_p = document.createElement(\"P\");\n",
              "var my_btn = document.createElement(\"BUTTON\");\n",
              "var t = document.createTextNode(\"Press to start recording\");\n",
              "\n",
              "my_btn.appendChild(t);\n",
              "//my_p.appendChild(my_btn);\n",
              "my_div.appendChild(my_btn);\n",
              "document.body.appendChild(my_div);\n",
              "\n",
              "var base64data = 0;\n",
              "var reader;\n",
              "var recorder, gumStream;\n",
              "var recordButton = my_btn;\n",
              "\n",
              "var handleSuccess = function(stream) {\n",
              "  gumStream = stream;\n",
              "  var options = {\n",
              "    //bitsPerSecond: 8000, //chrome seems to ignore, always 48k\n",
              "    mimeType : 'audio/webm;codecs=opus'\n",
              "    //mimeType : 'audio/webm;codecs=pcm'\n",
              "  };            \n",
              "  //recorder = new MediaRecorder(stream, options);\n",
              "  recorder = new MediaRecorder(stream);\n",
              "  recorder.ondataavailable = function(e) {            \n",
              "    var url = URL.createObjectURL(e.data);\n",
              "    var preview = document.createElement('audio');\n",
              "    preview.controls = true;\n",
              "    preview.src = url;\n",
              "    document.body.appendChild(preview);\n",
              "\n",
              "    reader = new FileReader();\n",
              "    reader.readAsDataURL(e.data); \n",
              "    reader.onloadend = function() {\n",
              "      base64data = reader.result;\n",
              "      //console.log(\"Inside FileReader:\" + base64data);\n",
              "    }\n",
              "  };\n",
              "  recorder.start();\n",
              "  };\n",
              "\n",
              "recordButton.innerText = \"Recording... press to stop\";\n",
              "\n",
              "navigator.mediaDevices.getUserMedia({audio: true}).then(handleSuccess);\n",
              "\n",
              "\n",
              "function toggleRecording() {\n",
              "  if (recorder && recorder.state == \"recording\") {\n",
              "      recorder.stop();\n",
              "      gumStream.getAudioTracks()[0].stop();\n",
              "      recordButton.innerText = \"Saving the recording... pls wait!\"\n",
              "  }\n",
              "}\n",
              "\n",
              "// https://stackoverflow.com/a/951057\n",
              "function sleep(ms) {\n",
              "  return new Promise(resolve => setTimeout(resolve, ms));\n",
              "}\n",
              "\n",
              "var data = new Promise(resolve=>{\n",
              "//recordButton.addEventListener(\"click\", toggleRecording);\n",
              "recordButton.onclick = ()=>{\n",
              "toggleRecording()\n",
              "\n",
              "sleep(2000).then(() => {\n",
              "  // wait 2000ms for the data to be available...\n",
              "  // ideally this should use something like await...\n",
              "  //console.log(\"Inside data:\" + base64data)\n",
              "  resolve(base64data.toString())\n",
              "\n",
              "});\n",
              "\n",
              "}\n",
              "});\n",
              "      \n",
              "</script>\n"
            ],
            "text/plain": [
              "<IPython.core.display.HTML object>"
            ]
          },
          "metadata": {
            "tags": []
          }
        }
      ]
    },
    {
      "cell_type": "markdown",
      "metadata": {
        "id": "IqU4HVg8w0qJ"
      },
      "source": [
        "Since the model is trained on 16kHz speech, the input to it should be an audio file with the same sampling rate. The user's recording will have 48000 kHz sampling rate. To match the two, we create a resampler using torchaudio and resample the audio to 16000 kHz."
      ]
    },
    {
      "cell_type": "code",
      "metadata": {
        "id": "G33tf12bBry-"
      },
      "source": [
        "waveform, sample_rate = torchaudio.load(\"./recording.wav\")\n",
        "Resample = torchaudio.transforms.Resample(orig_freq = 48000, new_freq = 16000, resampling_method = 'sinc_interpolation')\n",
        "waveform, sample_rate = Resample.forward(waveform), 16000"
      ],
      "execution_count": null,
      "outputs": []
    },
    {
      "cell_type": "markdown",
      "metadata": {
        "id": "r6Aj2eMUxhLc"
      },
      "source": [
        "This function will take the resampled waveform vector and correct sampling rate to generate the transcriptions using the wav2vec2-base-960h model."
      ]
    },
    {
      "cell_type": "code",
      "metadata": {
        "id": "K1Tsjeq66HKD",
        "colab": {
          "base_uri": "https://localhost:8080/",
          "height": 35
        },
        "outputId": "1a3d9f62-295f-4fec-c2f3-1bff42d03f96"
      },
      "source": [
        "def interactive():\n",
        "  model.to(\"cuda\")\n",
        "  input_values = processor(\n",
        "      waveform[0].tolist(), \n",
        "      sampling_rate=sample_rate, \n",
        "      return_tensors=\"pt\"\n",
        "  ).input_values.to(\"cuda\")\n",
        "\n",
        "  with torch.no_grad():\n",
        "    logits = model(input_values).logits\n",
        "\n",
        "  pred_ids = torch.argmax(logits, dim=-1)\n",
        "  # batch[\"pred_str\"] = processor.batch_decode(pred_ids)[0]\n",
        "  pred_str = processor.batch_decode(pred_ids)[0]\n",
        "  return pred_str.lower()\n",
        "\n",
        "interactive()"
      ],
      "execution_count": null,
      "outputs": [
        {
          "output_type": "execute_result",
          "data": {
            "application/vnd.google.colaboratory.intrinsic+json": {
              "type": "string"
            },
            "text/plain": [
              "'goo da istasti tostay'"
            ]
          },
          "metadata": {
            "tags": []
          },
          "execution_count": 40
        }
      ]
    },
    {
      "cell_type": "markdown",
      "metadata": {
        "id": "S91bMTxeyAms"
      },
      "source": [
        "Repeat the execution of last three cells to record different utterances and observe the transcriptions. "
      ]
    },
    {
      "cell_type": "markdown",
      "metadata": {
        "id": "9lrZOI9SJ7QS"
      },
      "source": [
        "**References**\n",
        "\n",
        "1.   Fine-Tune Wav2Vec2 for English ASR with 🤗 Transformers ([https://huggingface.co/blog/fine-tune-wav2vec2-english](https://huggingface.co/blog/fine-tune-wav2vec2-english))\n",
        "2.   Pytorch (https://pytorch.org/)\n",
        "3.   Torchaudio (https://pytorch.org/audio/stable/index.html)\n",
        "4.   Soundfile (https://pypi.org/project/SoundFile/)\n",
        "5.   Jiwer (https://pypi.org/project/jiwer/)\n",
        "6.   https://blog.addpipe.com/recording-audio-in-the-browser-using-pure-html5-and-minimal-javascript/\n",
        "7.   https://stackoverflow.com/a/18650249\n",
        "8.   https://hacks.mozilla.org/2014/06/easy-audio-capture-with-the-mediarecorder-api/\n",
        "9.   https://air.ghost.io/recording-to-an-audio-file-using-html5-and-js/\n",
        "10.  https://stackoverflow.com/a/49019356\n",
        "\n"
      ]
    }
  ]
}
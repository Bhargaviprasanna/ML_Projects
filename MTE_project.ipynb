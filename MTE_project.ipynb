{
  "nbformat": 4,
  "nbformat_minor": 0,
  "metadata": {
    "kernelspec": {
      "display_name": "Python 3",
      "language": "python",
      "name": "python3"
    },
    "language_info": {
      "codemirror_mode": {
        "name": "ipython",
        "version": 3
      },
      "file_extension": ".py",
      "mimetype": "text/x-python",
      "name": "python",
      "nbconvert_exporter": "python",
      "pygments_lexer": "ipython3",
      "version": "3.5.2"
    },
    "colab": {
      "name": "MTE_project.ipynb",
      "provenance": [],
      "collapsed_sections": []
    }
  },
  "cells": [
    {
      "cell_type": "code",
      "metadata": {
        "colab": {
          "base_uri": "https://localhost:8080/"
        },
        "id": "DvnLdcTWWqil",
        "outputId": "fd09a1c2-b01e-4026-a0af-fe3a033f03df"
      },
      "source": [
        "from google.colab import drive\n",
        "drive.mount('/content/drive')"
      ],
      "execution_count": null,
      "outputs": [
        {
          "output_type": "stream",
          "text": [
            "Mounted at /content/drive\n"
          ],
          "name": "stdout"
        }
      ]
    },
    {
      "cell_type": "markdown",
      "metadata": {
        "dc": {
          "key": "4"
        },
        "deletable": false,
        "editable": false,
        "run_control": {
          "frozen": true
        },
        "tags": [
          "context"
        ],
        "id": "_u3eN8T0UONG"
      },
      "source": [
        "## 1. American Sign Language (ASL)\n",
        "<p>American Sign Language (ASL) is the primary language used by many deaf individuals in North America, and it is also used by hard-of-hearing and hearing individuals.  The language is as rich as spoken languages and employs signs made with the hand, along with facial gestures and bodily postures.</p>\n",
        "<p><img src=\"https://assets.datacamp.com/production/project_509/img/asl.png\" alt=\"american sign language\"></p>\n",
        "<p>A lot of recent progress has been made towards developing computer vision systems that translate sign language to spoken language.  This technology  often relies on complex neural network architectures that can detect subtle patterns in streaming video.  However, as a first step, towards understanding how to build a translation system, we can reduce the size of the problem by translating individual letters, instead of sentences.</p>\n",
        "<p><strong>In this notebook</strong>, we will train a convolutional neural network to classify images of American Sign Language (ASL) letters.  After loading, examining, and preprocessing the data, we will train the network and test its performance.</p>\n",
        "<p>In the code cell below, we load the training and test data. </p>\n",
        "<ul>\n",
        "<li><code>x_train</code> and <code>x_test</code> are arrays of image data with shape <code>(num_samples, 3, 50, 50)</code>, corresponding to the training and test datasets, respectively.</li>\n",
        "<li><code>y_train</code> and <code>y_test</code> are arrays of category labels with shape <code>(num_samples,)</code>, corresponding to the training and test datasets, respectively.</li>\n",
        "</ul>"
      ]
    },
    {
      "cell_type": "code",
      "metadata": {
        "id": "WMNryDIiXLnw"
      },
      "source": [
        "# path = '/drive/MyDrive/project_2.zip (Unzipped Files)/project_2/ASL Recognition with Deep Learning/datasets'\n",
        "path = '/content/drive/MyDrive/project_2.zip (Unzipped Files)/project_2/ASL Recognition with Deep Learning/datasets/A_.zip '\n",
        "/content/drive/MyDrive/project_2.zip (Unzipped Files)/project_2/ASL Recognition with Deep Learning/datasets/A.zip (Unzipped Files)"
      ],
      "execution_count": null,
      "outputs": []
    },
    {
      "cell_type": "code",
      "metadata": {
        "colab": {
          "base_uri": "https://localhost:8080/",
          "height": 35
        },
        "id": "HW_Ggm7mG6DU",
        "outputId": "5e1d7822-988a-4526-8c24-b135cb703bf1"
      },
      "source": [
        "import random\n",
        "import numpy as np\n",
        "from keras.utils import np_utils, to_categorical\n",
        "from keras.preprocessing import image\n",
        "from os import listdir\n",
        "from os.path import isdir, join\n",
        "\n",
        "\n",
        "def load_data(container_path=path, folders=['A_', 'B_', 'C_'],\n",
        "              size=2000, test_split=0.2, seed=0):\n",
        "    \"\"\"\n",
        "    Loads sign language dataset.\n",
        "    \"\"\"\n",
        "    \n",
        "    filenames, labels = [], []\n",
        "\n",
        "    for label, folder in enumerate(folders):\n",
        "        folder_path = join(container_path, folder)\n",
        "        images = [join(folder_path, d)\n",
        "                     for d in sorted(listdir(folder_path))]\n",
        "        labels.extend(len(images) * [label])\n",
        "        filenames.extend(images)\n",
        "    \n",
        "    random.seed(seed)\n",
        "    data = list(zip(filenames, labels))\n",
        "    random.shuffle(data)\n",
        "    data = data[:size]\n",
        "    filenames, labels = zip(*data)\n",
        "\n",
        "    \n",
        "    # Get the images\n",
        "    x = paths_to_tensor(filenames).astype('float32')/255\n",
        "    # Store the one-hot targets\n",
        "    y = np.array(labels)\n",
        "\n",
        "    x_train = np.array(x[:int(len(x) * (1 - test_split))])\n",
        "    y_train = np.array(y[:int(len(x) * (1 - test_split))])\n",
        "    x_test = np.array(x[int(len(x) * (1 - test_split)):])\n",
        "    y_test = np.array(y[int(len(x) * (1 - test_split)):])\n",
        "\n",
        "    return (x_train, y_train), (x_test, y_test)\n",
        "\n",
        "\n",
        "def path_to_tensor(img_path, size):\n",
        "    # loads RGB image as PIL.Image.Image type\n",
        "    img = image.load_img(img_path, target_size=(size, size))\n",
        "    # convert PIL.Image.Image type to 3D tensor\n",
        "    x = image.img_to_array(img)\n",
        "    # convert 3D tensor to 4D tensor \n",
        "    return np.expand_dims(x, axis=0)\n",
        "\n",
        "def paths_to_tensor(img_paths, size=50):\n",
        "    list_of_tensors = [path_to_tensor(img_path, size) for img_path in img_paths]\n",
        "    return np.vstack(list_of_tensors)\n",
        "\n",
        "\n",
        "\"\"\"\n",
        "    num_types = len(data['target_names'])\n",
        "    targets = np_utils.to_categorical(np.array(data['target']), num_types)\n",
        "\"\"\""
      ],
      "execution_count": null,
      "outputs": [
        {
          "output_type": "execute_result",
          "data": {
            "application/vnd.google.colaboratory.intrinsic+json": {
              "type": "string"
            },
            "text/plain": [
              "\"\\n    num_types = len(data['target_names'])\\n    targets = np_utils.to_categorical(np.array(data['target']), num_types)\\n\""
            ]
          },
          "metadata": {
            "tags": []
          },
          "execution_count": 18
        }
      ]
    },
    {
      "cell_type": "code",
      "metadata": {
        "dc": {
          "key": "4"
        },
        "tags": [
          "sample_code"
        ],
        "id": "uikzhyi_UONQ",
        "colab": {
          "base_uri": "https://localhost:8080/",
          "height": 316
        },
        "outputId": "406edfd3-9a16-4f89-9b48-17c3e92eec64"
      },
      "source": [
        "# Import packages and set numpy random seed\n",
        "import numpy as np\n",
        "np.random.seed(5) \n",
        "import tensorflow as tf\n",
        "# tf.set_random_seed(2)\n",
        "tf.random.set_seed(2)\n",
        "# from datasets import sign_language\n",
        "import matplotlib.pyplot as plt\n",
        "%matplotlib inline\n",
        "\n",
        "# Load pre-shuffled training and test datasets\n",
        "(x_train, y_train), (x_test, y_test) = load_data()"
      ],
      "execution_count": null,
      "outputs": [
        {
          "output_type": "error",
          "ename": "FileNotFoundError",
          "evalue": "ignored",
          "traceback": [
            "\u001b[0;31m---------------------------------------------------------------------------\u001b[0m",
            "\u001b[0;31mFileNotFoundError\u001b[0m                         Traceback (most recent call last)",
            "\u001b[0;32m<ipython-input-19-4950e75fc73e>\u001b[0m in \u001b[0;36m<module>\u001b[0;34m()\u001b[0m\n\u001b[1;32m     10\u001b[0m \u001b[0;34m\u001b[0m\u001b[0m\n\u001b[1;32m     11\u001b[0m \u001b[0;31m# Load pre-shuffled training and test datasets\u001b[0m\u001b[0;34m\u001b[0m\u001b[0;34m\u001b[0m\u001b[0;34m\u001b[0m\u001b[0m\n\u001b[0;32m---> 12\u001b[0;31m \u001b[0;34m(\u001b[0m\u001b[0mx_train\u001b[0m\u001b[0;34m,\u001b[0m \u001b[0my_train\u001b[0m\u001b[0;34m)\u001b[0m\u001b[0;34m,\u001b[0m \u001b[0;34m(\u001b[0m\u001b[0mx_test\u001b[0m\u001b[0;34m,\u001b[0m \u001b[0my_test\u001b[0m\u001b[0;34m)\u001b[0m \u001b[0;34m=\u001b[0m \u001b[0mload_data\u001b[0m\u001b[0;34m(\u001b[0m\u001b[0;34m)\u001b[0m\u001b[0;34m\u001b[0m\u001b[0;34m\u001b[0m\u001b[0m\n\u001b[0m",
            "\u001b[0;32m<ipython-input-18-a8814d25db4a>\u001b[0m in \u001b[0;36mload_data\u001b[0;34m(container_path, folders, size, test_split, seed)\u001b[0m\n\u001b[1;32m     18\u001b[0m         \u001b[0mfolder_path\u001b[0m \u001b[0;34m=\u001b[0m \u001b[0mjoin\u001b[0m\u001b[0;34m(\u001b[0m\u001b[0mcontainer_path\u001b[0m\u001b[0;34m,\u001b[0m \u001b[0mfolder\u001b[0m\u001b[0;34m)\u001b[0m\u001b[0;34m\u001b[0m\u001b[0;34m\u001b[0m\u001b[0m\n\u001b[1;32m     19\u001b[0m         images = [join(folder_path, d)\n\u001b[0;32m---> 20\u001b[0;31m                      for d in sorted(listdir(folder_path))]\n\u001b[0m\u001b[1;32m     21\u001b[0m         \u001b[0mlabels\u001b[0m\u001b[0;34m.\u001b[0m\u001b[0mextend\u001b[0m\u001b[0;34m(\u001b[0m\u001b[0mlen\u001b[0m\u001b[0;34m(\u001b[0m\u001b[0mimages\u001b[0m\u001b[0;34m)\u001b[0m \u001b[0;34m*\u001b[0m \u001b[0;34m[\u001b[0m\u001b[0mlabel\u001b[0m\u001b[0;34m]\u001b[0m\u001b[0;34m)\u001b[0m\u001b[0;34m\u001b[0m\u001b[0;34m\u001b[0m\u001b[0m\n\u001b[1;32m     22\u001b[0m         \u001b[0mfilenames\u001b[0m\u001b[0;34m.\u001b[0m\u001b[0mextend\u001b[0m\u001b[0;34m(\u001b[0m\u001b[0mimages\u001b[0m\u001b[0;34m)\u001b[0m\u001b[0;34m\u001b[0m\u001b[0;34m\u001b[0m\u001b[0m\n",
            "\u001b[0;31mFileNotFoundError\u001b[0m: [Errno 2] No such file or directory: '/drive/MyDrive/project_2.zip (Unzipped Files)/project_2/ASL Recognition with Deep Learning/datasets/A_'"
          ]
        }
      ]
    },
    {
      "cell_type": "markdown",
      "metadata": {
        "dc": {
          "key": "11"
        },
        "deletable": false,
        "editable": false,
        "run_control": {
          "frozen": true
        },
        "tags": [
          "context"
        ],
        "id": "jc1PrB37UONS"
      },
      "source": [
        "## 2. Visualize the training data\n",
        "<p>Now we'll begin by creating a list of string-valued labels containing the letters that appear in the dataset.  Then, we visualize the first several images in the training data, along with their corresponding labels.</p>"
      ]
    },
    {
      "cell_type": "code",
      "metadata": {
        "dc": {
          "key": "11"
        },
        "tags": [
          "sample_code"
        ],
        "id": "P3Yva-jIUONS"
      },
      "source": [
        "# Store labels of dataset\n",
        "labels = ...\n",
        "\n",
        "# Print the first several training images, along with the labels\n",
        "fig = plt.figure(figsize=(20,5))\n",
        "for i in range(36):\n",
        "    ax = fig.add_subplot(3, 12, i + 1, xticks=[], yticks=[])\n",
        "    ax.imshow(np.squeeze(x_train[i]))\n",
        "    ax.set_title(\"{}\".format(labels[y_train[i]]))\n",
        "plt.show()"
      ],
      "execution_count": null,
      "outputs": []
    },
    {
      "cell_type": "markdown",
      "metadata": {
        "dc": {
          "key": "18"
        },
        "deletable": false,
        "editable": false,
        "run_control": {
          "frozen": true
        },
        "tags": [
          "context"
        ],
        "id": "gkZ_UNpbUONT"
      },
      "source": [
        "## 3. Examine the dataset\n",
        "<p>Let's examine how many images of each letter can be found in the dataset.</p>\n",
        "<p>Remember that dataset has already been split into training and test sets for you, where <code>x_train</code> and <code>x_test</code> contain the images, and <code>y_train</code> and <code>y_test</code> contain their corresponding labels.</p>\n",
        "<p>Each entry in <code>y_train</code> and <code>y_test</code> is one of <code>0</code>, <code>1</code>, or <code>2</code>, corresponding to the letters <code>'A'</code>, <code>'B'</code>, and <code>'C'</code>, respectively.</p>\n",
        "<p>We will use the arrays <code>y_train</code> and <code>y_test</code> to verify that both the training and test sets each have roughly equal proportions of each letter.</p>"
      ]
    },
    {
      "cell_type": "code",
      "metadata": {
        "dc": {
          "key": "18"
        },
        "tags": [
          "sample_code"
        ],
        "id": "fUjFzLwpUONT"
      },
      "source": [
        "# Number of A's in the training dataset\n",
        "num_A_train = sum(y_train==0)\n",
        "# Number of B's in the training dataset\n",
        "num_B_train = ...\n",
        "# Number of C's in the training dataset\n",
        "num_C_train = ...\n",
        "\n",
        "# Number of A's in the test dataset\n",
        "num_A_test = sum(y_test==0)\n",
        "# Number of B's in the test dataset\n",
        "num_B_test = ...\n",
        "# Number of C's in the test dataset\n",
        "num_C_test = ...\n",
        "\n",
        "# Print statistics about the dataset\n",
        "print(\"Training set:\")\n",
        "print(\"\\tA: {}, B: {}, C: {}\".format(num_A_train, num_B_train, num_C_train))\n",
        "print(\"Test set:\")\n",
        "print(\"\\tA: {}, B: {}, C: {}\".format(num_A_test, num_B_test, num_C_test))"
      ],
      "execution_count": null,
      "outputs": []
    },
    {
      "cell_type": "markdown",
      "metadata": {
        "dc": {
          "key": "25"
        },
        "deletable": false,
        "editable": false,
        "run_control": {
          "frozen": true
        },
        "tags": [
          "context"
        ],
        "id": "nmLcb8r-UONU"
      },
      "source": [
        "## 4. One-hot encode the data\n",
        "<p>Currently, our labels for each of the letters are encoded as categorical integers, where <code>'A'</code>, <code>'B'</code> and <code>'C'</code> are encoded as <code>0</code>, <code>1</code>, and <code>2</code>, respectively.  However, recall that Keras models do not accept labels in this format, and we must first one-hot encode the labels before supplying them to a Keras model.</p>\n",
        "<p>This conversion will turn the one-dimensional array of labels into a two-dimensional array.</p>\n",
        "<p><img src=\"https://assets.datacamp.com/production/project_509/img/onehot.png\" alt=\"one-hot encoding\"></p>\n",
        "<p>Each row in the two-dimensional array of one-hot encoded labels corresponds to a different image.  The row has a <code>1</code> in the column that corresponds to the correct label, and <code>0</code> elsewhere.  </p>\n",
        "<p>For instance, </p>\n",
        "<ul>\n",
        "<li><code>0</code> is encoded as <code>[1, 0, 0]</code>, </li>\n",
        "<li><code>1</code> is encoded as <code>[0, 1, 0]</code>, and </li>\n",
        "<li><code>2</code> is encoded as <code>[0, 0, 1]</code>.</li>\n",
        "</ul>"
      ]
    },
    {
      "cell_type": "code",
      "metadata": {
        "dc": {
          "key": "25"
        },
        "tags": [
          "sample_code"
        ],
        "id": "5ShE2K3iUONU"
      },
      "source": [
        "from keras.utils import np_utils\n",
        "\n",
        "# One-hot encode the training labels\n",
        "y_train_OH = ...\n",
        "\n",
        "# One-hot encode the test labels\n",
        "y_test_OH = ..."
      ],
      "execution_count": null,
      "outputs": []
    },
    {
      "cell_type": "markdown",
      "metadata": {
        "dc": {
          "key": "32"
        },
        "deletable": false,
        "editable": false,
        "run_control": {
          "frozen": true
        },
        "tags": [
          "context"
        ],
        "id": "SP50-zntUONV"
      },
      "source": [
        "## 5. Define the model\n",
        "<p>Now it's time to define a convolutional neural network to classify the data.</p>\n",
        "<p>This network accepts an image of an American Sign Language letter as input.  The output layer returns the network's predicted probabilities that the image belongs in each category.</p>"
      ]
    },
    {
      "cell_type": "code",
      "metadata": {
        "dc": {
          "key": "32"
        },
        "tags": [
          "sample_code"
        ],
        "id": "iXEEY82jUONV"
      },
      "source": [
        "from keras.layers import Conv2D, MaxPooling2D\n",
        "from keras.layers import Flatten, Dense\n",
        "from keras.models import Sequential\n",
        "\n",
        "model = Sequential()\n",
        "# First convolutional layer accepts image input\n",
        "model.add(Conv2D(filters=5, kernel_size=5, padding='same', activation='relu', \n",
        "                        input_shape=(50, 50, 3)))\n",
        "# Add a max pooling layer\n",
        "model.add(...)\n",
        "# Add a convolutional layer\n",
        "model.add(...)\n",
        "# Add another max pooling layer\n",
        "model.add(...)\n",
        "# Flatten and feed to output layer\n",
        "model.add(Flatten())\n",
        "model.add(Dense(3, activation='softmax'))\n",
        "\n",
        "# Summarize the model\n",
        "model.summary()"
      ],
      "execution_count": null,
      "outputs": []
    },
    {
      "cell_type": "markdown",
      "metadata": {
        "dc": {
          "key": "39"
        },
        "deletable": false,
        "editable": false,
        "run_control": {
          "frozen": true
        },
        "tags": [
          "context"
        ],
        "id": "MV60sUEoUONW"
      },
      "source": [
        "## 6. Compile the model\n",
        "<p>After we have defined a neural network in Keras, the next step is to compile it! </p>"
      ]
    },
    {
      "cell_type": "code",
      "metadata": {
        "dc": {
          "key": "39"
        },
        "tags": [
          "sample_code"
        ],
        "id": "hZ1aP83kUONW"
      },
      "source": [
        "# Compile the model\n",
        "model.compile(optimizer=..., \n",
        "              loss=..., \n",
        "              metrics=...)"
      ],
      "execution_count": null,
      "outputs": []
    },
    {
      "cell_type": "markdown",
      "metadata": {
        "dc": {
          "key": "46"
        },
        "deletable": false,
        "editable": false,
        "run_control": {
          "frozen": true
        },
        "tags": [
          "context"
        ],
        "id": "lCCm8DvUUONX"
      },
      "source": [
        "## 7. Train the model\n",
        "<p>Once we have compiled the model, we're ready to fit it to the training data.</p>"
      ]
    },
    {
      "cell_type": "code",
      "metadata": {
        "dc": {
          "key": "46"
        },
        "tags": [
          "sample_code"
        ],
        "id": "Gx0lkidJUONX"
      },
      "source": [
        "# Train the model\n",
        "hist = model.fit(...)"
      ],
      "execution_count": null,
      "outputs": []
    },
    {
      "cell_type": "markdown",
      "metadata": {
        "dc": {
          "key": "53"
        },
        "deletable": false,
        "editable": false,
        "run_control": {
          "frozen": true
        },
        "tags": [
          "context"
        ],
        "id": "9JyGwPOhUONY"
      },
      "source": [
        "## 8. Test the model\n",
        "<p>To evaluate the model, we'll use the test dataset.  This will tell us how the network performs when classifying images it has never seen before!</p>\n",
        "<p>If the classification accuracy on the test dataset is similar to the training dataset, this is a good sign that the model did not overfit to the training data.  </p>"
      ]
    },
    {
      "cell_type": "code",
      "metadata": {
        "dc": {
          "key": "53"
        },
        "tags": [
          "sample_code"
        ],
        "id": "jCrf2_CnUONY"
      },
      "source": [
        "# Obtain accuracy on test set\n",
        "score = model.evaluate(x=..., \n",
        "                       y=...,\n",
        "                       verbose=0)\n",
        "print('Test accuracy:', score[1])"
      ],
      "execution_count": null,
      "outputs": []
    },
    {
      "cell_type": "markdown",
      "metadata": {
        "dc": {
          "key": "61"
        },
        "deletable": false,
        "editable": false,
        "run_control": {
          "frozen": true
        },
        "tags": [
          "context"
        ],
        "id": "xCzawsWhUONY"
      },
      "source": [
        "## 9. Visualize mistakes\n",
        "<p>Hooray!  Our network gets very high accuracy on the test set!  </p>\n",
        "<p>The final step is to take a look at the images that were incorrectly classified by the model.  Do any of the mislabeled images look relatively difficult to classify, even to the human eye?  </p>\n",
        "<p>Sometimes, it's possible to review the images to discover special characteristics that are confusing to the model.  However, it is also often the case that it's hard to interpret what the model had in mind!</p>"
      ]
    },
    {
      "cell_type": "code",
      "metadata": {
        "dc": {
          "key": "61"
        },
        "tags": [
          "sample_code"
        ],
        "id": "pNts1-9fUONZ"
      },
      "source": [
        "# Get predicted probabilities for test dataset\n",
        "y_probs = ...\n",
        "\n",
        "# Get predicted labels for test dataset\n",
        "y_preds = ...\n",
        "\n",
        "# Indices corresponding to test images which were mislabeled\n",
        "bad_test_idxs = ...\n",
        "\n",
        "# Print mislabeled examples\n",
        "fig = plt.figure(figsize=(25,4))\n",
        "for i, idx in enumerate(bad_test_idxs):\n",
        "    ax = fig.add_subplot(2, np.ceil(len(bad_test_idxs)/2), i + 1, xticks=[], yticks=[])\n",
        "    ax.imshow(np.squeeze(x_test[idx]))\n",
        "    ax.set_title(\"{} (pred: {})\".format(labels[y_test[idx]], labels[y_preds[idx]]))"
      ],
      "execution_count": null,
      "outputs": []
    }
  ]
}
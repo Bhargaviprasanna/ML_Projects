{
  "nbformat": 4,
  "nbformat_minor": 0,
  "metadata": {
    "colab": {
      "name": "cosine_similarity.ipynb",
      "provenance": [],
      "collapsed_sections": [],
      "authorship_tag": "ABX9TyN4yOOt9aKtf932uyMVkgLk"
    },
    "kernelspec": {
      "name": "python3",
      "display_name": "Python 3"
    },
    "language_info": {
      "name": "python"
    }
  },
  "cells": [
    {
      "cell_type": "code",
      "metadata": {
        "colab": {
          "base_uri": "https://localhost:8080/"
        },
        "id": "i4242oGyP9lY",
        "outputId": "b611e186-190b-484c-9329-5f8e9e9c9747"
      },
      "source": [
        "# Program to measure the similarity between\n",
        "# two sentences using cosine similarity.\n",
        "import nltk\n",
        "from nltk.corpus import stopwords\n",
        "from nltk.tokenize import word_tokenize\n",
        "nltk.download('punkt')\n",
        "nltk.download('stopwords')\n",
        "\n",
        "# X = input(\"Enter first string: \").lower()\n",
        "# Y = input(\"Enter second string: \").lower()\n",
        "X =\"I love horror movies\"\n",
        "Y =\"horror movies gives me chills\"\n",
        "\n",
        "# tokenization\n",
        "X_list = word_tokenize(X)\n",
        "Y_list = word_tokenize(Y)\n",
        "\n",
        "# sw contains the list of stopwords\n",
        "sw = stopwords.words('english')\n",
        "l1 =[];l2 =[]\n",
        "\n",
        "# remove stop words from the string\n",
        "X_set = {w for w in X_list if not w in sw}\n",
        "Y_set = {w for w in Y_list if not w in sw}\n",
        "\n",
        "# form a set containing keywords of both strings\n",
        "rvector = X_set.union(Y_set)\n",
        "for w in rvector:\n",
        "\tif w in X_set: l1.append(1) # create a vector\n",
        "\telse: l1.append(0)\n",
        "\tif w in Y_set: l2.append(1)\n",
        "\telse: l2.append(0)\n",
        "c = 0\n",
        "\n",
        "# cosine formula\n",
        "for i in range(len(rvector)):\n",
        "\t\tc+= l1[i]*l2[i]\n",
        "cosine = c / float((sum(l1)*sum(l2))**0.5)\n",
        "print(\"similarity: \", cosine)\n"
      ],
      "execution_count": null,
      "outputs": [
        {
          "output_type": "stream",
          "text": [
            "[nltk_data] Downloading package punkt to /root/nltk_data...\n",
            "[nltk_data]   Package punkt is already up-to-date!\n",
            "[nltk_data] Downloading package stopwords to /root/nltk_data...\n",
            "[nltk_data]   Package stopwords is already up-to-date!\n",
            "similarity:  0.5\n"
          ],
          "name": "stdout"
        }
      ]
    },
    {
      "cell_type": "markdown",
      "metadata": {
        "id": "dM4eP9CaV6qU"
      },
      "source": [
        "# Cosine Similarity using Bag of Words"
      ]
    },
    {
      "cell_type": "code",
      "metadata": {
        "id": "SHqhvJHKAMAP"
      },
      "source": [
        "!pip install -U spacy\n",
        "!python -m spacy download en_core_web_lg"
      ],
      "execution_count": null,
      "outputs": []
    },
    {
      "cell_type": "code",
      "metadata": {
        "id": "IByoib0pVoLu"
      },
      "source": [
        "#restart runtime\n",
        "import pandas as pd\n",
        "import numpy as np\n",
        "import string\n",
        "import itertools\n",
        "import spacy\n",
        "# emmbedings = spacy.load(\"en_core_web_sm\")\n",
        "embeddings = spacy.load('en_core_web_lg')\n",
        "\t"
      ],
      "execution_count": null,
      "outputs": []
    },
    {
      "cell_type": "code",
      "metadata": {
        "id": "rSE-Qdt1Vtoj"
      },
      "source": [
        "# function to remove punctuation from text (input is a string)\n",
        "def clean_text(sentence):\n",
        "\t\n",
        "  clean_sentence = \"\".join(l.lower() for l in sentence if l not in string.punctuation)\n",
        "  print(clean_sentence)\n",
        "  return clean_sentence"
      ],
      "execution_count": null,
      "outputs": []
    },
    {
      "cell_type": "code",
      "metadata": {
        "id": "5lwSirfJVvFR"
      },
      "source": [
        "# function to calculate the cosine\n",
        "def cosine_similarity_calc(vec_1,vec_2):\n",
        "\t\n",
        "  sim = np.dot(vec_1,vec_2)/(np.linalg.norm(vec_1)*np.linalg.norm(vec_2))\n",
        "  print(sim)\n",
        "  return sim"
      ],
      "execution_count": null,
      "outputs": []
    },
    {
      "cell_type": "code",
      "metadata": {
        "id": "gVm4xmdnV2QF"
      },
      "source": [
        "# function to calculate cosine similarity using word vectors (input is a series)\n",
        "def embeddings_similarity(sentences):\n",
        "\t\n",
        "\t# first we need to get data into | sentence_a | sentence_b | format\n",
        "\tsentence_pairs = list(itertools.combinations(sentences, 2))\n",
        "\t\n",
        "\tsentence_a = [pair[0] for pair in sentence_pairs]\n",
        "\tsentence_b = [pair[1] for pair in sentence_pairs]\n",
        "\t\n",
        "\tsentence_pairs_df = pd.DataFrame({'sentence_a':sentence_a, 'sentence_b':sentence_b})\n",
        "\t\n",
        "\t# get unique combinations of sentance_a and sentance_b\n",
        "\tsentence_pairs_df = sentence_pairs_df.loc[pd.DataFrame(np.sort(sentence_pairs_df[['sentence_a', 'sentence_b']],1)\n",
        "\t\t\t\t\t\t\t\t\t\t\t\t\t\t   ,index=sentence_pairs_df.index).drop_duplicates(keep='first').index]\n",
        "\n",
        "\t# remove instances where sentence a == sentence b\n",
        "\tsentence_pairs_df = sentence_pairs_df[sentence_pairs_df['sentence_a'] != sentence_pairs_df['sentence_b']]\n",
        "\t\n",
        "\t# load word embeddings (will use these to convert sentence to vectors)\n",
        "\t# Note you will need to run the following command (from cmd) to download embeddings: \n",
        "\t# 'python -m spacy download en_core_web_lg'\n",
        "\t# embeddings = spacy.load('en_core_web_lg')\n",
        "\t\n",
        "\t# now we are ready to calculate the similarity\n",
        "\t\n",
        "\tsentence_pairs_df['similarity'] = sentence_pairs_df.apply(lambda row: cosine_similarity_calc(embeddings(clean_text(row['sentence_a'])).vector,\n",
        "\t\t\t\t\t\t\t\t\t\t\t\t\t\t\t\t\t\t\t\t\tembeddings(clean_text(row['sentence_b'])).vector), axis=1)\n",
        "\t\n",
        "\treturn sentence_pairs_df\n"
      ],
      "execution_count": null,
      "outputs": []
    },
    {
      "cell_type": "code",
      "metadata": {
        "colab": {
          "base_uri": "https://localhost:8080/"
        },
        "id": "3pvvpN0SShAU",
        "outputId": "93c2d9db-a68f-4f4a-d32b-cd6f6c3090f6"
      },
      "source": [
        "\n",
        "# calculate similarity for sample sentences\n",
        "sentences = ['Hi, how are you?', 'Hey what\\'s up?']\n",
        "print(embeddings_similarity(sentences))"
      ],
      "execution_count": null,
      "outputs": [
        {
          "output_type": "stream",
          "text": [
            "hi how are you\n",
            "hey whats up\n",
            "0.8335203\n",
            "         sentence_a      sentence_b  similarity\n",
            "0  Hi, how are you?  Hey what's up?     0.83352\n"
          ],
          "name": "stdout"
        }
      ]
    },
    {
      "cell_type": "markdown",
      "metadata": {
        "id": "L8mjuZWFYIHA"
      },
      "source": [
        "https://stackoverflow.com/questions/44862712/td-idf-find-cosine-similarity-between-new-document-and-dataset"
      ]
    },
    {
      "cell_type": "code",
      "metadata": {
        "id": "d7RpFDuLShDK"
      },
      "source": [
        "from sklearn.feature_extraction.text import TfidfVectorizer\n",
        "import pandas as pd"
      ],
      "execution_count": null,
      "outputs": []
    },
    {
      "cell_type": "code",
      "metadata": {
        "id": "NxaNCvpxShFG"
      },
      "source": [
        "vect = TfidfVectorizer()"
      ],
      "execution_count": null,
      "outputs": []
    },
    {
      "cell_type": "code",
      "metadata": {
        "id": "xGQ5fDZjDePo"
      },
      "source": [
        "text = ['Hi , how do you do?',\n",
        "         'I hope you are doing okay now?']"
      ],
      "execution_count": null,
      "outputs": []
    },
    {
      "cell_type": "code",
      "metadata": {
        "id": "KvbxnikwK01e"
      },
      "source": [
        "text1 = [\"Hello, what are you doing!\"]"
      ],
      "execution_count": null,
      "outputs": []
    },
    {
      "cell_type": "code",
      "metadata": {
        "id": "KqPteczNDluJ"
      },
      "source": [
        "embeddings = vect.fit_transform(text)"
      ],
      "execution_count": null,
      "outputs": []
    },
    {
      "cell_type": "code",
      "metadata": {
        "id": "VG6osxIvShHD"
      },
      "source": [
        "emb = vect.fit(text)\n",
        "emb = vect.transform(text1)"
      ],
      "execution_count": null,
      "outputs": []
    },
    {
      "cell_type": "code",
      "metadata": {
        "id": "zJr7l3eKShJb"
      },
      "source": [
        "from sklearn.metrics.pairwise import cosine_similarity\n",
        "op = cosine_similarity(emb, embeddings)"
      ],
      "execution_count": null,
      "outputs": []
    },
    {
      "cell_type": "code",
      "metadata": {
        "id": "cSLWxsCxShLT",
        "colab": {
          "base_uri": "https://localhost:8080/"
        },
        "outputId": "49986572-6c7e-4787-b20b-77c90ecbd0d3"
      },
      "source": [
        "op"
      ],
      "execution_count": null,
      "outputs": [
        {
          "output_type": "execute_result",
          "data": {
            "text/plain": [
              "array([[0.12536694, 0.67465842]])"
            ]
          },
          "metadata": {
            "tags": []
          },
          "execution_count": 45
        }
      ]
    },
    {
      "cell_type": "code",
      "metadata": {
        "id": "_CHAIup1ShO2"
      },
      "source": [
        ""
      ],
      "execution_count": null,
      "outputs": []
    },
    {
      "cell_type": "code",
      "metadata": {
        "id": "rxAAmF8wShQk"
      },
      "source": [
        ""
      ],
      "execution_count": null,
      "outputs": []
    },
    {
      "cell_type": "code",
      "metadata": {
        "id": "XNPfxVmjShUh"
      },
      "source": [
        ""
      ],
      "execution_count": null,
      "outputs": []
    }
  ]
}